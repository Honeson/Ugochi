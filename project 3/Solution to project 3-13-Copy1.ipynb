{
 "cells": [
  {
   "cell_type": "code",
   "execution_count": 1,
   "id": "f6956217",
   "metadata": {},
   "outputs": [],
   "source": [
    "import pandas as pd\n",
    "import numpy as np\n",
    "from collections import Counter\n",
    "import matplotlib.pyplot as plt\n",
    "import seaborn as sns\n",
    "import category_encoders as ce\n",
    "from statsmodels.stats.outliers_influence import variance_inflation_factor\n",
    "%matplotlib inline"
   ]
  },
  {
   "cell_type": "code",
   "execution_count": 2,
   "id": "4abcc2f1",
   "metadata": {},
   "outputs": [],
   "source": [
    "data = 'credit-data-training (1).xlsx'"
   ]
  },
  {
   "cell_type": "code",
   "execution_count": null,
   "id": "fd127d72",
   "metadata": {},
   "outputs": [],
   "source": []
  },
  {
   "cell_type": "code",
   "execution_count": 3,
   "id": "05250167",
   "metadata": {},
   "outputs": [],
   "source": [
    "df = pd.read_excel(data)"
   ]
  },
  {
   "cell_type": "code",
   "execution_count": 4,
   "id": "fbb6c088",
   "metadata": {},
   "outputs": [
    {
     "data": {
      "text/html": [
       "<div>\n",
       "<style scoped>\n",
       "    .dataframe tbody tr th:only-of-type {\n",
       "        vertical-align: middle;\n",
       "    }\n",
       "\n",
       "    .dataframe tbody tr th {\n",
       "        vertical-align: top;\n",
       "    }\n",
       "\n",
       "    .dataframe thead th {\n",
       "        text-align: right;\n",
       "    }\n",
       "</style>\n",
       "<table border=\"1\" class=\"dataframe\">\n",
       "  <thead>\n",
       "    <tr style=\"text-align: right;\">\n",
       "      <th></th>\n",
       "      <th>Credit-Application-Result</th>\n",
       "      <th>Account-Balance</th>\n",
       "      <th>Duration-of-Credit-Month</th>\n",
       "      <th>Payment-Status-of-Previous-Credit</th>\n",
       "      <th>Purpose</th>\n",
       "      <th>Credit-Amount</th>\n",
       "      <th>Value-Savings-Stocks</th>\n",
       "      <th>Length-of-current-employment</th>\n",
       "      <th>Instalment-per-cent</th>\n",
       "      <th>Guarantors</th>\n",
       "      <th>Duration-in-Current-address</th>\n",
       "      <th>Most-valuable-available-asset</th>\n",
       "      <th>Age-years</th>\n",
       "      <th>Concurrent-Credits</th>\n",
       "      <th>Type-of-apartment</th>\n",
       "      <th>No-of-Credits-at-this-Bank</th>\n",
       "      <th>Occupation</th>\n",
       "      <th>No-of-dependents</th>\n",
       "      <th>Telephone</th>\n",
       "      <th>Foreign-Worker</th>\n",
       "    </tr>\n",
       "  </thead>\n",
       "  <tbody>\n",
       "    <tr>\n",
       "      <th>0</th>\n",
       "      <td>Creditworthy</td>\n",
       "      <td>Some Balance</td>\n",
       "      <td>4</td>\n",
       "      <td>Paid Up</td>\n",
       "      <td>Other</td>\n",
       "      <td>1494</td>\n",
       "      <td>£100-£1000</td>\n",
       "      <td>&lt; 1yr</td>\n",
       "      <td>1</td>\n",
       "      <td>None</td>\n",
       "      <td>2.0</td>\n",
       "      <td>1</td>\n",
       "      <td>NaN</td>\n",
       "      <td>Other Banks/Depts</td>\n",
       "      <td>2</td>\n",
       "      <td>1</td>\n",
       "      <td>1</td>\n",
       "      <td>2</td>\n",
       "      <td>1</td>\n",
       "      <td>2</td>\n",
       "    </tr>\n",
       "    <tr>\n",
       "      <th>1</th>\n",
       "      <td>Creditworthy</td>\n",
       "      <td>Some Balance</td>\n",
       "      <td>4</td>\n",
       "      <td>Paid Up</td>\n",
       "      <td>Home Related</td>\n",
       "      <td>1494</td>\n",
       "      <td>£100-£1000</td>\n",
       "      <td>&lt; 1yr</td>\n",
       "      <td>1</td>\n",
       "      <td>None</td>\n",
       "      <td>2.0</td>\n",
       "      <td>1</td>\n",
       "      <td>29.0</td>\n",
       "      <td>Other Banks/Depts</td>\n",
       "      <td>2</td>\n",
       "      <td>1</td>\n",
       "      <td>1</td>\n",
       "      <td>2</td>\n",
       "      <td>1</td>\n",
       "      <td>2</td>\n",
       "    </tr>\n",
       "    <tr>\n",
       "      <th>2</th>\n",
       "      <td>Creditworthy</td>\n",
       "      <td>Some Balance</td>\n",
       "      <td>4</td>\n",
       "      <td>No Problems (in this bank)</td>\n",
       "      <td>Home Related</td>\n",
       "      <td>1544</td>\n",
       "      <td>None</td>\n",
       "      <td>1-4 yrs</td>\n",
       "      <td>2</td>\n",
       "      <td>None</td>\n",
       "      <td>1.0</td>\n",
       "      <td>1</td>\n",
       "      <td>42.0</td>\n",
       "      <td>Other Banks/Depts</td>\n",
       "      <td>2</td>\n",
       "      <td>More than 1</td>\n",
       "      <td>1</td>\n",
       "      <td>2</td>\n",
       "      <td>1</td>\n",
       "      <td>1</td>\n",
       "    </tr>\n",
       "    <tr>\n",
       "      <th>3</th>\n",
       "      <td>Creditworthy</td>\n",
       "      <td>Some Balance</td>\n",
       "      <td>4</td>\n",
       "      <td>No Problems (in this bank)</td>\n",
       "      <td>Home Related</td>\n",
       "      <td>3380</td>\n",
       "      <td>None</td>\n",
       "      <td>1-4 yrs</td>\n",
       "      <td>1</td>\n",
       "      <td>None</td>\n",
       "      <td>1.0</td>\n",
       "      <td>1</td>\n",
       "      <td>37.0</td>\n",
       "      <td>Other Banks/Depts</td>\n",
       "      <td>2</td>\n",
       "      <td>1</td>\n",
       "      <td>1</td>\n",
       "      <td>2</td>\n",
       "      <td>1</td>\n",
       "      <td>1</td>\n",
       "    </tr>\n",
       "    <tr>\n",
       "      <th>4</th>\n",
       "      <td>Creditworthy</td>\n",
       "      <td>No Account</td>\n",
       "      <td>6</td>\n",
       "      <td>Paid Up</td>\n",
       "      <td>Home Related</td>\n",
       "      <td>343</td>\n",
       "      <td>None</td>\n",
       "      <td>&lt; 1yr</td>\n",
       "      <td>4</td>\n",
       "      <td>None</td>\n",
       "      <td>1.0</td>\n",
       "      <td>1</td>\n",
       "      <td>27.0</td>\n",
       "      <td>Other Banks/Depts</td>\n",
       "      <td>2</td>\n",
       "      <td>1</td>\n",
       "      <td>1</td>\n",
       "      <td>1</td>\n",
       "      <td>1</td>\n",
       "      <td>1</td>\n",
       "    </tr>\n",
       "  </tbody>\n",
       "</table>\n",
       "</div>"
      ],
      "text/plain": [
       "  Credit-Application-Result Account-Balance  Duration-of-Credit-Month  \\\n",
       "0              Creditworthy    Some Balance                         4   \n",
       "1              Creditworthy    Some Balance                         4   \n",
       "2              Creditworthy    Some Balance                         4   \n",
       "3              Creditworthy    Some Balance                         4   \n",
       "4              Creditworthy      No Account                         6   \n",
       "\n",
       "  Payment-Status-of-Previous-Credit       Purpose  Credit-Amount  \\\n",
       "0                           Paid Up         Other           1494   \n",
       "1                           Paid Up  Home Related           1494   \n",
       "2        No Problems (in this bank)  Home Related           1544   \n",
       "3        No Problems (in this bank)  Home Related           3380   \n",
       "4                           Paid Up  Home Related            343   \n",
       "\n",
       "  Value-Savings-Stocks Length-of-current-employment  Instalment-per-cent  \\\n",
       "0           £100-£1000                        < 1yr                    1   \n",
       "1           £100-£1000                        < 1yr                    1   \n",
       "2                 None                      1-4 yrs                    2   \n",
       "3                 None                      1-4 yrs                    1   \n",
       "4                 None                        < 1yr                    4   \n",
       "\n",
       "  Guarantors  Duration-in-Current-address  Most-valuable-available-asset  \\\n",
       "0       None                          2.0                              1   \n",
       "1       None                          2.0                              1   \n",
       "2       None                          1.0                              1   \n",
       "3       None                          1.0                              1   \n",
       "4       None                          1.0                              1   \n",
       "\n",
       "   Age-years Concurrent-Credits  Type-of-apartment No-of-Credits-at-this-Bank  \\\n",
       "0        NaN  Other Banks/Depts                  2                          1   \n",
       "1       29.0  Other Banks/Depts                  2                          1   \n",
       "2       42.0  Other Banks/Depts                  2                More than 1   \n",
       "3       37.0  Other Banks/Depts                  2                          1   \n",
       "4       27.0  Other Banks/Depts                  2                          1   \n",
       "\n",
       "   Occupation  No-of-dependents  Telephone  Foreign-Worker  \n",
       "0           1                 2          1               2  \n",
       "1           1                 2          1               2  \n",
       "2           1                 2          1               1  \n",
       "3           1                 2          1               1  \n",
       "4           1                 1          1               1  "
      ]
     },
     "execution_count": 4,
     "metadata": {},
     "output_type": "execute_result"
    }
   ],
   "source": [
    "df.head()"
   ]
  },
  {
   "cell_type": "code",
   "execution_count": 5,
   "id": "68a0c3ad",
   "metadata": {},
   "outputs": [
    {
     "data": {
      "text/html": [
       "<div>\n",
       "<style scoped>\n",
       "    .dataframe tbody tr th:only-of-type {\n",
       "        vertical-align: middle;\n",
       "    }\n",
       "\n",
       "    .dataframe tbody tr th {\n",
       "        vertical-align: top;\n",
       "    }\n",
       "\n",
       "    .dataframe thead th {\n",
       "        text-align: right;\n",
       "    }\n",
       "</style>\n",
       "<table border=\"1\" class=\"dataframe\">\n",
       "  <thead>\n",
       "    <tr style=\"text-align: right;\">\n",
       "      <th></th>\n",
       "      <th>Credit-Application-Result</th>\n",
       "      <th>Account-Balance</th>\n",
       "      <th>Duration-of-Credit-Month</th>\n",
       "      <th>Payment-Status-of-Previous-Credit</th>\n",
       "      <th>Purpose</th>\n",
       "      <th>Credit-Amount</th>\n",
       "      <th>Value-Savings-Stocks</th>\n",
       "      <th>Length-of-current-employment</th>\n",
       "      <th>Instalment-per-cent</th>\n",
       "      <th>Guarantors</th>\n",
       "      <th>Duration-in-Current-address</th>\n",
       "      <th>Most-valuable-available-asset</th>\n",
       "      <th>Age-years</th>\n",
       "      <th>Concurrent-Credits</th>\n",
       "      <th>Type-of-apartment</th>\n",
       "      <th>No-of-Credits-at-this-Bank</th>\n",
       "      <th>Occupation</th>\n",
       "      <th>No-of-dependents</th>\n",
       "      <th>Telephone</th>\n",
       "      <th>Foreign-Worker</th>\n",
       "    </tr>\n",
       "  </thead>\n",
       "  <tbody>\n",
       "    <tr>\n",
       "      <th>0</th>\n",
       "      <td>Creditworthy</td>\n",
       "      <td>Some Balance</td>\n",
       "      <td>4</td>\n",
       "      <td>Paid Up</td>\n",
       "      <td>Other</td>\n",
       "      <td>1494</td>\n",
       "      <td>£100-£1000</td>\n",
       "      <td>&lt; 1yr</td>\n",
       "      <td>1</td>\n",
       "      <td>None</td>\n",
       "      <td>2.0</td>\n",
       "      <td>1</td>\n",
       "      <td>NaN</td>\n",
       "      <td>Other Banks/Depts</td>\n",
       "      <td>2</td>\n",
       "      <td>1</td>\n",
       "      <td>1</td>\n",
       "      <td>2</td>\n",
       "      <td>1</td>\n",
       "      <td>2</td>\n",
       "    </tr>\n",
       "    <tr>\n",
       "      <th>1</th>\n",
       "      <td>Creditworthy</td>\n",
       "      <td>Some Balance</td>\n",
       "      <td>4</td>\n",
       "      <td>Paid Up</td>\n",
       "      <td>Home Related</td>\n",
       "      <td>1494</td>\n",
       "      <td>£100-£1000</td>\n",
       "      <td>&lt; 1yr</td>\n",
       "      <td>1</td>\n",
       "      <td>None</td>\n",
       "      <td>2.0</td>\n",
       "      <td>1</td>\n",
       "      <td>29.0</td>\n",
       "      <td>Other Banks/Depts</td>\n",
       "      <td>2</td>\n",
       "      <td>1</td>\n",
       "      <td>1</td>\n",
       "      <td>2</td>\n",
       "      <td>1</td>\n",
       "      <td>2</td>\n",
       "    </tr>\n",
       "    <tr>\n",
       "      <th>2</th>\n",
       "      <td>Creditworthy</td>\n",
       "      <td>Some Balance</td>\n",
       "      <td>4</td>\n",
       "      <td>No Problems (in this bank)</td>\n",
       "      <td>Home Related</td>\n",
       "      <td>1544</td>\n",
       "      <td>None</td>\n",
       "      <td>1-4 yrs</td>\n",
       "      <td>2</td>\n",
       "      <td>None</td>\n",
       "      <td>1.0</td>\n",
       "      <td>1</td>\n",
       "      <td>42.0</td>\n",
       "      <td>Other Banks/Depts</td>\n",
       "      <td>2</td>\n",
       "      <td>More than 1</td>\n",
       "      <td>1</td>\n",
       "      <td>2</td>\n",
       "      <td>1</td>\n",
       "      <td>1</td>\n",
       "    </tr>\n",
       "    <tr>\n",
       "      <th>3</th>\n",
       "      <td>Creditworthy</td>\n",
       "      <td>Some Balance</td>\n",
       "      <td>4</td>\n",
       "      <td>No Problems (in this bank)</td>\n",
       "      <td>Home Related</td>\n",
       "      <td>3380</td>\n",
       "      <td>None</td>\n",
       "      <td>1-4 yrs</td>\n",
       "      <td>1</td>\n",
       "      <td>None</td>\n",
       "      <td>1.0</td>\n",
       "      <td>1</td>\n",
       "      <td>37.0</td>\n",
       "      <td>Other Banks/Depts</td>\n",
       "      <td>2</td>\n",
       "      <td>1</td>\n",
       "      <td>1</td>\n",
       "      <td>2</td>\n",
       "      <td>1</td>\n",
       "      <td>1</td>\n",
       "    </tr>\n",
       "    <tr>\n",
       "      <th>4</th>\n",
       "      <td>Creditworthy</td>\n",
       "      <td>No Account</td>\n",
       "      <td>6</td>\n",
       "      <td>Paid Up</td>\n",
       "      <td>Home Related</td>\n",
       "      <td>343</td>\n",
       "      <td>None</td>\n",
       "      <td>&lt; 1yr</td>\n",
       "      <td>4</td>\n",
       "      <td>None</td>\n",
       "      <td>1.0</td>\n",
       "      <td>1</td>\n",
       "      <td>27.0</td>\n",
       "      <td>Other Banks/Depts</td>\n",
       "      <td>2</td>\n",
       "      <td>1</td>\n",
       "      <td>1</td>\n",
       "      <td>1</td>\n",
       "      <td>1</td>\n",
       "      <td>1</td>\n",
       "    </tr>\n",
       "    <tr>\n",
       "      <th>...</th>\n",
       "      <td>...</td>\n",
       "      <td>...</td>\n",
       "      <td>...</td>\n",
       "      <td>...</td>\n",
       "      <td>...</td>\n",
       "      <td>...</td>\n",
       "      <td>...</td>\n",
       "      <td>...</td>\n",
       "      <td>...</td>\n",
       "      <td>...</td>\n",
       "      <td>...</td>\n",
       "      <td>...</td>\n",
       "      <td>...</td>\n",
       "      <td>...</td>\n",
       "      <td>...</td>\n",
       "      <td>...</td>\n",
       "      <td>...</td>\n",
       "      <td>...</td>\n",
       "      <td>...</td>\n",
       "      <td>...</td>\n",
       "    </tr>\n",
       "    <tr>\n",
       "      <th>495</th>\n",
       "      <td>Creditworthy</td>\n",
       "      <td>No Account</td>\n",
       "      <td>60</td>\n",
       "      <td>No Problems (in this bank)</td>\n",
       "      <td>Other</td>\n",
       "      <td>7418</td>\n",
       "      <td>£100-£1000</td>\n",
       "      <td>&lt; 1yr</td>\n",
       "      <td>1</td>\n",
       "      <td>None</td>\n",
       "      <td>1.0</td>\n",
       "      <td>1</td>\n",
       "      <td>NaN</td>\n",
       "      <td>Other Banks/Depts</td>\n",
       "      <td>2</td>\n",
       "      <td>1</td>\n",
       "      <td>1</td>\n",
       "      <td>1</td>\n",
       "      <td>1</td>\n",
       "      <td>1</td>\n",
       "    </tr>\n",
       "    <tr>\n",
       "      <th>496</th>\n",
       "      <td>Creditworthy</td>\n",
       "      <td>No Account</td>\n",
       "      <td>60</td>\n",
       "      <td>No Problems (in this bank)</td>\n",
       "      <td>Home Related</td>\n",
       "      <td>7418</td>\n",
       "      <td>£100-£1000</td>\n",
       "      <td>&lt; 1yr</td>\n",
       "      <td>1</td>\n",
       "      <td>None</td>\n",
       "      <td>1.0</td>\n",
       "      <td>1</td>\n",
       "      <td>27.0</td>\n",
       "      <td>Other Banks/Depts</td>\n",
       "      <td>2</td>\n",
       "      <td>1</td>\n",
       "      <td>1</td>\n",
       "      <td>1</td>\n",
       "      <td>1</td>\n",
       "      <td>1</td>\n",
       "    </tr>\n",
       "    <tr>\n",
       "      <th>497</th>\n",
       "      <td>Creditworthy</td>\n",
       "      <td>No Account</td>\n",
       "      <td>60</td>\n",
       "      <td>No Problems (in this bank)</td>\n",
       "      <td>Home Related</td>\n",
       "      <td>9157</td>\n",
       "      <td>£100-£1000</td>\n",
       "      <td>&lt; 1yr</td>\n",
       "      <td>2</td>\n",
       "      <td>None</td>\n",
       "      <td>NaN</td>\n",
       "      <td>4</td>\n",
       "      <td>27.0</td>\n",
       "      <td>Other Banks/Depts</td>\n",
       "      <td>3</td>\n",
       "      <td>1</td>\n",
       "      <td>1</td>\n",
       "      <td>1</td>\n",
       "      <td>1</td>\n",
       "      <td>1</td>\n",
       "    </tr>\n",
       "    <tr>\n",
       "      <th>498</th>\n",
       "      <td>Creditworthy</td>\n",
       "      <td>Some Balance</td>\n",
       "      <td>60</td>\n",
       "      <td>No Problems (in this bank)</td>\n",
       "      <td>Home Related</td>\n",
       "      <td>13756</td>\n",
       "      <td>£100-£1000</td>\n",
       "      <td>4-7 yrs</td>\n",
       "      <td>2</td>\n",
       "      <td>None</td>\n",
       "      <td>NaN</td>\n",
       "      <td>4</td>\n",
       "      <td>63.0</td>\n",
       "      <td>Other Banks/Depts</td>\n",
       "      <td>3</td>\n",
       "      <td>1</td>\n",
       "      <td>1</td>\n",
       "      <td>1</td>\n",
       "      <td>2</td>\n",
       "      <td>1</td>\n",
       "    </tr>\n",
       "    <tr>\n",
       "      <th>499</th>\n",
       "      <td>Non-Creditworthy</td>\n",
       "      <td>No Account</td>\n",
       "      <td>60</td>\n",
       "      <td>Paid Up</td>\n",
       "      <td>Home Related</td>\n",
       "      <td>14027</td>\n",
       "      <td>None</td>\n",
       "      <td>1-4 yrs</td>\n",
       "      <td>4</td>\n",
       "      <td>None</td>\n",
       "      <td>NaN</td>\n",
       "      <td>4</td>\n",
       "      <td>27.0</td>\n",
       "      <td>Other Banks/Depts</td>\n",
       "      <td>2</td>\n",
       "      <td>1</td>\n",
       "      <td>1</td>\n",
       "      <td>1</td>\n",
       "      <td>2</td>\n",
       "      <td>1</td>\n",
       "    </tr>\n",
       "  </tbody>\n",
       "</table>\n",
       "<p>500 rows × 20 columns</p>\n",
       "</div>"
      ],
      "text/plain": [
       "    Credit-Application-Result Account-Balance  Duration-of-Credit-Month  \\\n",
       "0                Creditworthy    Some Balance                         4   \n",
       "1                Creditworthy    Some Balance                         4   \n",
       "2                Creditworthy    Some Balance                         4   \n",
       "3                Creditworthy    Some Balance                         4   \n",
       "4                Creditworthy      No Account                         6   \n",
       "..                        ...             ...                       ...   \n",
       "495              Creditworthy      No Account                        60   \n",
       "496              Creditworthy      No Account                        60   \n",
       "497              Creditworthy      No Account                        60   \n",
       "498              Creditworthy    Some Balance                        60   \n",
       "499          Non-Creditworthy      No Account                        60   \n",
       "\n",
       "    Payment-Status-of-Previous-Credit       Purpose  Credit-Amount  \\\n",
       "0                             Paid Up         Other           1494   \n",
       "1                             Paid Up  Home Related           1494   \n",
       "2          No Problems (in this bank)  Home Related           1544   \n",
       "3          No Problems (in this bank)  Home Related           3380   \n",
       "4                             Paid Up  Home Related            343   \n",
       "..                                ...           ...            ...   \n",
       "495        No Problems (in this bank)         Other           7418   \n",
       "496        No Problems (in this bank)  Home Related           7418   \n",
       "497        No Problems (in this bank)  Home Related           9157   \n",
       "498        No Problems (in this bank)  Home Related          13756   \n",
       "499                           Paid Up  Home Related          14027   \n",
       "\n",
       "    Value-Savings-Stocks Length-of-current-employment  Instalment-per-cent  \\\n",
       "0             £100-£1000                        < 1yr                    1   \n",
       "1             £100-£1000                        < 1yr                    1   \n",
       "2                   None                      1-4 yrs                    2   \n",
       "3                   None                      1-4 yrs                    1   \n",
       "4                   None                        < 1yr                    4   \n",
       "..                   ...                          ...                  ...   \n",
       "495           £100-£1000                        < 1yr                    1   \n",
       "496           £100-£1000                        < 1yr                    1   \n",
       "497           £100-£1000                        < 1yr                    2   \n",
       "498           £100-£1000                      4-7 yrs                    2   \n",
       "499                 None                      1-4 yrs                    4   \n",
       "\n",
       "    Guarantors  Duration-in-Current-address  Most-valuable-available-asset  \\\n",
       "0         None                          2.0                              1   \n",
       "1         None                          2.0                              1   \n",
       "2         None                          1.0                              1   \n",
       "3         None                          1.0                              1   \n",
       "4         None                          1.0                              1   \n",
       "..         ...                          ...                            ...   \n",
       "495       None                          1.0                              1   \n",
       "496       None                          1.0                              1   \n",
       "497       None                          NaN                              4   \n",
       "498       None                          NaN                              4   \n",
       "499       None                          NaN                              4   \n",
       "\n",
       "     Age-years Concurrent-Credits  Type-of-apartment  \\\n",
       "0          NaN  Other Banks/Depts                  2   \n",
       "1         29.0  Other Banks/Depts                  2   \n",
       "2         42.0  Other Banks/Depts                  2   \n",
       "3         37.0  Other Banks/Depts                  2   \n",
       "4         27.0  Other Banks/Depts                  2   \n",
       "..         ...                ...                ...   \n",
       "495        NaN  Other Banks/Depts                  2   \n",
       "496       27.0  Other Banks/Depts                  2   \n",
       "497       27.0  Other Banks/Depts                  3   \n",
       "498       63.0  Other Banks/Depts                  3   \n",
       "499       27.0  Other Banks/Depts                  2   \n",
       "\n",
       "    No-of-Credits-at-this-Bank  Occupation  No-of-dependents  Telephone  \\\n",
       "0                            1           1                 2          1   \n",
       "1                            1           1                 2          1   \n",
       "2                  More than 1           1                 2          1   \n",
       "3                            1           1                 2          1   \n",
       "4                            1           1                 1          1   \n",
       "..                         ...         ...               ...        ...   \n",
       "495                          1           1                 1          1   \n",
       "496                          1           1                 1          1   \n",
       "497                          1           1                 1          1   \n",
       "498                          1           1                 1          2   \n",
       "499                          1           1                 1          2   \n",
       "\n",
       "     Foreign-Worker  \n",
       "0                 2  \n",
       "1                 2  \n",
       "2                 1  \n",
       "3                 1  \n",
       "4                 1  \n",
       "..              ...  \n",
       "495               1  \n",
       "496               1  \n",
       "497               1  \n",
       "498               1  \n",
       "499               1  \n",
       "\n",
       "[500 rows x 20 columns]"
      ]
     },
     "execution_count": 5,
     "metadata": {},
     "output_type": "execute_result"
    }
   ],
   "source": [
    "df"
   ]
  },
  {
   "cell_type": "code",
   "execution_count": 6,
   "id": "efdba4fc",
   "metadata": {},
   "outputs": [
    {
     "data": {
      "text/html": [
       "<div>\n",
       "<style scoped>\n",
       "    .dataframe tbody tr th:only-of-type {\n",
       "        vertical-align: middle;\n",
       "    }\n",
       "\n",
       "    .dataframe tbody tr th {\n",
       "        vertical-align: top;\n",
       "    }\n",
       "\n",
       "    .dataframe thead th {\n",
       "        text-align: right;\n",
       "    }\n",
       "</style>\n",
       "<table border=\"1\" class=\"dataframe\">\n",
       "  <thead>\n",
       "    <tr style=\"text-align: right;\">\n",
       "      <th></th>\n",
       "      <th>Duration-of-Credit-Month</th>\n",
       "      <th>Credit-Amount</th>\n",
       "      <th>Instalment-per-cent</th>\n",
       "      <th>Duration-in-Current-address</th>\n",
       "      <th>Most-valuable-available-asset</th>\n",
       "      <th>Age-years</th>\n",
       "      <th>Type-of-apartment</th>\n",
       "      <th>Occupation</th>\n",
       "      <th>No-of-dependents</th>\n",
       "      <th>Telephone</th>\n",
       "      <th>Foreign-Worker</th>\n",
       "    </tr>\n",
       "  </thead>\n",
       "  <tbody>\n",
       "    <tr>\n",
       "      <th>count</th>\n",
       "      <td>500.00000</td>\n",
       "      <td>500.000000</td>\n",
       "      <td>500.000000</td>\n",
       "      <td>156.000000</td>\n",
       "      <td>500.000000</td>\n",
       "      <td>488.000000</td>\n",
       "      <td>500.000000</td>\n",
       "      <td>500.0</td>\n",
       "      <td>500.00000</td>\n",
       "      <td>500.000000</td>\n",
       "      <td>500.000000</td>\n",
       "    </tr>\n",
       "    <tr>\n",
       "      <th>mean</th>\n",
       "      <td>21.43400</td>\n",
       "      <td>3199.980000</td>\n",
       "      <td>3.010000</td>\n",
       "      <td>2.660256</td>\n",
       "      <td>2.360000</td>\n",
       "      <td>35.637295</td>\n",
       "      <td>1.928000</td>\n",
       "      <td>1.0</td>\n",
       "      <td>1.14600</td>\n",
       "      <td>1.400000</td>\n",
       "      <td>1.038000</td>\n",
       "    </tr>\n",
       "    <tr>\n",
       "      <th>std</th>\n",
       "      <td>12.30742</td>\n",
       "      <td>2831.386861</td>\n",
       "      <td>1.113724</td>\n",
       "      <td>1.150017</td>\n",
       "      <td>1.064268</td>\n",
       "      <td>11.501522</td>\n",
       "      <td>0.539814</td>\n",
       "      <td>0.0</td>\n",
       "      <td>0.35346</td>\n",
       "      <td>0.490389</td>\n",
       "      <td>0.191388</td>\n",
       "    </tr>\n",
       "    <tr>\n",
       "      <th>min</th>\n",
       "      <td>4.00000</td>\n",
       "      <td>276.000000</td>\n",
       "      <td>1.000000</td>\n",
       "      <td>1.000000</td>\n",
       "      <td>1.000000</td>\n",
       "      <td>19.000000</td>\n",
       "      <td>1.000000</td>\n",
       "      <td>1.0</td>\n",
       "      <td>1.00000</td>\n",
       "      <td>1.000000</td>\n",
       "      <td>1.000000</td>\n",
       "    </tr>\n",
       "    <tr>\n",
       "      <th>25%</th>\n",
       "      <td>12.00000</td>\n",
       "      <td>1357.250000</td>\n",
       "      <td>2.000000</td>\n",
       "      <td>2.000000</td>\n",
       "      <td>1.000000</td>\n",
       "      <td>27.000000</td>\n",
       "      <td>2.000000</td>\n",
       "      <td>1.0</td>\n",
       "      <td>1.00000</td>\n",
       "      <td>1.000000</td>\n",
       "      <td>1.000000</td>\n",
       "    </tr>\n",
       "    <tr>\n",
       "      <th>50%</th>\n",
       "      <td>18.00000</td>\n",
       "      <td>2236.500000</td>\n",
       "      <td>3.000000</td>\n",
       "      <td>2.000000</td>\n",
       "      <td>3.000000</td>\n",
       "      <td>33.000000</td>\n",
       "      <td>2.000000</td>\n",
       "      <td>1.0</td>\n",
       "      <td>1.00000</td>\n",
       "      <td>1.000000</td>\n",
       "      <td>1.000000</td>\n",
       "    </tr>\n",
       "    <tr>\n",
       "      <th>75%</th>\n",
       "      <td>24.00000</td>\n",
       "      <td>3941.500000</td>\n",
       "      <td>4.000000</td>\n",
       "      <td>4.000000</td>\n",
       "      <td>3.000000</td>\n",
       "      <td>42.000000</td>\n",
       "      <td>2.000000</td>\n",
       "      <td>1.0</td>\n",
       "      <td>1.00000</td>\n",
       "      <td>2.000000</td>\n",
       "      <td>1.000000</td>\n",
       "    </tr>\n",
       "    <tr>\n",
       "      <th>max</th>\n",
       "      <td>60.00000</td>\n",
       "      <td>18424.000000</td>\n",
       "      <td>4.000000</td>\n",
       "      <td>4.000000</td>\n",
       "      <td>4.000000</td>\n",
       "      <td>75.000000</td>\n",
       "      <td>3.000000</td>\n",
       "      <td>1.0</td>\n",
       "      <td>2.00000</td>\n",
       "      <td>2.000000</td>\n",
       "      <td>2.000000</td>\n",
       "    </tr>\n",
       "  </tbody>\n",
       "</table>\n",
       "</div>"
      ],
      "text/plain": [
       "       Duration-of-Credit-Month  Credit-Amount  Instalment-per-cent  \\\n",
       "count                 500.00000     500.000000           500.000000   \n",
       "mean                   21.43400    3199.980000             3.010000   \n",
       "std                    12.30742    2831.386861             1.113724   \n",
       "min                     4.00000     276.000000             1.000000   \n",
       "25%                    12.00000    1357.250000             2.000000   \n",
       "50%                    18.00000    2236.500000             3.000000   \n",
       "75%                    24.00000    3941.500000             4.000000   \n",
       "max                    60.00000   18424.000000             4.000000   \n",
       "\n",
       "       Duration-in-Current-address  Most-valuable-available-asset   Age-years  \\\n",
       "count                   156.000000                     500.000000  488.000000   \n",
       "mean                      2.660256                       2.360000   35.637295   \n",
       "std                       1.150017                       1.064268   11.501522   \n",
       "min                       1.000000                       1.000000   19.000000   \n",
       "25%                       2.000000                       1.000000   27.000000   \n",
       "50%                       2.000000                       3.000000   33.000000   \n",
       "75%                       4.000000                       3.000000   42.000000   \n",
       "max                       4.000000                       4.000000   75.000000   \n",
       "\n",
       "       Type-of-apartment  Occupation  No-of-dependents   Telephone  \\\n",
       "count         500.000000       500.0         500.00000  500.000000   \n",
       "mean            1.928000         1.0           1.14600    1.400000   \n",
       "std             0.539814         0.0           0.35346    0.490389   \n",
       "min             1.000000         1.0           1.00000    1.000000   \n",
       "25%             2.000000         1.0           1.00000    1.000000   \n",
       "50%             2.000000         1.0           1.00000    1.000000   \n",
       "75%             2.000000         1.0           1.00000    2.000000   \n",
       "max             3.000000         1.0           2.00000    2.000000   \n",
       "\n",
       "       Foreign-Worker  \n",
       "count      500.000000  \n",
       "mean         1.038000  \n",
       "std          0.191388  \n",
       "min          1.000000  \n",
       "25%          1.000000  \n",
       "50%          1.000000  \n",
       "75%          1.000000  \n",
       "max          2.000000  "
      ]
     },
     "execution_count": 6,
     "metadata": {},
     "output_type": "execute_result"
    }
   ],
   "source": [
    "df.describe()"
   ]
  },
  {
   "cell_type": "markdown",
   "id": "1a1cb699",
   "metadata": {},
   "source": [
    "Before we drop any column, let us first of all check for low variability. These are those variables that have almost the same values through all examples in the dataset"
   ]
  },
  {
   "cell_type": "code",
   "execution_count": 7,
   "id": "fa9c8c0d",
   "metadata": {},
   "outputs": [
    {
     "name": "stdout",
     "output_type": "stream",
     "text": [
      "Credit-Application-Result -- Counter({'Creditworthy': 358, 'Non-Creditworthy': 142})\n",
      "Account-Balance -- Counter({'No Account': 262, 'Some Balance': 238})\n",
      "Duration-of-Credit-Month -- Counter({24: 108, 12: 92, 18: 45, 36: 41, 6: 34, 9: 27, 48: 27, 15: 24, 30: 18, 21: 13, 10: 11, 60: 8, 8: 5, 11: 5, 27: 5, 42: 5, 4: 4, 20: 4, 45: 4, 7: 3, 28: 3, 33: 3, 39: 3, 14: 2, 13: 1, 16: 1, 22: 1, 26: 1, 40: 1, 47: 1})\n",
      "Payment-Status-of-Previous-Credit -- Counter({'Paid Up': 260, 'No Problems (in this bank)': 204, 'Some Problems': 36})\n",
      "Purpose -- Counter({'Home Related': 355, 'Used car': 83, 'New car': 47, 'Other': 15})\n",
      "Credit-Amount -- Counter({1258: 3, 3017: 3, 1494: 2, 1374: 2, 1449: 2, 2978: 2, 1154: 2, 1199: 2, 1364: 2, 1549: 2, 1919: 2, 1240: 2, 1275: 2, 1546: 2, 2241: 2, 701: 2, 717: 2, 797: 2, 930: 2, 1386: 2, 1402: 2, 1409: 2, 1424: 2, 1736: 2, 2171: 2, 1442: 2, 1553: 2, 2235: 2, 2384: 2, 3617: 2, 5103: 2, 1867: 2, 14318: 2, 7418: 2, 1544: 1, 3380: 1, 343: 1, 362: 1, 433: 1, 454: 1, 484: 1, 660: 1, 666: 1, 700: 1, 709: 1, 932: 1, 1047: 1, 1068: 1, 1203: 1, 1221: 1, 1236: 1, 1338: 1, 1346: 1, 1361: 1, 1538: 1, 1543: 1, 1898: 1, 2063: 1, 2108: 1, 2116: 1, 3676: 1, 4611: 1, 4716: 1, 6761: 1, 14555: 1, 14896: 1, 730: 1, 846: 1, 2576: 1, 760: 1, 907: 1, 1164: 1, 1414: 1, 3398: 1, 276: 1, 745: 1, 936: 1, 959: 1, 1138: 1, 1224: 1, 1244: 1, 1337: 1, 1388: 1, 1391: 1, 1437: 1, 1501: 1, 1670: 1, 2030: 1, 2134: 1, 2406: 1, 2697: 1, 3195: 1, 5129: 1, 1225: 1, 1309: 1, 2315: 1, 2901: 1, 3949: 1, 7308: 1, 1322: 1, 1577: 1, 2142: 1, 3939: 1, 339: 1, 385: 1, 585: 1, 625: 1, 639: 1, 652: 1, 674: 1, 682: 1, 697: 1, 708: 1, 719: 1, 754: 1, 759: 1, 763: 1, 766: 1, 841: 1, 886: 1, 888: 1, 900: 1, 902: 1, 926: 1, 958: 1, 983: 1, 996: 1, 1037: 1, 1103: 1, 1107: 1, 1108: 1, 1123: 1, 1158: 1, 1185: 1, 1200: 1, 1223: 1, 1228: 1, 1262: 1, 1274: 1, 1289: 1, 1318: 1, 1330: 1, 1331: 1, 1474: 1, 1484: 1, 1493: 1, 1503: 1, 1526: 1, 1555: 1, 1620: 1, 1858: 1, 1860: 1, 1884: 1, 1893: 1, 1995: 1, 2002: 1, 2012: 1, 2121: 1, 2141: 1, 2246: 1, 2247: 1, 2279: 1, 2292: 1, 2577: 1, 2748: 1, 2859: 1, 2930: 1, 3124: 1, 3331: 1, 3399: 1, 3527: 1, 5801: 1, 6468: 1, 7472: 1, 1410: 1, 8978: 1, 950: 1, 960: 1, 975: 1, 1300: 1, 1308: 1, 1360: 1, 1471: 1, 1512: 1, 1520: 1, 1778: 1, 1829: 1, 1905: 1, 2221: 1, 2326: 1, 2327: 1, 2511: 1, 2631: 1, 2687: 1, 2788: 1, 3186: 1, 3343: 1, 3594: 1, 4657: 1, 2625: 1, 866: 1, 1028: 1, 1049: 1, 1055: 1, 1098: 1, 1149: 1, 1216: 1, 1217: 1, 1301: 1, 1345: 1, 1453: 1, 1473: 1, 1533: 1, 1582: 1, 1795: 1, 1800: 1, 1864: 1, 1928: 1, 1936: 1, 1961: 1, 1984: 1, 2039: 1, 2100: 1, 2169: 1, 2238: 1, 2249: 1, 2404: 1, 2515: 1, 2622: 1, 2775: 1, 2864: 1, 2899: 1, 3213: 1, 3590: 1, 3612: 1, 3650: 1, 3850: 1, 4297: 1, 4380: 1, 4439: 1, 4594: 1, 7374: 1, 7511: 1, 2212: 1, 3485: 1, 571: 1, 1188: 1, 2288: 1, 2580: 1, 2745: 1, 2782: 1, 3160: 1, 3275: 1, 3357: 1, 3599: 1, 3976: 1, 12680: 1, 1283: 1, 929: 1, 937: 1, 947: 1, 999: 1, 1193: 1, 1201: 1, 1231: 1, 1246: 1, 1249: 1, 1278: 1, 1287: 1, 1311: 1, 1344: 1, 1355: 1, 1358: 1, 1371: 1, 1376: 1, 1377: 1, 1382: 1, 1393: 1, 1413: 1, 1469: 1, 1516: 1, 1552: 1, 1597: 1, 1743: 1, 1747: 1, 1837: 1, 1851: 1, 1901: 1, 1925: 1, 1927: 1, 1935: 1, 1940: 1, 1965: 1, 1967: 1, 2022: 1, 2028: 1, 2064: 1, 2197: 1, 2325: 1, 2346: 1, 2439: 1, 2463: 1, 2578: 1, 2670: 1, 2679: 1, 2684: 1, 2825: 1, 2828: 1, 2835: 1, 2872: 1, 2892: 1, 2896: 1, 2910: 1, 3021: 1, 3092: 1, 3105: 1, 3161: 1, 3235: 1, 3349: 1, 3430: 1, 3552: 1, 3632: 1, 3749: 1, 3757: 1, 3868: 1, 4020: 1, 4042: 1, 4113: 1, 4139: 1, 4151: 1, 4241: 1, 4351: 1, 4526: 1, 4591: 1, 4736: 1, 4817: 1, 4870: 1, 5433: 1, 5507: 1, 5511: 1, 5743: 1, 5804: 1, 5943: 1, 6403: 1, 6419: 1, 6615: 1, 6967: 1, 7393: 1, 8648: 1, 9277: 1, 11938: 1, 12579: 1, 7966: 1, 2520: 1, 2570: 1, 5117: 1, 5965: 1, 8613: 1, 2743: 1, 4006: 1, 7824: 1, 1908: 1, 2150: 1, 2181: 1, 2333: 1, 2522: 1, 2991: 1, 3077: 1, 3656: 1, 4221: 1, 4249: 1, 4272: 1, 4280: 1, 4811: 1, 6187: 1, 2764: 1, 4281: 1, 7253: 1, 909: 1, 1842: 1, 2145: 1, 2225: 1, 2273: 1, 2299: 1, 2323: 1, 2348: 1, 2394: 1, 2613: 1, 2671: 1, 2746: 1, 2820: 1, 2862: 1, 3079: 1, 3535: 1, 3595: 1, 3620: 1, 3711: 1, 3804: 1, 4210: 1, 4454: 1, 4455: 1, 4473: 1, 5179: 1, 5848: 1, 6887: 1, 6948: 1, 7432: 1, 7855: 1, 7980: 1, 8065: 1, 8133: 1, 8229: 1, 9034: 1, 9398: 1, 9566: 1, 10477: 1, 12612: 1, 2569: 1, 8588: 1, 11760: 1, 5998: 1, 3965: 1, 4041: 1, 5954: 1, 7166: 1, 7174: 1, 1845: 1, 3031: 1, 4576: 1, 11816: 1, 10722: 1, 2751: 1, 3060: 1, 3566: 1, 3578: 1, 3609: 1, 3931: 1, 4308: 1, 4788: 1, 4844: 1, 5096: 1, 5951: 1, 6110: 1, 6143: 1, 6224: 1, 6681: 1, 6758: 1, 7119: 1, 7238: 1, 7476: 1, 7582: 1, 7685: 1, 8858: 1, 9960: 1, 12169: 1, 12204: 1, 15672: 1, 18424: 1, 6288: 1, 6527: 1, 6836: 1, 9157: 1, 13756: 1, 14027: 1})\n",
      "Value-Savings-Stocks -- Counter({'None': 298, '£100-£1000': 154, '< £100': 48})\n",
      "Length-of-current-employment -- Counter({'< 1yr': 279, '4-7 yrs': 124, '1-4 yrs': 97})\n",
      "Instalment-per-cent -- Counter({4: 246, 2: 109, 3: 79, 1: 66})\n",
      "Guarantors -- Counter({'None': 457, 'Yes': 43})\n",
      "Duration-in-Current-address -- Counter({4.0: 56, 2.0: 51, 1.0: 29, 3.0: 20, nan: 1, nan: 1, nan: 1, nan: 1, nan: 1, nan: 1, nan: 1, nan: 1, nan: 1, nan: 1, nan: 1, nan: 1, nan: 1, nan: 1, nan: 1, nan: 1, nan: 1, nan: 1, nan: 1, nan: 1, nan: 1, nan: 1, nan: 1, nan: 1, nan: 1, nan: 1, nan: 1, nan: 1, nan: 1, nan: 1, nan: 1, nan: 1, nan: 1, nan: 1, nan: 1, nan: 1, nan: 1, nan: 1, nan: 1, nan: 1, nan: 1, nan: 1, nan: 1, nan: 1, nan: 1, nan: 1, nan: 1, nan: 1, nan: 1, nan: 1, nan: 1, nan: 1, nan: 1, nan: 1, nan: 1, nan: 1, nan: 1, nan: 1, nan: 1, nan: 1, nan: 1, nan: 1, nan: 1, nan: 1, nan: 1, nan: 1, nan: 1, nan: 1, nan: 1, nan: 1, nan: 1, nan: 1, nan: 1, nan: 1, nan: 1, nan: 1, nan: 1, nan: 1, nan: 1, nan: 1, nan: 1, nan: 1, nan: 1, nan: 1, nan: 1, nan: 1, nan: 1, nan: 1, nan: 1, nan: 1, nan: 1, nan: 1, nan: 1, nan: 1, nan: 1, nan: 1, nan: 1, nan: 1, nan: 1, nan: 1, nan: 1, nan: 1, nan: 1, nan: 1, nan: 1, nan: 1, nan: 1, nan: 1, nan: 1, nan: 1, nan: 1, nan: 1, nan: 1, nan: 1, nan: 1, nan: 1, nan: 1, nan: 1, nan: 1, nan: 1, nan: 1, nan: 1, nan: 1, nan: 1, nan: 1, nan: 1, nan: 1, nan: 1, nan: 1, nan: 1, nan: 1, nan: 1, nan: 1, nan: 1, nan: 1, nan: 1, nan: 1, nan: 1, nan: 1, nan: 1, nan: 1, nan: 1, nan: 1, nan: 1, nan: 1, nan: 1, nan: 1, nan: 1, nan: 1, nan: 1, nan: 1, nan: 1, nan: 1, nan: 1, nan: 1, nan: 1, nan: 1, nan: 1, nan: 1, nan: 1, nan: 1, nan: 1, nan: 1, nan: 1, nan: 1, nan: 1, nan: 1, nan: 1, nan: 1, nan: 1, nan: 1, nan: 1, nan: 1, nan: 1, nan: 1, nan: 1, nan: 1, nan: 1, nan: 1, nan: 1, nan: 1, nan: 1, nan: 1, nan: 1, nan: 1, nan: 1, nan: 1, nan: 1, nan: 1, nan: 1, nan: 1, nan: 1, nan: 1, nan: 1, nan: 1, nan: 1, nan: 1, nan: 1, nan: 1, nan: 1, nan: 1, nan: 1, nan: 1, nan: 1, nan: 1, nan: 1, nan: 1, nan: 1, nan: 1, nan: 1, nan: 1, nan: 1, nan: 1, nan: 1, nan: 1, nan: 1, nan: 1, nan: 1, nan: 1, nan: 1, nan: 1, nan: 1, nan: 1, nan: 1, nan: 1, nan: 1, nan: 1, nan: 1, nan: 1, nan: 1, nan: 1, nan: 1, nan: 1, nan: 1, nan: 1, nan: 1, nan: 1, nan: 1, nan: 1, nan: 1, nan: 1, nan: 1, nan: 1, nan: 1, nan: 1, nan: 1, nan: 1, nan: 1, nan: 1, nan: 1, nan: 1, nan: 1, nan: 1, nan: 1, nan: 1, nan: 1, nan: 1, nan: 1, nan: 1, nan: 1, nan: 1, nan: 1, nan: 1, nan: 1, nan: 1, nan: 1, nan: 1, nan: 1, nan: 1, nan: 1, nan: 1, nan: 1, nan: 1, nan: 1, nan: 1, nan: 1, nan: 1, nan: 1, nan: 1, nan: 1, nan: 1, nan: 1, nan: 1, nan: 1, nan: 1, nan: 1, nan: 1, nan: 1, nan: 1, nan: 1, nan: 1, nan: 1, nan: 1, nan: 1, nan: 1, nan: 1, nan: 1, nan: 1, nan: 1, nan: 1, nan: 1, nan: 1, nan: 1, nan: 1, nan: 1, nan: 1, nan: 1, nan: 1, nan: 1, nan: 1, nan: 1, nan: 1, nan: 1, nan: 1, nan: 1, nan: 1, nan: 1, nan: 1, nan: 1, nan: 1, nan: 1, nan: 1, nan: 1, nan: 1, nan: 1, nan: 1, nan: 1, nan: 1, nan: 1, nan: 1, nan: 1, nan: 1, nan: 1, nan: 1, nan: 1, nan: 1, nan: 1, nan: 1, nan: 1, nan: 1, nan: 1, nan: 1, nan: 1, nan: 1})\n",
      "Most-valuable-available-asset -- Counter({3: 174, 1: 148, 2: 101, 4: 77})\n",
      "Age-years -- Counter({27.0: 29, 26.0: 29, 30.0: 24, 31.0: 21, 25.0: 20, 29.0: 19, 24.0: 19, 23.0: 19, 37.0: 17, 28.0: 17, 36.0: 17, 34.0: 17, 35.0: 17, 32.0: 15, 33.0: 14, 40.0: 12, 22.0: 11, 39.0: 11, 41.0: 10, 38.0: 10, 42.0: 9, 43.0: 9, 46.0: 9, 20.0: 9, 44.0: 8, 48.0: 8, 47.0: 8, 45.0: 7, 57.0: 7, 50.0: 6, 21.0: 6, 54.0: 6, 52.0: 5, 51.0: 4, 64.0: 3, 58.0: 3, 66.0: 3, 65.0: 3, 49.0: 3, 63.0: 3, 53.0: 3, 62.0: 2, 75.0: 2, 74.0: 2, 55.0: 2, 61.0: 2, 60.0: 2, nan: 1, 56.0: 1, 68.0: 1, nan: 1, 67.0: 1, 59.0: 1, nan: 1, 70.0: 1, nan: 1, 19.0: 1, nan: 1, nan: 1, nan: 1, nan: 1, nan: 1, nan: 1, nan: 1, nan: 1})\n",
      "Concurrent-Credits -- Counter({'Other Banks/Depts': 500})\n",
      "Type-of-apartment -- Counter({2: 352, 1: 92, 3: 56})\n",
      "No-of-Credits-at-this-Bank -- Counter({'1': 320, 'More than 1': 180})\n",
      "Occupation -- Counter({1: 500})\n",
      "No-of-dependents -- Counter({1: 427, 2: 73})\n",
      "Telephone -- Counter({1: 300, 2: 200})\n",
      "Foreign-Worker -- Counter({1: 481, 2: 19})\n"
     ]
    }
   ],
   "source": [
    "for column in df.columns:\n",
    "    print(column, '--', Counter(df[column]))"
   ]
  },
  {
   "cell_type": "markdown",
   "id": "7a214378",
   "metadata": {},
   "source": [
    "From the above, we have some variables with very low variabilities. Let's bring them out."
   ]
  },
  {
   "cell_type": "code",
   "execution_count": 8,
   "id": "a4b8d8a0",
   "metadata": {},
   "outputs": [
    {
     "name": "stdout",
     "output_type": "stream",
     "text": [
      "Guarantors:    Counter({'None': 457, 'Yes': 43})\n",
      "Concurrent-Credits:    Counter({'Other Banks/Depts': 500})\n",
      "Occupation:    Counter({1: 500})\n",
      "No-of-dependents:    Counter({1: 427, 2: 73})\n",
      "Telephone:    Counter({1: 300, 2: 200})\n",
      "Foreign-Worker:    Counter({1: 481, 2: 19})\n"
     ]
    }
   ],
   "source": [
    "print(f\"Guarantors:    {Counter(df['Guarantors'])}\")\n",
    "print(f\"Concurrent-Credits:    {Counter(df['Concurrent-Credits'])}\")\n",
    "print(f\"Occupation:    {Counter(df['Occupation'])}\")\n",
    "print(f\"No-of-dependents:    {Counter(df['No-of-dependents'])}\")\n",
    "print(f\"Telephone:    {Counter(df['Telephone'])}\")\n",
    "print(f\"Foreign-Worker:    {Counter(df['Foreign-Worker'])}\")\n"
   ]
  },
  {
   "cell_type": "markdown",
   "id": "e27d5e7e",
   "metadata": {},
   "source": [
    "From the above, let us drop the six(6) of them as all of them have the same or almost the same values all through."
   ]
  },
  {
   "cell_type": "code",
   "execution_count": 9,
   "id": "9abde752",
   "metadata": {},
   "outputs": [],
   "source": [
    "df.drop(['Guarantors', 'Concurrent-Credits', 'Occupation', 'No-of-dependents', 'Telephone', 'Foreign-Worker'], axis=1, inplace=True)"
   ]
  },
  {
   "cell_type": "code",
   "execution_count": 10,
   "id": "5f5fa377",
   "metadata": {},
   "outputs": [
    {
     "data": {
      "text/plain": [
       "(500, 14)"
      ]
     },
     "execution_count": 10,
     "metadata": {},
     "output_type": "execute_result"
    }
   ],
   "source": [
    "df.shape"
   ]
  },
  {
   "cell_type": "markdown",
   "id": "d57a1da1",
   "metadata": {},
   "source": [
    "The above shows that we have dropped 6 columns due to low variability and we are now left with 14 columns"
   ]
  },
  {
   "cell_type": "code",
   "execution_count": 11,
   "id": "64c66a74",
   "metadata": {},
   "outputs": [
    {
     "name": "stdout",
     "output_type": "stream",
     "text": [
      "--------------------------------------------------\n",
      "Done with Credit-Application-Result\n",
      "\n"
     ]
    },
    {
     "data": {
      "image/png": "[encoded data removed]",
      "text/plain": [
       "<Figure size 432x288 with 1 Axes>"
      ]
     },
     "metadata": {
      "needs_background": "light"
     },
     "output_type": "display_data"
    },
    {
     "name": "stdout",
     "output_type": "stream",
     "text": [
      "--------------------------------------------------\n",
      "Done with Account-Balance\n",
      "\n"
     ]
    },
    {
     "data": {
      "image/png": "[encoded data removed]",
      "text/plain": [
       "<Figure size 432x288 with 1 Axes>"
      ]
     },
     "metadata": {
      "needs_background": "light"
     },
     "output_type": "display_data"
    },
    {
     "name": "stdout",
     "output_type": "stream",
     "text": [
      "--------------------------------------------------\n",
      "Done with Duration-of-Credit-Month\n",
      "\n"
     ]
    },
    {
     "data": {
      "image/png": "[encoded data removed]",
      "text/plain": [
       "<Figure size 432x288 with 1 Axes>"
      ]
     },
     "metadata": {
      "needs_background": "light"
     },
     "output_type": "display_data"
    },
    {
     "name": "stdout",
     "output_type": "stream",
     "text": [
      "--------------------------------------------------\n",
      "Done with Payment-Status-of-Previous-Credit\n",
      "\n"
     ]
    },
    {
     "data": {
      "image/png": "[encoded data removed]",
      "text/plain": [
       "<Figure size 432x288 with 1 Axes>"
      ]
     },
     "metadata": {
      "needs_background": "light"
     },
     "output_type": "display_data"
    },
    {
     "name": "stdout",
     "output_type": "stream",
     "text": [
      "--------------------------------------------------\n",
      "Done with Purpose\n",
      "\n"
     ]
    },
    {
     "data": {
      "image/png": "[encoded data removed]",
      "text/plain": [
       "<Figure size 432x288 with 1 Axes>"
      ]
     },
     "metadata": {
      "needs_background": "light"
     },
     "output_type": "display_data"
    },
    {
     "name": "stdout",
     "output_type": "stream",
     "text": [
      "--------------------------------------------------\n",
      "Done with Credit-Amount\n",
      "\n"
     ]
    },
    {
     "data": {
      "image/png": "[encoded data removed]",
      "text/plain": [
       "<Figure size 432x288 with 1 Axes>"
      ]
     },
     "metadata": {
      "needs_background": "light"
     },
     "output_type": "display_data"
    },
    {
     "name": "stdout",
     "output_type": "stream",
     "text": [
      "--------------------------------------------------\n",
      "Done with Value-Savings-Stocks\n",
      "\n"
     ]
    },
    {
     "data": {
      "image/png": "[encoded data removed]",
      "text/plain": [
       "<Figure size 432x288 with 1 Axes>"
      ]
     },
     "metadata": {
      "needs_background": "light"
     },
     "output_type": "display_data"
    },
    {
     "name": "stdout",
     "output_type": "stream",
     "text": [
      "--------------------------------------------------\n",
      "Done with Length-of-current-employment\n",
      "\n"
     ]
    },
    {
     "data": {
      "image/png": "[encoded data removed]",
      "text/plain": [
       "<Figure size 432x288 with 1 Axes>"
      ]
     },
     "metadata": {
      "needs_background": "light"
     },
     "output_type": "display_data"
    },
    {
     "name": "stdout",
     "output_type": "stream",
     "text": [
      "--------------------------------------------------\n",
      "Done with Instalment-per-cent\n",
      "\n"
     ]
    },
    {
     "data": {
      "image/png": "[encoded data removed]",
      "text/plain": [
       "<Figure size 432x288 with 1 Axes>"
      ]
     },
     "metadata": {
      "needs_background": "light"
     },
     "output_type": "display_data"
    },
    {
     "name": "stdout",
     "output_type": "stream",
     "text": [
      "--------------------------------------------------\n",
      "Done with Duration-in-Current-address\n",
      "\n"
     ]
    },
    {
     "data": {
      "image/png": "[encoded data removed]",
      "text/plain": [
       "<Figure size 432x288 with 1 Axes>"
      ]
     },
     "metadata": {
      "needs_background": "light"
     },
     "output_type": "display_data"
    },
    {
     "name": "stdout",
     "output_type": "stream",
     "text": [
      "--------------------------------------------------\n",
      "Done with Most-valuable-available-asset\n",
      "\n"
     ]
    },
    {
     "data": {
      "image/png": "[encoded data removed]",
      "text/plain": [
       "<Figure size 432x288 with 1 Axes>"
      ]
     },
     "metadata": {
      "needs_background": "light"
     },
     "output_type": "display_data"
    },
    {
     "name": "stdout",
     "output_type": "stream",
     "text": [
      "--------------------------------------------------\n",
      "Done with Age-years\n",
      "\n"
     ]
    },
    {
     "data": {
      "image/png": "[encoded data removed]",
      "text/plain": [
       "<Figure size 432x288 with 1 Axes>"
      ]
     },
     "metadata": {
      "needs_background": "light"
     },
     "output_type": "display_data"
    },
    {
     "name": "stdout",
     "output_type": "stream",
     "text": [
      "--------------------------------------------------\n",
      "Done with Type-of-apartment\n",
      "\n"
     ]
    },
    {
     "data": {
      "image/png": "[encoded data removed]",
      "text/plain": [
       "<Figure size 432x288 with 1 Axes>"
      ]
     },
     "metadata": {
      "needs_background": "light"
     },
     "output_type": "display_data"
    },
    {
     "name": "stdout",
     "output_type": "stream",
     "text": [
      "--------------------------------------------------\n",
      "Done with No-of-Credits-at-this-Bank\n",
      "\n"
     ]
    },
    {
     "data": {
      "image/png": "[encoded data removed]",
      "text/plain": [
       "<Figure size 432x288 with 1 Axes>"
      ]
     },
     "metadata": {
      "needs_background": "light"
     },
     "output_type": "display_data"
    }
   ],
   "source": [
    "\n",
    "for column in df.columns:\n",
    "    plt.scatter(df[column], df['Credit-Application-Result'])\n",
    "    print('--------------------------------------------------')\n",
    "    print(f'Done with {column}')\n",
    "    print()\n",
    "    plt.title(f'Scatter plot of {column} against Credit-Application-Result')\n",
    "    plt.ylabel('Credit-Application-Result')\n",
    "    plt.xlabel(column)\n",
    "    plt.show()\n"
   ]
  },
  {
   "cell_type": "markdown",
   "id": "7f46f47f",
   "metadata": {},
   "source": [
    "The scatter plot above shows that there exist some variables (features) with no reelationship with the target. But later, we use correlation to check to be sure."
   ]
  },
  {
   "cell_type": "code",
   "execution_count": 12,
   "id": "35b9db53",
   "metadata": {},
   "outputs": [
    {
     "data": {
      "text/plain": [
       "Credit-Application-Result            False\n",
       "Account-Balance                      False\n",
       "Duration-of-Credit-Month             False\n",
       "Payment-Status-of-Previous-Credit    False\n",
       "Purpose                              False\n",
       "Credit-Amount                        False\n",
       "Value-Savings-Stocks                 False\n",
       "Length-of-current-employment         False\n",
       "Instalment-per-cent                  False\n",
       "Duration-in-Current-address           True\n",
       "Most-valuable-available-asset        False\n",
       "Age-years                             True\n",
       "Type-of-apartment                    False\n",
       "No-of-Credits-at-this-Bank           False\n",
       "dtype: bool"
      ]
     },
     "execution_count": 12,
     "metadata": {},
     "output_type": "execute_result"
    }
   ],
   "source": [
    "# Now let's check for missing values\n",
    "df.isnull().any()"
   ]
  },
  {
   "cell_type": "markdown",
   "id": "9943e58e",
   "metadata": {},
   "source": [
    "From the above, we see that there are two features with missing value - Duration-in-Current-address and Age-years. Let's check how many missing values in each of the variables to know which one to drop and which one to compute"
   ]
  },
  {
   "cell_type": "code",
   "execution_count": 13,
   "id": "88ec0acb",
   "metadata": {},
   "outputs": [
    {
     "data": {
      "text/plain": [
       "Credit-Application-Result              0\n",
       "Account-Balance                        0\n",
       "Duration-of-Credit-Month               0\n",
       "Payment-Status-of-Previous-Credit      0\n",
       "Purpose                                0\n",
       "Credit-Amount                          0\n",
       "Value-Savings-Stocks                   0\n",
       "Length-of-current-employment           0\n",
       "Instalment-per-cent                    0\n",
       "Duration-in-Current-address          344\n",
       "Most-valuable-available-asset          0\n",
       "Age-years                             12\n",
       "Type-of-apartment                      0\n",
       "No-of-Credits-at-this-Bank             0\n",
       "dtype: int64"
      ]
     },
     "execution_count": 13,
     "metadata": {},
     "output_type": "execute_result"
    }
   ],
   "source": [
    "df.isnull().sum()"
   ]
  },
  {
   "cell_type": "markdown",
   "id": "2091d365",
   "metadata": {},
   "source": [
    "From the above, we have 344 missing values in Duration-in-Current-address and 12 missing values in Age-years. Let's conmpute Age-years with the median as instructed in the project overview and drop the Duration-in-Current-address column as it has so many missing values."
   ]
  },
  {
   "cell_type": "code",
   "execution_count": 14,
   "id": "fddbb90e",
   "metadata": {},
   "outputs": [],
   "source": [
    "df.drop('Duration-in-Current-address', axis=1, inplace=True)"
   ]
  },
  {
   "cell_type": "code",
   "execution_count": 15,
   "id": "a31b9e8f",
   "metadata": {},
   "outputs": [
    {
     "data": {
      "text/plain": [
       "Credit-Application-Result            False\n",
       "Account-Balance                      False\n",
       "Duration-of-Credit-Month             False\n",
       "Payment-Status-of-Previous-Credit    False\n",
       "Purpose                              False\n",
       "Credit-Amount                        False\n",
       "Value-Savings-Stocks                 False\n",
       "Length-of-current-employment         False\n",
       "Instalment-per-cent                  False\n",
       "Most-valuable-available-asset        False\n",
       "Age-years                             True\n",
       "Type-of-apartment                    False\n",
       "No-of-Credits-at-this-Bank           False\n",
       "dtype: bool"
      ]
     },
     "execution_count": 15,
     "metadata": {},
     "output_type": "execute_result"
    }
   ],
   "source": [
    "df.isna().any()"
   ]
  },
  {
   "cell_type": "markdown",
   "id": "7abe5c76",
   "metadata": {},
   "source": [
    "We can see from the above that Duration-in-Current-address has been removed due to many missing values. We're now left to compute the missing values for Age_years"
   ]
  },
  {
   "cell_type": "code",
   "execution_count": 16,
   "id": "15feb537",
   "metadata": {},
   "outputs": [],
   "source": [
    "df = df.fillna(df.median())\n"
   ]
  },
  {
   "cell_type": "code",
   "execution_count": 17,
   "id": "9d753d50",
   "metadata": {},
   "outputs": [
    {
     "data": {
      "text/plain": [
       "Credit-Application-Result            False\n",
       "Account-Balance                      False\n",
       "Duration-of-Credit-Month             False\n",
       "Payment-Status-of-Previous-Credit    False\n",
       "Purpose                              False\n",
       "Credit-Amount                        False\n",
       "Value-Savings-Stocks                 False\n",
       "Length-of-current-employment         False\n",
       "Instalment-per-cent                  False\n",
       "Most-valuable-available-asset        False\n",
       "Age-years                            False\n",
       "Type-of-apartment                    False\n",
       "No-of-Credits-at-this-Bank           False\n",
       "dtype: bool"
      ]
     },
     "execution_count": 17,
     "metadata": {},
     "output_type": "execute_result"
    }
   ],
   "source": [
    "df.isna().any()"
   ]
  },
  {
   "cell_type": "code",
   "execution_count": 18,
   "id": "6a6e8ecd",
   "metadata": {},
   "outputs": [
    {
     "data": {
      "text/plain": [
       "0"
      ]
     },
     "execution_count": 18,
     "metadata": {},
     "output_type": "execute_result"
    }
   ],
   "source": [
    "df.isnull().any().sum()"
   ]
  },
  {
   "cell_type": "markdown",
   "id": "290d726f",
   "metadata": {},
   "source": [
    "Now we have zero missing value."
   ]
  },
  {
   "cell_type": "code",
   "execution_count": 19,
   "id": "0eba2bb7",
   "metadata": {},
   "outputs": [
    {
     "data": {
      "text/plain": [
       "35.574"
      ]
     },
     "execution_count": 19,
     "metadata": {},
     "output_type": "execute_result"
    }
   ],
   "source": [
    "df['Age-years'].mean()"
   ]
  },
  {
   "cell_type": "markdown",
   "id": "e5375804",
   "metadata": {},
   "source": [
    "And we have approximately 36 as average Age_years as instructed."
   ]
  },
  {
   "cell_type": "code",
   "execution_count": 20,
   "id": "6f8d8aaa",
   "metadata": {
    "scrolled": true
   },
   "outputs": [
    {
     "data": {
      "text/plain": [
       "Text(0.5, 1.0, 'Correlation Heatmap')"
      ]
     },
     "execution_count": 20,
     "metadata": {},
     "output_type": "execute_result"
    },
    {
     "data": {
      "image/png": "[encoded data removed]",
      "text/plain": [
       "<Figure size 936x504 with 2 Axes>"
      ]
     },
     "metadata": {
      "needs_background": "light"
     },
     "output_type": "display_data"
    }
   ],
   "source": [
    "plt.figure(figsize=(13, 7))\n",
    "heatmap = sns.heatmap(df.corr(), vmin=-1, vmax=1, annot=True)\n",
    "heatmap.set_title('Correlation Heatmap', fontdict={'fontsize':12}, pad=12)"
   ]
  },
  {
   "cell_type": "markdown",
   "id": "17e034e2",
   "metadata": {},
   "source": [
    "As we can see from the correlation matrix above, there's no numerical features whose absolute correlation to one another is greater that 0.7, hence, no multicollinearity. Therefore, we can remove any numerical feature at this point."
   ]
  },
  {
   "cell_type": "code",
   "execution_count": 21,
   "id": "b62193cc",
   "metadata": {},
   "outputs": [
    {
     "data": {
      "text/html": [
       "<div>\n",
       "<style scoped>\n",
       "    .dataframe tbody tr th:only-of-type {\n",
       "        vertical-align: middle;\n",
       "    }\n",
       "\n",
       "    .dataframe tbody tr th {\n",
       "        vertical-align: top;\n",
       "    }\n",
       "\n",
       "    .dataframe thead th {\n",
       "        text-align: right;\n",
       "    }\n",
       "</style>\n",
       "<table border=\"1\" class=\"dataframe\">\n",
       "  <thead>\n",
       "    <tr style=\"text-align: right;\">\n",
       "      <th></th>\n",
       "      <th>Credit-Application-Result</th>\n",
       "      <th>Account-Balance</th>\n",
       "      <th>Duration-of-Credit-Month</th>\n",
       "      <th>Payment-Status-of-Previous-Credit</th>\n",
       "      <th>Purpose</th>\n",
       "      <th>Credit-Amount</th>\n",
       "      <th>Value-Savings-Stocks</th>\n",
       "      <th>Length-of-current-employment</th>\n",
       "      <th>Instalment-per-cent</th>\n",
       "      <th>Most-valuable-available-asset</th>\n",
       "      <th>Age-years</th>\n",
       "      <th>Type-of-apartment</th>\n",
       "      <th>No-of-Credits-at-this-Bank</th>\n",
       "    </tr>\n",
       "  </thead>\n",
       "  <tbody>\n",
       "    <tr>\n",
       "      <th>0</th>\n",
       "      <td>Creditworthy</td>\n",
       "      <td>Some Balance</td>\n",
       "      <td>4</td>\n",
       "      <td>Paid Up</td>\n",
       "      <td>Other</td>\n",
       "      <td>1494</td>\n",
       "      <td>£100-£1000</td>\n",
       "      <td>&lt; 1yr</td>\n",
       "      <td>1</td>\n",
       "      <td>1</td>\n",
       "      <td>33.0</td>\n",
       "      <td>2</td>\n",
       "      <td>1</td>\n",
       "    </tr>\n",
       "    <tr>\n",
       "      <th>1</th>\n",
       "      <td>Creditworthy</td>\n",
       "      <td>Some Balance</td>\n",
       "      <td>4</td>\n",
       "      <td>Paid Up</td>\n",
       "      <td>Home Related</td>\n",
       "      <td>1494</td>\n",
       "      <td>£100-£1000</td>\n",
       "      <td>&lt; 1yr</td>\n",
       "      <td>1</td>\n",
       "      <td>1</td>\n",
       "      <td>29.0</td>\n",
       "      <td>2</td>\n",
       "      <td>1</td>\n",
       "    </tr>\n",
       "    <tr>\n",
       "      <th>2</th>\n",
       "      <td>Creditworthy</td>\n",
       "      <td>Some Balance</td>\n",
       "      <td>4</td>\n",
       "      <td>No Problems (in this bank)</td>\n",
       "      <td>Home Related</td>\n",
       "      <td>1544</td>\n",
       "      <td>None</td>\n",
       "      <td>1-4 yrs</td>\n",
       "      <td>2</td>\n",
       "      <td>1</td>\n",
       "      <td>42.0</td>\n",
       "      <td>2</td>\n",
       "      <td>More than 1</td>\n",
       "    </tr>\n",
       "    <tr>\n",
       "      <th>3</th>\n",
       "      <td>Creditworthy</td>\n",
       "      <td>Some Balance</td>\n",
       "      <td>4</td>\n",
       "      <td>No Problems (in this bank)</td>\n",
       "      <td>Home Related</td>\n",
       "      <td>3380</td>\n",
       "      <td>None</td>\n",
       "      <td>1-4 yrs</td>\n",
       "      <td>1</td>\n",
       "      <td>1</td>\n",
       "      <td>37.0</td>\n",
       "      <td>2</td>\n",
       "      <td>1</td>\n",
       "    </tr>\n",
       "    <tr>\n",
       "      <th>4</th>\n",
       "      <td>Creditworthy</td>\n",
       "      <td>No Account</td>\n",
       "      <td>6</td>\n",
       "      <td>Paid Up</td>\n",
       "      <td>Home Related</td>\n",
       "      <td>343</td>\n",
       "      <td>None</td>\n",
       "      <td>&lt; 1yr</td>\n",
       "      <td>4</td>\n",
       "      <td>1</td>\n",
       "      <td>27.0</td>\n",
       "      <td>2</td>\n",
       "      <td>1</td>\n",
       "    </tr>\n",
       "  </tbody>\n",
       "</table>\n",
       "</div>"
      ],
      "text/plain": [
       "  Credit-Application-Result Account-Balance  Duration-of-Credit-Month  \\\n",
       "0              Creditworthy    Some Balance                         4   \n",
       "1              Creditworthy    Some Balance                         4   \n",
       "2              Creditworthy    Some Balance                         4   \n",
       "3              Creditworthy    Some Balance                         4   \n",
       "4              Creditworthy      No Account                         6   \n",
       "\n",
       "  Payment-Status-of-Previous-Credit       Purpose  Credit-Amount  \\\n",
       "0                           Paid Up         Other           1494   \n",
       "1                           Paid Up  Home Related           1494   \n",
       "2        No Problems (in this bank)  Home Related           1544   \n",
       "3        No Problems (in this bank)  Home Related           3380   \n",
       "4                           Paid Up  Home Related            343   \n",
       "\n",
       "  Value-Savings-Stocks Length-of-current-employment  Instalment-per-cent  \\\n",
       "0           £100-£1000                        < 1yr                    1   \n",
       "1           £100-£1000                        < 1yr                    1   \n",
       "2                 None                      1-4 yrs                    2   \n",
       "3                 None                      1-4 yrs                    1   \n",
       "4                 None                        < 1yr                    4   \n",
       "\n",
       "   Most-valuable-available-asset  Age-years  Type-of-apartment  \\\n",
       "0                              1       33.0                  2   \n",
       "1                              1       29.0                  2   \n",
       "2                              1       42.0                  2   \n",
       "3                              1       37.0                  2   \n",
       "4                              1       27.0                  2   \n",
       "\n",
       "  No-of-Credits-at-this-Bank  \n",
       "0                          1  \n",
       "1                          1  \n",
       "2                More than 1  \n",
       "3                          1  \n",
       "4                          1  "
      ]
     },
     "execution_count": 21,
     "metadata": {},
     "output_type": "execute_result"
    }
   ],
   "source": [
    "df.head()"
   ]
  },
  {
   "cell_type": "code",
   "execution_count": 22,
   "id": "ee437747",
   "metadata": {},
   "outputs": [
    {
     "name": "stdout",
     "output_type": "stream",
     "text": [
      "<class 'pandas.core.frame.DataFrame'>\n",
      "RangeIndex: 500 entries, 0 to 499\n",
      "Data columns (total 13 columns):\n",
      " #   Column                             Non-Null Count  Dtype  \n",
      "---  ------                             --------------  -----  \n",
      " 0   Credit-Application-Result          500 non-null    object \n",
      " 1   Account-Balance                    500 non-null    object \n",
      " 2   Duration-of-Credit-Month           500 non-null    int64  \n",
      " 3   Payment-Status-of-Previous-Credit  500 non-null    object \n",
      " 4   Purpose                            500 non-null    object \n",
      " 5   Credit-Amount                      500 non-null    int64  \n",
      " 6   Value-Savings-Stocks               500 non-null    object \n",
      " 7   Length-of-current-employment       500 non-null    object \n",
      " 8   Instalment-per-cent                500 non-null    int64  \n",
      " 9   Most-valuable-available-asset      500 non-null    int64  \n",
      " 10  Age-years                          500 non-null    float64\n",
      " 11  Type-of-apartment                  500 non-null    int64  \n",
      " 12  No-of-Credits-at-this-Bank         500 non-null    object \n",
      "dtypes: float64(1), int64(5), object(7)\n",
      "memory usage: 50.9+ KB\n"
     ]
    }
   ],
   "source": [
    "df.info()"
   ]
  },
  {
   "cell_type": "code",
   "execution_count": 23,
   "id": "521e628c",
   "metadata": {},
   "outputs": [],
   "source": [
    "for col in df.columns:\n",
    "    if df[col].dtype == 'object':\n",
    "        df[col] = df[col].astype('category')"
   ]
  },
  {
   "cell_type": "code",
   "execution_count": 24,
   "id": "2c033d72",
   "metadata": {},
   "outputs": [
    {
     "name": "stdout",
     "output_type": "stream",
     "text": [
      "<class 'pandas.core.frame.DataFrame'>\n",
      "RangeIndex: 500 entries, 0 to 499\n",
      "Data columns (total 13 columns):\n",
      " #   Column                             Non-Null Count  Dtype   \n",
      "---  ------                             --------------  -----   \n",
      " 0   Credit-Application-Result          500 non-null    category\n",
      " 1   Account-Balance                    500 non-null    category\n",
      " 2   Duration-of-Credit-Month           500 non-null    int64   \n",
      " 3   Payment-Status-of-Previous-Credit  500 non-null    category\n",
      " 4   Purpose                            500 non-null    category\n",
      " 5   Credit-Amount                      500 non-null    int64   \n",
      " 6   Value-Savings-Stocks               500 non-null    category\n",
      " 7   Length-of-current-employment       500 non-null    category\n",
      " 8   Instalment-per-cent                500 non-null    int64   \n",
      " 9   Most-valuable-available-asset      500 non-null    int64   \n",
      " 10  Age-years                          500 non-null    float64 \n",
      " 11  Type-of-apartment                  500 non-null    int64   \n",
      " 12  No-of-Credits-at-this-Bank         500 non-null    category\n",
      "dtypes: category(7), float64(1), int64(5)\n",
      "memory usage: 27.9 KB\n"
     ]
    }
   ],
   "source": [
    "df.info()"
   ]
  },
  {
   "cell_type": "code",
   "execution_count": 25,
   "id": "4b2787a0",
   "metadata": {},
   "outputs": [],
   "source": [
    "# converting all the categorical data in our dataframe into numbers. We can't feed in categories to NN, we must convert it first.\n",
    "\n",
    "cat_columns = df.select_dtypes(['category']).columns\n",
    "df[cat_columns] = df[cat_columns].apply(lambda x: x.cat.codes)"
   ]
  },
  {
   "cell_type": "code",
   "execution_count": 26,
   "id": "84b46b11",
   "metadata": {},
   "outputs": [
    {
     "data": {
      "text/html": [
       "<div>\n",
       "<style scoped>\n",
       "    .dataframe tbody tr th:only-of-type {\n",
       "        vertical-align: middle;\n",
       "    }\n",
       "\n",
       "    .dataframe tbody tr th {\n",
       "        vertical-align: top;\n",
       "    }\n",
       "\n",
       "    .dataframe thead th {\n",
       "        text-align: right;\n",
       "    }\n",
       "</style>\n",
       "<table border=\"1\" class=\"dataframe\">\n",
       "  <thead>\n",
       "    <tr style=\"text-align: right;\">\n",
       "      <th></th>\n",
       "      <th>Credit-Application-Result</th>\n",
       "      <th>Account-Balance</th>\n",
       "      <th>Duration-of-Credit-Month</th>\n",
       "      <th>Payment-Status-of-Previous-Credit</th>\n",
       "      <th>Purpose</th>\n",
       "      <th>Credit-Amount</th>\n",
       "      <th>Value-Savings-Stocks</th>\n",
       "      <th>Length-of-current-employment</th>\n",
       "      <th>Instalment-per-cent</th>\n",
       "      <th>Most-valuable-available-asset</th>\n",
       "      <th>Age-years</th>\n",
       "      <th>Type-of-apartment</th>\n",
       "      <th>No-of-Credits-at-this-Bank</th>\n",
       "    </tr>\n",
       "  </thead>\n",
       "  <tbody>\n",
       "    <tr>\n",
       "      <th>0</th>\n",
       "      <td>0</td>\n",
       "      <td>1</td>\n",
       "      <td>4</td>\n",
       "      <td>1</td>\n",
       "      <td>2</td>\n",
       "      <td>1494</td>\n",
       "      <td>2</td>\n",
       "      <td>2</td>\n",
       "      <td>1</td>\n",
       "      <td>1</td>\n",
       "      <td>33.0</td>\n",
       "      <td>2</td>\n",
       "      <td>0</td>\n",
       "    </tr>\n",
       "    <tr>\n",
       "      <th>1</th>\n",
       "      <td>0</td>\n",
       "      <td>1</td>\n",
       "      <td>4</td>\n",
       "      <td>1</td>\n",
       "      <td>0</td>\n",
       "      <td>1494</td>\n",
       "      <td>2</td>\n",
       "      <td>2</td>\n",
       "      <td>1</td>\n",
       "      <td>1</td>\n",
       "      <td>29.0</td>\n",
       "      <td>2</td>\n",
       "      <td>0</td>\n",
       "    </tr>\n",
       "    <tr>\n",
       "      <th>2</th>\n",
       "      <td>0</td>\n",
       "      <td>1</td>\n",
       "      <td>4</td>\n",
       "      <td>0</td>\n",
       "      <td>0</td>\n",
       "      <td>1544</td>\n",
       "      <td>1</td>\n",
       "      <td>0</td>\n",
       "      <td>2</td>\n",
       "      <td>1</td>\n",
       "      <td>42.0</td>\n",
       "      <td>2</td>\n",
       "      <td>1</td>\n",
       "    </tr>\n",
       "    <tr>\n",
       "      <th>3</th>\n",
       "      <td>0</td>\n",
       "      <td>1</td>\n",
       "      <td>4</td>\n",
       "      <td>0</td>\n",
       "      <td>0</td>\n",
       "      <td>3380</td>\n",
       "      <td>1</td>\n",
       "      <td>0</td>\n",
       "      <td>1</td>\n",
       "      <td>1</td>\n",
       "      <td>37.0</td>\n",
       "      <td>2</td>\n",
       "      <td>0</td>\n",
       "    </tr>\n",
       "    <tr>\n",
       "      <th>4</th>\n",
       "      <td>0</td>\n",
       "      <td>0</td>\n",
       "      <td>6</td>\n",
       "      <td>1</td>\n",
       "      <td>0</td>\n",
       "      <td>343</td>\n",
       "      <td>1</td>\n",
       "      <td>2</td>\n",
       "      <td>4</td>\n",
       "      <td>1</td>\n",
       "      <td>27.0</td>\n",
       "      <td>2</td>\n",
       "      <td>0</td>\n",
       "    </tr>\n",
       "  </tbody>\n",
       "</table>\n",
       "</div>"
      ],
      "text/plain": [
       "   Credit-Application-Result  Account-Balance  Duration-of-Credit-Month  \\\n",
       "0                          0                1                         4   \n",
       "1                          0                1                         4   \n",
       "2                          0                1                         4   \n",
       "3                          0                1                         4   \n",
       "4                          0                0                         6   \n",
       "\n",
       "   Payment-Status-of-Previous-Credit  Purpose  Credit-Amount  \\\n",
       "0                                  1        2           1494   \n",
       "1                                  1        0           1494   \n",
       "2                                  0        0           1544   \n",
       "3                                  0        0           3380   \n",
       "4                                  1        0            343   \n",
       "\n",
       "   Value-Savings-Stocks  Length-of-current-employment  Instalment-per-cent  \\\n",
       "0                     2                             2                    1   \n",
       "1                     2                             2                    1   \n",
       "2                     1                             0                    2   \n",
       "3                     1                             0                    1   \n",
       "4                     1                             2                    4   \n",
       "\n",
       "   Most-valuable-available-asset  Age-years  Type-of-apartment  \\\n",
       "0                              1       33.0                  2   \n",
       "1                              1       29.0                  2   \n",
       "2                              1       42.0                  2   \n",
       "3                              1       37.0                  2   \n",
       "4                              1       27.0                  2   \n",
       "\n",
       "   No-of-Credits-at-this-Bank  \n",
       "0                           0  \n",
       "1                           0  \n",
       "2                           1  \n",
       "3                           0  \n",
       "4                           0  "
      ]
     },
     "execution_count": 26,
     "metadata": {},
     "output_type": "execute_result"
    }
   ],
   "source": [
    "df.head()"
   ]
  },
  {
   "cell_type": "markdown",
   "id": "329f3e28",
   "metadata": {},
   "source": [
    "In the above, we transformed the target to 0 and 1 since we are delaing with a binary classification\n",
    "(two classes - Creditworthy and Not-Creditworthy). But a rule of thumb is let the solution to the positive answer to the problem you're slving be 1 and the negative 0, you can equally go otherwise but I choose the former. The code below transforms it."
   ]
  },
  {
   "cell_type": "code",
   "execution_count": 27,
   "id": "ce170fbc",
   "metadata": {},
   "outputs": [],
   "source": [
    "df['Credit-Application-Result'] = np.where(df['Credit-Application-Result']==0, 1,0)"
   ]
  },
  {
   "cell_type": "code",
   "execution_count": 28,
   "id": "fe2cb09b",
   "metadata": {},
   "outputs": [
    {
     "data": {
      "text/html": [
       "<div>\n",
       "<style scoped>\n",
       "    .dataframe tbody tr th:only-of-type {\n",
       "        vertical-align: middle;\n",
       "    }\n",
       "\n",
       "    .dataframe tbody tr th {\n",
       "        vertical-align: top;\n",
       "    }\n",
       "\n",
       "    .dataframe thead th {\n",
       "        text-align: right;\n",
       "    }\n",
       "</style>\n",
       "<table border=\"1\" class=\"dataframe\">\n",
       "  <thead>\n",
       "    <tr style=\"text-align: right;\">\n",
       "      <th></th>\n",
       "      <th>Credit-Application-Result</th>\n",
       "      <th>Account-Balance</th>\n",
       "      <th>Duration-of-Credit-Month</th>\n",
       "      <th>Payment-Status-of-Previous-Credit</th>\n",
       "      <th>Purpose</th>\n",
       "      <th>Credit-Amount</th>\n",
       "      <th>Value-Savings-Stocks</th>\n",
       "      <th>Length-of-current-employment</th>\n",
       "      <th>Instalment-per-cent</th>\n",
       "      <th>Most-valuable-available-asset</th>\n",
       "      <th>Age-years</th>\n",
       "      <th>Type-of-apartment</th>\n",
       "      <th>No-of-Credits-at-this-Bank</th>\n",
       "    </tr>\n",
       "  </thead>\n",
       "  <tbody>\n",
       "    <tr>\n",
       "      <th>495</th>\n",
       "      <td>1</td>\n",
       "      <td>0</td>\n",
       "      <td>60</td>\n",
       "      <td>0</td>\n",
       "      <td>2</td>\n",
       "      <td>7418</td>\n",
       "      <td>2</td>\n",
       "      <td>2</td>\n",
       "      <td>1</td>\n",
       "      <td>1</td>\n",
       "      <td>33.0</td>\n",
       "      <td>2</td>\n",
       "      <td>0</td>\n",
       "    </tr>\n",
       "    <tr>\n",
       "      <th>496</th>\n",
       "      <td>1</td>\n",
       "      <td>0</td>\n",
       "      <td>60</td>\n",
       "      <td>0</td>\n",
       "      <td>0</td>\n",
       "      <td>7418</td>\n",
       "      <td>2</td>\n",
       "      <td>2</td>\n",
       "      <td>1</td>\n",
       "      <td>1</td>\n",
       "      <td>27.0</td>\n",
       "      <td>2</td>\n",
       "      <td>0</td>\n",
       "    </tr>\n",
       "    <tr>\n",
       "      <th>497</th>\n",
       "      <td>1</td>\n",
       "      <td>0</td>\n",
       "      <td>60</td>\n",
       "      <td>0</td>\n",
       "      <td>0</td>\n",
       "      <td>9157</td>\n",
       "      <td>2</td>\n",
       "      <td>2</td>\n",
       "      <td>2</td>\n",
       "      <td>4</td>\n",
       "      <td>27.0</td>\n",
       "      <td>3</td>\n",
       "      <td>0</td>\n",
       "    </tr>\n",
       "    <tr>\n",
       "      <th>498</th>\n",
       "      <td>1</td>\n",
       "      <td>1</td>\n",
       "      <td>60</td>\n",
       "      <td>0</td>\n",
       "      <td>0</td>\n",
       "      <td>13756</td>\n",
       "      <td>2</td>\n",
       "      <td>1</td>\n",
       "      <td>2</td>\n",
       "      <td>4</td>\n",
       "      <td>63.0</td>\n",
       "      <td>3</td>\n",
       "      <td>0</td>\n",
       "    </tr>\n",
       "    <tr>\n",
       "      <th>499</th>\n",
       "      <td>0</td>\n",
       "      <td>0</td>\n",
       "      <td>60</td>\n",
       "      <td>1</td>\n",
       "      <td>0</td>\n",
       "      <td>14027</td>\n",
       "      <td>1</td>\n",
       "      <td>0</td>\n",
       "      <td>4</td>\n",
       "      <td>4</td>\n",
       "      <td>27.0</td>\n",
       "      <td>2</td>\n",
       "      <td>0</td>\n",
       "    </tr>\n",
       "  </tbody>\n",
       "</table>\n",
       "</div>"
      ],
      "text/plain": [
       "     Credit-Application-Result  Account-Balance  Duration-of-Credit-Month  \\\n",
       "495                          1                0                        60   \n",
       "496                          1                0                        60   \n",
       "497                          1                0                        60   \n",
       "498                          1                1                        60   \n",
       "499                          0                0                        60   \n",
       "\n",
       "     Payment-Status-of-Previous-Credit  Purpose  Credit-Amount  \\\n",
       "495                                  0        2           7418   \n",
       "496                                  0        0           7418   \n",
       "497                                  0        0           9157   \n",
       "498                                  0        0          13756   \n",
       "499                                  1        0          14027   \n",
       "\n",
       "     Value-Savings-Stocks  Length-of-current-employment  Instalment-per-cent  \\\n",
       "495                     2                             2                    1   \n",
       "496                     2                             2                    1   \n",
       "497                     2                             2                    2   \n",
       "498                     2                             1                    2   \n",
       "499                     1                             0                    4   \n",
       "\n",
       "     Most-valuable-available-asset  Age-years  Type-of-apartment  \\\n",
       "495                              1       33.0                  2   \n",
       "496                              1       27.0                  2   \n",
       "497                              4       27.0                  3   \n",
       "498                              4       63.0                  3   \n",
       "499                              4       27.0                  2   \n",
       "\n",
       "     No-of-Credits-at-this-Bank  \n",
       "495                           0  \n",
       "496                           0  \n",
       "497                           0  \n",
       "498                           0  \n",
       "499                           0  "
      ]
     },
     "execution_count": 28,
     "metadata": {},
     "output_type": "execute_result"
    }
   ],
   "source": [
    "df.tail()"
   ]
  },
  {
   "cell_type": "code",
   "execution_count": 29,
   "id": "8f4e6ad7",
   "metadata": {},
   "outputs": [
    {
     "data": {
      "text/plain": [
       "Text(0.5, 1.0, 'Correlation Heatmap')"
      ]
     },
     "execution_count": 29,
     "metadata": {},
     "output_type": "execute_result"
    },
    {
     "data": {
      "image/png": "[encoded data removed]",
      "text/plain": [
       "<Figure size 1224x504 with 2 Axes>"
      ]
     },
     "metadata": {
      "needs_background": "light"
     },
     "output_type": "display_data"
    }
   ],
   "source": [
    "plt.figure(figsize=(17, 7))\n",
    "heatmap = sns.heatmap(df.corr(), vmin=-1, vmax=1, annot=True)\n",
    "heatmap.set_title('Correlation Heatmap', fontdict={'fontsize':12}, pad=12)"
   ]
  },
  {
   "cell_type": "code",
   "execution_count": 30,
   "id": "8ba41e94",
   "metadata": {},
   "outputs": [
    {
     "name": "stdout",
     "output_type": "stream",
     "text": [
      "                              feature        VIF\n",
      "0           Credit-Application-Result   3.755227\n",
      "1                     Account-Balance   2.298643\n",
      "2            Duration-of-Credit-Month   6.801345\n",
      "3   Payment-Status-of-Previous-Credit   2.681452\n",
      "4                             Purpose   1.366454\n",
      "5                       Credit-Amount   4.487313\n",
      "6                Value-Savings-Stocks   5.112893\n",
      "7        Length-of-current-employment   3.711536\n",
      "8                 Instalment-per-cent   8.940110\n",
      "9       Most-valuable-available-asset   7.919140\n",
      "10                          Age-years  11.578745\n",
      "11                  Type-of-apartment  16.898414\n",
      "12         No-of-Credits-at-this-Bank   1.999676\n"
     ]
    }
   ],
   "source": [
    "# VIF dataframe\n",
    "vif_data = pd.DataFrame()\n",
    "vif_data[\"feature\"] = df.columns\n",
    "\n",
    "# calculating VIF for each qos feature\n",
    "vif_data[\"VIF\"] = [variance_inflation_factor(df.values, i) for i in range(len(df.columns))]\n",
    "\n",
    "print(vif_data)"
   ]
  },
  {
   "cell_type": "markdown",
   "id": "8dd40622",
   "metadata": {},
   "source": [
    "From the VIF above, we have so many collinear features but we will still retain up to 13 including Age_years according the project overview. Lets's proceed and select the ones to include."
   ]
  },
  {
   "cell_type": "code",
   "execution_count": 31,
   "id": "a77013f3",
   "metadata": {},
   "outputs": [
    {
     "name": "stdout",
     "output_type": "stream",
     "text": [
      "['Credit-Application-Result', 'Account-Balance', 'Duration-of-Credit-Month', 'Payment-Status-of-Previous-Credit', 'Purpose', 'Credit-Amount', 'Value-Savings-Stocks', 'Length-of-current-employment', 'Instalment-per-cent', 'Most-valuable-available-asset', 'Age-years', 'Type-of-apartment', 'No-of-Credits-at-this-Bank']\n"
     ]
    }
   ],
   "source": [
    "columns_to_include_now = vif_data['feature'].to_list()\n",
    "print(columns_to_include_now)"
   ]
  },
  {
   "cell_type": "code",
   "execution_count": 32,
   "id": "854e90e7",
   "metadata": {},
   "outputs": [],
   "source": [
    "columns_to_include = ['Account-Balance', 'Duration-of-Credit-Month', 'Payment-Status-of-Previous-Credit', 'Purpose', 'Credit-Amount', 'Value-Savings-Stocks', 'Length-of-current-employment', 'Instalment-per-cent', 'Most-valuable-available-asset', 'Age-years', 'Type-of-apartment', 'No-of-Credits-at-this-Bank']"
   ]
  },
  {
   "cell_type": "code",
   "execution_count": 33,
   "id": "cc6928ef",
   "metadata": {},
   "outputs": [
    {
     "name": "stdout",
     "output_type": "stream",
     "text": [
      "(500, 12)\n",
      "(500,)\n"
     ]
    }
   ],
   "source": [
    "X = df[columns_to_include]\n",
    "y = df['Credit-Application-Result']\n",
    "print(X.shape)\n",
    "print(y.shape)"
   ]
  },
  {
   "cell_type": "markdown",
   "id": "be010de7",
   "metadata": {},
   "source": [
    "Let us quickly do some data exploration. what is the distribution of the previous customers who repaid their loan?\n",
    "and What is the percentage as well?"
   ]
  },
  {
   "cell_type": "code",
   "execution_count": 34,
   "id": "900afce3",
   "metadata": {},
   "outputs": [
    {
     "data": {
      "text/plain": [
       "1    358\n",
       "0    142\n",
       "Name: Credit-Application-Result, dtype: int64"
      ]
     },
     "execution_count": 34,
     "metadata": {},
     "output_type": "execute_result"
    }
   ],
   "source": [
    "y.value_counts()"
   ]
  },
  {
   "cell_type": "code",
   "execution_count": 35,
   "id": "46b9811f",
   "metadata": {},
   "outputs": [
    {
     "data": {
      "text/plain": [
       "<AxesSubplot:xlabel='Credit-Application-Result', ylabel='count'>"
      ]
     },
     "execution_count": 35,
     "metadata": {},
     "output_type": "execute_result"
    },
    {
     "data": {
      "image/png": "[encoded data removed]",
      "text/plain": [
       "<Figure size 432x288 with 1 Axes>"
      ]
     },
     "metadata": {
      "needs_background": "light"
     },
     "output_type": "display_data"
    }
   ],
   "source": [
    "sns.countplot(x='Credit-Application-Result', data=df, palette='hls')"
   ]
  },
  {
   "cell_type": "code",
   "execution_count": 36,
   "id": "5417d53c",
   "metadata": {},
   "outputs": [
    {
     "name": "stdout",
     "output_type": "stream",
     "text": [
      "percentage of customers not granted credit is 28.4\n",
      "percentage of customers granted credit is 71.6\n"
     ]
    }
   ],
   "source": [
    "count_no_credit = len(df[df['Credit-Application-Result']==0])\n",
    "count_credit = len(df[df['Credit-Application-Result']==1])\n",
    "pct_of_no_credit = count_no_credit/(count_no_credit+count_credit)\n",
    "print(\"percentage of customers not granted credit is\", pct_of_no_credit*100)\n",
    "pct_of_credit = count_credit/(count_no_credit+count_credit)\n",
    "print(\"percentage of customers granted credit is\", pct_of_credit*100)"
   ]
  },
  {
   "cell_type": "code",
   "execution_count": 37,
   "id": "df9033d9",
   "metadata": {},
   "outputs": [
    {
     "data": {
      "text/html": [
       "<div>\n",
       "<style scoped>\n",
       "    .dataframe tbody tr th:only-of-type {\n",
       "        vertical-align: middle;\n",
       "    }\n",
       "\n",
       "    .dataframe tbody tr th {\n",
       "        vertical-align: top;\n",
       "    }\n",
       "\n",
       "    .dataframe thead th {\n",
       "        text-align: right;\n",
       "    }\n",
       "</style>\n",
       "<table border=\"1\" class=\"dataframe\">\n",
       "  <thead>\n",
       "    <tr style=\"text-align: right;\">\n",
       "      <th></th>\n",
       "      <th>Account-Balance</th>\n",
       "      <th>Duration-of-Credit-Month</th>\n",
       "      <th>Payment-Status-of-Previous-Credit</th>\n",
       "      <th>Purpose</th>\n",
       "      <th>Credit-Amount</th>\n",
       "      <th>Value-Savings-Stocks</th>\n",
       "      <th>Length-of-current-employment</th>\n",
       "      <th>Instalment-per-cent</th>\n",
       "      <th>Most-valuable-available-asset</th>\n",
       "      <th>Age-years</th>\n",
       "      <th>Type-of-apartment</th>\n",
       "      <th>No-of-Credits-at-this-Bank</th>\n",
       "    </tr>\n",
       "    <tr>\n",
       "      <th>Credit-Application-Result</th>\n",
       "      <th></th>\n",
       "      <th></th>\n",
       "      <th></th>\n",
       "      <th></th>\n",
       "      <th></th>\n",
       "      <th></th>\n",
       "      <th></th>\n",
       "      <th></th>\n",
       "      <th></th>\n",
       "      <th></th>\n",
       "      <th></th>\n",
       "      <th></th>\n",
       "    </tr>\n",
       "  </thead>\n",
       "  <tbody>\n",
       "    <tr>\n",
       "      <th>0</th>\n",
       "      <td>0.225352</td>\n",
       "      <td>25.387324</td>\n",
       "      <td>0.880282</td>\n",
       "      <td>0.535211</td>\n",
       "      <td>4106.957746</td>\n",
       "      <td>1.105634</td>\n",
       "      <td>1.492958</td>\n",
       "      <td>3.119718</td>\n",
       "      <td>2.598592</td>\n",
       "      <td>34.619718</td>\n",
       "      <td>1.950704</td>\n",
       "      <td>0.316901</td>\n",
       "    </tr>\n",
       "    <tr>\n",
       "      <th>1</th>\n",
       "      <td>0.575419</td>\n",
       "      <td>19.865922</td>\n",
       "      <td>0.578212</td>\n",
       "      <td>0.698324</td>\n",
       "      <td>2840.229050</td>\n",
       "      <td>1.254190</td>\n",
       "      <td>1.312849</td>\n",
       "      <td>2.966480</td>\n",
       "      <td>2.265363</td>\n",
       "      <td>35.952514</td>\n",
       "      <td>1.918994</td>\n",
       "      <td>0.377095</td>\n",
       "    </tr>\n",
       "  </tbody>\n",
       "</table>\n",
       "</div>"
      ],
      "text/plain": [
       "                           Account-Balance  Duration-of-Credit-Month  \\\n",
       "Credit-Application-Result                                              \n",
       "0                                 0.225352                 25.387324   \n",
       "1                                 0.575419                 19.865922   \n",
       "\n",
       "                           Payment-Status-of-Previous-Credit   Purpose  \\\n",
       "Credit-Application-Result                                                \n",
       "0                                                   0.880282  0.535211   \n",
       "1                                                   0.578212  0.698324   \n",
       "\n",
       "                           Credit-Amount  Value-Savings-Stocks  \\\n",
       "Credit-Application-Result                                        \n",
       "0                            4106.957746              1.105634   \n",
       "1                            2840.229050              1.254190   \n",
       "\n",
       "                           Length-of-current-employment  Instalment-per-cent  \\\n",
       "Credit-Application-Result                                                      \n",
       "0                                              1.492958             3.119718   \n",
       "1                                              1.312849             2.966480   \n",
       "\n",
       "                           Most-valuable-available-asset  Age-years  \\\n",
       "Credit-Application-Result                                             \n",
       "0                                               2.598592  34.619718   \n",
       "1                                               2.265363  35.952514   \n",
       "\n",
       "                           Type-of-apartment  No-of-Credits-at-this-Bank  \n",
       "Credit-Application-Result                                                 \n",
       "0                                   1.950704                    0.316901  \n",
       "1                                   1.918994                    0.377095  "
      ]
     },
     "execution_count": 37,
     "metadata": {},
     "output_type": "execute_result"
    }
   ],
   "source": [
    "df.groupby('Credit-Application-Result').mean()"
   ]
  },
  {
   "cell_type": "code",
   "execution_count": 38,
   "id": "56e85e5f",
   "metadata": {},
   "outputs": [
    {
     "data": {
      "image/png": "[encoded data removed]",
      "text/plain": [
       "<Figure size 432x288 with 1 Axes>"
      ]
     },
     "metadata": {
      "needs_background": "light"
     },
     "output_type": "display_data"
    }
   ],
   "source": [
    "df['Age-years'].hist()\n",
    "plt.title('Histogram of Age')\n",
    "plt.xlabel('Age')\n",
    "plt.ylabel('Frequency')\n",
    "plt.savefig('hist_age')"
   ]
  },
  {
   "cell_type": "markdown",
   "id": "fdb22d47",
   "metadata": {},
   "source": [
    "Most of the customers that applied for the previous loan are between 25 to 30 years"
   ]
  },
  {
   "cell_type": "code",
   "execution_count": 39,
   "id": "80ee15ff",
   "metadata": {},
   "outputs": [
    {
     "data": {
      "image/png": "[encoded data removed]",
      "text/plain": [
       "<Figure size 432x288 with 1 Axes>"
      ]
     },
     "metadata": {
      "needs_background": "light"
     },
     "output_type": "display_data"
    }
   ],
   "source": [
    "pd.crosstab(df['Payment-Status-of-Previous-Credit'],df['Credit-Application-Result']).plot(kind='bar')\n",
    "plt.title('Payment-Status-of-Previous-Credit by Credit-Application-Result')\n",
    "plt.xlabel('Payment-Status-of-Previous-Credit')\n",
    "plt.ylabel('Credit-Application-Result')\n",
    "plt.savefig('Payment-Status-of-Previous-Credit')"
   ]
  },
  {
   "cell_type": "markdown",
   "id": "3a534b5c",
   "metadata": {},
   "source": [
    "The visualization is still inline with the inference that the Payment-Status-of-Previous-Credit of past loan is a good predictor variable. Enough of visualization, let us get to work."
   ]
  },
  {
   "cell_type": "markdown",
   "id": "0123f095",
   "metadata": {},
   "source": [
    "Interesting Statistics we have got up there"
   ]
  },
  {
   "cell_type": "code",
   "execution_count": 40,
   "id": "cce02697",
   "metadata": {},
   "outputs": [
    {
     "data": {
      "text/plain": [
       "(500, 12)"
      ]
     },
     "execution_count": 40,
     "metadata": {},
     "output_type": "execute_result"
    }
   ],
   "source": [
    "X.shape"
   ]
  },
  {
   "cell_type": "code",
   "execution_count": 41,
   "id": "b2ab8468",
   "metadata": {},
   "outputs": [
    {
     "data": {
      "text/plain": [
       "(500,)"
      ]
     },
     "execution_count": 41,
     "metadata": {},
     "output_type": "execute_result"
    }
   ],
   "source": [
    "y.shape"
   ]
  },
  {
   "cell_type": "markdown",
   "id": "2a9453af",
   "metadata": {},
   "source": [
    "Now, as can be seen above, we have exactly 12 columns of features and 1 column as the target.\n",
    "Let's begin the model building part; stay tuned!"
   ]
  },
  {
   "cell_type": "markdown",
   "id": "d498bf33",
   "metadata": {},
   "source": [
    "Logistic Regression Model Fitting"
   ]
  },
  {
   "cell_type": "code",
   "execution_count": 42,
   "id": "47287e90",
   "metadata": {},
   "outputs": [
    {
     "name": "stderr",
     "output_type": "stream",
     "text": [
      "C:\\Users\\SUNNY\\anaconda3\\lib\\site-packages\\sklearn\\linear_model\\_logistic.py:763: ConvergenceWarning: lbfgs failed to converge (status=1):\n",
      "STOP: TOTAL NO. of ITERATIONS REACHED LIMIT.\n",
      "\n",
      "Increase the number of iterations (max_iter) or scale the data as shown in:\n",
      "    https://scikit-learn.org/stable/modules/preprocessing.html\n",
      "Please also refer to the documentation for alternative solver options:\n",
      "    https://scikit-learn.org/stable/modules/linear_model.html#logistic-regression\n",
      "  n_iter_i = _check_optimize_result(\n"
     ]
    },
    {
     "data": {
      "text/plain": [
       "LogisticRegression()"
      ]
     },
     "execution_count": 42,
     "metadata": {},
     "output_type": "execute_result"
    }
   ],
   "source": [
    "from sklearn.model_selection import train_test_split\n",
    "from sklearn.linear_model import LogisticRegression\n",
    "from sklearn import metrics\n",
    "X_train, X_test, y_train, y_test = train_test_split(X, y, test_size=0.3, random_state=0)\n",
    "logreg = LogisticRegression()\n",
    "logreg.fit(X_train, y_train)"
   ]
  },
  {
   "cell_type": "markdown",
   "id": "d4b039d1",
   "metadata": {},
   "source": [
    "Predicting the test set results and calculating the accuracy"
   ]
  },
  {
   "cell_type": "code",
   "execution_count": 43,
   "id": "b3c6b046",
   "metadata": {},
   "outputs": [
    {
     "name": "stdout",
     "output_type": "stream",
     "text": [
      "Accuracy of logistic regression classifier on test set: 0.71\n"
     ]
    }
   ],
   "source": [
    "y_pred = logreg.predict(X_test)\n",
    "print('Accuracy of logistic regression classifier on test set: {:.2f}'.format(logreg.score(X_test, y_test)))"
   ]
  },
  {
   "cell_type": "markdown",
   "id": "e0c87673",
   "metadata": {},
   "source": [
    "Now, let's plot the feature importance for the logistic regression\n",
    "Logistic regression does not have an attribute for ranking feature. If you want to visualize the coefficients that you can use to show feature importance. Basically, we assume bigger coefficents has more contribution to the model but have to be sure that the features has THE SAME SCALE otherwise this assumption is not correct. Note that, some coefficents could be negative so we have used the absolute value function to convert all to positive and other our plot in increasing order of feature importance."
   ]
  },
  {
   "cell_type": "code",
   "execution_count": 44,
   "id": "2ffdad6b",
   "metadata": {},
   "outputs": [
    {
     "data": {
      "text/plain": [
       "<AxesSubplot:title={'center':'Feature Importance'}>"
      ]
     },
     "execution_count": 44,
     "metadata": {},
     "output_type": "execute_result"
    },
    {
     "data": {
      "image/png": "[encoded data removed]",
      "text/plain": [
       "<Figure size 432x288 with 1 Axes>"
      ]
     },
     "metadata": {
      "needs_background": "light"
     },
     "output_type": "display_data"
    }
   ],
   "source": [
    "importance = logreg.coef_[0]\n",
    "#importance is a list so we can plot it.\n",
    "importance = [abs(x) for x in importance]\n",
    "feat_importances = pd.Series(importance)\n",
    "feat_importances.nlargest(20).plot(kind='barh',title = 'Feature Importance')"
   ]
  },
  {
   "cell_type": "markdown",
   "id": "2083fcae",
   "metadata": {},
   "source": [
    "As can be seen above, the variable that contributes most to the model is label 0 which corresponds to 'Account Balance'"
   ]
  },
  {
   "cell_type": "code",
   "execution_count": null,
   "id": "c94129e0",
   "metadata": {},
   "outputs": [],
   "source": []
  },
  {
   "cell_type": "markdown",
   "id": "c7398de0",
   "metadata": {},
   "source": [
    "Let's visualize the confusion matrix"
   ]
  },
  {
   "cell_type": "code",
   "execution_count": 45,
   "id": "d4890d46",
   "metadata": {},
   "outputs": [
    {
     "name": "stdout",
     "output_type": "stream",
     "text": [
      "[[16 33]\n",
      " [11 90]]\n"
     ]
    }
   ],
   "source": [
    "from sklearn.metrics import confusion_matrix\n",
    "confusion_matrix = confusion_matrix(y_test, y_pred)\n",
    "print(confusion_matrix)"
   ]
  },
  {
   "cell_type": "code",
   "execution_count": null,
   "id": "85d73537",
   "metadata": {},
   "outputs": [],
   "source": []
  },
  {
   "cell_type": "code",
   "execution_count": 46,
   "id": "31ae0362",
   "metadata": {},
   "outputs": [],
   "source": [
    "# Let's define a function to plot the confusion matrix with cool features and display recall, precision, etc\n",
    "def make_confusion_matrix(cf,\n",
    "                          group_names=None,\n",
    "                          categories='auto',\n",
    "                          count=True,\n",
    "                          percent=True,\n",
    "                          cbar=True,\n",
    "                          xyticks=True,\n",
    "                          xyplotlabels=True,\n",
    "                          sum_stats=True,\n",
    "                          figsize=None,\n",
    "                          cmap='Blues',\n",
    "                          title=None):\n",
    "    '''\n",
    "    This function will make a pretty plot of an sklearn Confusion Matrix cm using a Seaborn heatmap visualization.\n",
    "    Arguments\n",
    "    ---------\n",
    "    cf:            confusion matrix to be passed in\n",
    "    group_names:   List of strings that represent the labels row by row to be shown in each square.\n",
    "    categories:    List of strings containing the categories to be displayed on the x,y axis. Default is 'auto'\n",
    "    count:         If True, show the raw number in the confusion matrix. Default is True.\n",
    "    normalize:     If True, show the proportions for each category. Default is True.\n",
    "    cbar:          If True, show the color bar. The cbar values are based off the values in the confusion matrix.\n",
    "                   Default is True.\n",
    "    xyticks:       If True, show x and y ticks. Default is True.\n",
    "    xyplotlabels:  If True, show 'True Label' and 'Predicted Label' on the figure. Default is True.\n",
    "    sum_stats:     If True, display summary statistics below the figure. Default is True.\n",
    "    figsize:       Tuple representing the figure size. Default will be the matplotlib rcParams value.\n",
    "    cmap:          Colormap of the values displayed from matplotlib.pyplot.cm. Default is 'Blues'\n",
    "                   See http://matplotlib.org/examples/color/colormaps_reference.html\n",
    "                   \n",
    "    title:         Title for the heatmap. Default is None.\n",
    "    '''\n",
    "\n",
    "\n",
    "    # CODE TO GENERATE TEXT INSIDE EACH SQUARE\n",
    "    blanks = ['' for i in range(cf.size)]\n",
    "\n",
    "    if group_names and len(group_names)==cf.size:\n",
    "        group_labels = [\"{}\\n\".format(value) for value in group_names]\n",
    "    else:\n",
    "        group_labels = blanks\n",
    "\n",
    "    if count:\n",
    "        group_counts = [\"{0:0.0f}\\n\".format(value) for value in cf.flatten()]\n",
    "    else:\n",
    "        group_counts = blanks\n",
    "\n",
    "    if percent:\n",
    "        group_percentages = [\"{0:.2%}\".format(value) for value in cf.flatten()/np.sum(cf)]\n",
    "    else:\n",
    "        group_percentages = blanks\n",
    "\n",
    "    box_labels = [f\"{v1}{v2}{v3}\".strip() for v1, v2, v3 in zip(group_labels,group_counts,group_percentages)]\n",
    "    box_labels = np.asarray(box_labels).reshape(cf.shape[0],cf.shape[1])\n",
    "\n",
    "\n",
    "    # CODE TO GENERATE SUMMARY STATISTICS & TEXT FOR SUMMARY STATS\n",
    "    if sum_stats:\n",
    "        #Accuracy is sum of diagonal divided by total observations\n",
    "        accuracy  = np.trace(cf) / float(np.sum(cf))\n",
    "\n",
    "        #if it is a binary confusion matrix, show some more stats\n",
    "        if len(cf)==2:\n",
    "            #Metrics for Binary Confusion Matrices\n",
    "            precision = cf[1,1] / sum(cf[:,1])\n",
    "            recall    = cf[1,1] / sum(cf[1,:])\n",
    "            f1_score  = 2*precision*recall / (precision + recall)\n",
    "            stats_text = \"\\n\\nAccuracy={:0.3f}\\nPrecision={:0.3f}\\nRecall={:0.3f}\\nF1 Score={:0.3f}\".format(\n",
    "                accuracy,precision,recall,f1_score)\n",
    "        else:\n",
    "            stats_text = \"\\n\\nAccuracy={:0.3f}\".format(accuracy)\n",
    "    else:\n",
    "        stats_text = \"\"\n",
    "\n",
    "\n",
    "    # SET FIGURE PARAMETERS ACCORDING TO OTHER ARGUMENTS\n",
    "    if figsize==None:\n",
    "        #Get default figure size if not set\n",
    "        figsize = plt.rcParams.get('figure.figsize')\n",
    "\n",
    "    if xyticks==False:\n",
    "        #Do not show categories if xyticks is False\n",
    "        categories=False\n",
    "\n",
    "\n",
    "    # MAKE THE HEATMAP VISUALIZATION\n",
    "    plt.figure(figsize=figsize)\n",
    "    sns.heatmap(cf,annot=box_labels,fmt=\"\",cmap=cmap,cbar=cbar,xticklabels=categories,yticklabels=categories)\n",
    "\n",
    "    if xyplotlabels:\n",
    "        plt.ylabel('True label')\n",
    "        plt.xlabel('Predicted label' + stats_text)\n",
    "    else:\n",
    "        plt.xlabel(stats_text)\n",
    "    \n",
    "    if title:\n",
    "        plt.title(title)"
   ]
  },
  {
   "cell_type": "code",
   "execution_count": 47,
   "id": "cc421463",
   "metadata": {},
   "outputs": [
    {
     "data": {
      "image/png": "[encoded data removed]",
      "text/plain": [
       "<Figure size 432x288 with 2 Axes>"
      ]
     },
     "metadata": {
      "needs_background": "light"
     },
     "output_type": "display_data"
    }
   ],
   "source": [
    "labels = ['True Negative', 'False Positive', 'False Negative', 'True Positive']\n",
    "categories = ['Zero', 'One']\n",
    "make_confusion_matrix(confusion_matrix, \n",
    "                      group_names=labels,\n",
    "                      categories=categories, \n",
    "                      cmap='Blues')"
   ]
  },
  {
   "cell_type": "markdown",
   "id": "6ee9e516",
   "metadata": {},
   "source": [
    "Let's move to Decision Tree Classifier, I will relode the data and used it as categories since this classifier can handle categorical data efficiently."
   ]
  },
  {
   "cell_type": "code",
   "execution_count": 48,
   "id": "2ade220b",
   "metadata": {},
   "outputs": [],
   "source": [
    "from sklearn import tree\n",
    "from sklearn.tree import DecisionTreeClassifier\n",
    "from sklearn.metrics import accuracy_score"
   ]
  },
  {
   "cell_type": "code",
   "execution_count": 49,
   "id": "d2f35446",
   "metadata": {},
   "outputs": [],
   "source": [
    "dt_classifer = DecisionTreeClassifier(criterion='entropy', random_state=0, max_depth=5, min_samples_leaf=4)"
   ]
  },
  {
   "cell_type": "code",
   "execution_count": 50,
   "id": "3baa2324",
   "metadata": {},
   "outputs": [
    {
     "data": {
      "text/plain": [
       "DecisionTreeClassifier(criterion='entropy', max_depth=5, min_samples_leaf=4,\n",
       "                       random_state=0)"
      ]
     },
     "execution_count": 50,
     "metadata": {},
     "output_type": "execute_result"
    }
   ],
   "source": [
    "dt_classifer.fit(X_train, y_train)"
   ]
  },
  {
   "cell_type": "code",
   "execution_count": 51,
   "id": "c77129aa",
   "metadata": {},
   "outputs": [],
   "source": [
    "y_pred = dt_classifer.predict(X_test)"
   ]
  },
  {
   "cell_type": "code",
   "execution_count": 52,
   "id": "27e09f02",
   "metadata": {},
   "outputs": [
    {
     "name": "stdout",
     "output_type": "stream",
     "text": [
      "Accuracy is 0.7066666666666667\n"
     ]
    }
   ],
   "source": [
    "print(f'Accuracy is {accuracy_score(y_pred, y_test)}')"
   ]
  },
  {
   "cell_type": "code",
   "execution_count": 53,
   "id": "78744f84",
   "metadata": {},
   "outputs": [],
   "source": [
    "# Let's define a function to plot our feature importance for the remaining 3 models\n",
    "def plot_feature_importances(model):\n",
    "    n_features = 12\n",
    "    plt.figure(figsize=(12,8))\n",
    "    plt.barh(range(n_features), model.feature_importances_, align='center') \n",
    "    plt.yticks(np.arange(n_features), X.columns.values) \n",
    "    plt.xlabel('Feature importance')\n",
    "    plt.ylabel('Feature')\n"
   ]
  },
  {
   "cell_type": "code",
   "execution_count": 54,
   "id": "76fa952a",
   "metadata": {},
   "outputs": [
    {
     "data": {
      "image/png": "[encoded data removed]",
      "text/plain": [
       "<Figure size 864x576 with 1 Axes>"
      ]
     },
     "metadata": {
      "needs_background": "light"
     },
     "output_type": "display_data"
    }
   ],
   "source": [
    "# Feature importance for Decision Tree Classifier\n",
    "plot_feature_importances(dt_classifer)"
   ]
  },
  {
   "cell_type": "code",
   "execution_count": 55,
   "id": "e7eab6a6",
   "metadata": {},
   "outputs": [
    {
     "name": "stdout",
     "output_type": "stream",
     "text": [
      "[[16 33]\n",
      " [11 90]]\n"
     ]
    }
   ],
   "source": [
    "from sklearn.metrics import confusion_matrix\n",
    "confusion_matrix = confusion_matrix(y_test, y_pred)\n",
    "print(confusion_matrix)"
   ]
  },
  {
   "cell_type": "code",
   "execution_count": 56,
   "id": "ccd737d4",
   "metadata": {},
   "outputs": [
    {
     "data": {
      "image/png": "[encoded data removed]",
      "text/plain": [
       "<Figure size 432x288 with 2 Axes>"
      ]
     },
     "metadata": {
      "needs_background": "light"
     },
     "output_type": "display_data"
    }
   ],
   "source": [
    "labels = ['True Negative', 'False Positive', 'False Negative', 'True Positive']\n",
    "categories = ['Zero', 'One']\n",
    "make_confusion_matrix(confusion_matrix, \n",
    "                      group_names=labels,\n",
    "                      categories=categories, \n",
    "                      cmap='Blues')"
   ]
  },
  {
   "cell_type": "markdown",
   "id": "560e23d3",
   "metadata": {},
   "source": [
    "Next is Forest model. We will be implementing the random forest classifier with python"
   ]
  },
  {
   "cell_type": "code",
   "execution_count": 57,
   "id": "185a2d8b",
   "metadata": {},
   "outputs": [],
   "source": [
    "from sklearn.ensemble import RandomForestClassifier\n"
   ]
  },
  {
   "cell_type": "code",
   "execution_count": 58,
   "id": "b2fbea70",
   "metadata": {},
   "outputs": [],
   "source": [
    "from sklearn.model_selection import KFold\n",
    "kf = KFold(n_splits=2, random_state = 42, shuffle=True)\n",
    "results = []"
   ]
  },
  {
   "cell_type": "code",
   "execution_count": 59,
   "id": "9d11f926",
   "metadata": {},
   "outputs": [],
   "source": [
    "for train_index, test_index in kf.split(X):\n",
    "     X_train, X_test = X.iloc[train_index], X.iloc[test_index]\n",
    "     y_train, y_test = y.iloc[train_index], y.iloc[test_index]"
   ]
  },
  {
   "cell_type": "code",
   "execution_count": 60,
   "id": "0bc6fd15",
   "metadata": {},
   "outputs": [],
   "source": [
    "for train_index, test_index in kf.split(X):\n",
    "    model = RandomForestClassifier(n_estimators = 100, random_state = 4)\n",
    "    model.fit(X_train, y_train)\n",
    "    y_pred = model.predict(X_test)\n",
    "    results.append(accuracy_score(y_test, y_pred))"
   ]
  },
  {
   "cell_type": "code",
   "execution_count": 61,
   "id": "baa3c94e",
   "metadata": {},
   "outputs": [
    {
     "name": "stdout",
     "output_type": "stream",
     "text": [
      "Accuracy:  0.78\n"
     ]
    }
   ],
   "source": [
    "print(\"Accuracy: \", np.mean(results))"
   ]
  },
  {
   "cell_type": "code",
   "execution_count": 62,
   "id": "d956098f",
   "metadata": {},
   "outputs": [
    {
     "data": {
      "text/plain": [
       "0.78"
      ]
     },
     "execution_count": 62,
     "metadata": {},
     "output_type": "execute_result"
    }
   ],
   "source": [
    "accuracy_score(y_test, y_pred)"
   ]
  },
  {
   "cell_type": "code",
   "execution_count": 63,
   "id": "a0397aa1",
   "metadata": {},
   "outputs": [
    {
     "data": {
      "image/png": "[encoded data removed]",
      "text/plain": [
       "<Figure size 864x576 with 1 Axes>"
      ]
     },
     "metadata": {
      "needs_background": "light"
     },
     "output_type": "display_data"
    }
   ],
   "source": [
    "# Feature importance plot for random forest\n",
    "plot_feature_importances(model)"
   ]
  },
  {
   "cell_type": "code",
   "execution_count": 64,
   "id": "1b6e7ea7",
   "metadata": {},
   "outputs": [
    {
     "name": "stdout",
     "output_type": "stream",
     "text": [
      "[[ 24  51]\n",
      " [  4 171]]\n"
     ]
    }
   ],
   "source": [
    "from sklearn.metrics import confusion_matrix\n",
    "confusion_matrix = confusion_matrix(y_test, y_pred)\n",
    "print(confusion_matrix)"
   ]
  },
  {
   "cell_type": "code",
   "execution_count": 65,
   "id": "745e2170",
   "metadata": {},
   "outputs": [
    {
     "data": {
      "image/png": "[encoded data removed]",
      "text/plain": [
       "<Figure size 432x288 with 2 Axes>"
      ]
     },
     "metadata": {
      "needs_background": "light"
     },
     "output_type": "display_data"
    }
   ],
   "source": [
    "labels = ['True Negative', 'False Positive', 'False Negative', 'True Positive']\n",
    "categories = ['Zero', 'One']\n",
    "make_confusion_matrix(confusion_matrix, \n",
    "                      group_names=labels,\n",
    "                      categories=categories, \n",
    "                      cmap='Blues')"
   ]
  },
  {
   "cell_type": "markdown",
   "id": "6c9a0f1a",
   "metadata": {},
   "source": [
    "Finally, Lets's move to Boosted tree. This will be implemented using gradient boosting in Python"
   ]
  },
  {
   "cell_type": "code",
   "execution_count": 66,
   "id": "810f1189",
   "metadata": {},
   "outputs": [],
   "source": [
    "from sklearn.metrics import classification_report\n",
    "from sklearn.model_selection import KFold\n",
    "from sklearn.ensemble import GradientBoostingClassifier"
   ]
  },
  {
   "cell_type": "code",
   "execution_count": 67,
   "id": "cca90ef1",
   "metadata": {},
   "outputs": [],
   "source": [
    "kf = KFold(n_splits=5,random_state=42,shuffle=True)\n",
    "for train_index,val_index in kf.split(X):\n",
    "    X_train,X_val = X.iloc[train_index],X.iloc[val_index],\n",
    "    y_train,y_val = y.iloc[train_index],y.iloc[val_index],"
   ]
  },
  {
   "cell_type": "code",
   "execution_count": 68,
   "id": "2b7ae066",
   "metadata": {},
   "outputs": [
    {
     "data": {
      "text/plain": [
       "{'ccp_alpha': 0.0,\n",
       " 'criterion': 'friedman_mse',\n",
       " 'init': None,\n",
       " 'learning_rate': 0.1,\n",
       " 'loss': 'deviance',\n",
       " 'max_depth': 3,\n",
       " 'max_features': None,\n",
       " 'max_leaf_nodes': None,\n",
       " 'min_impurity_decrease': 0.0,\n",
       " 'min_impurity_split': None,\n",
       " 'min_samples_leaf': 1,\n",
       " 'min_samples_split': 2,\n",
       " 'min_weight_fraction_leaf': 0.0,\n",
       " 'n_estimators': 100,\n",
       " 'n_iter_no_change': None,\n",
       " 'random_state': None,\n",
       " 'subsample': 1.0,\n",
       " 'tol': 0.0001,\n",
       " 'validation_fraction': 0.1,\n",
       " 'verbose': 0,\n",
       " 'warm_start': False}"
      ]
     },
     "execution_count": 68,
     "metadata": {},
     "output_type": "execute_result"
    }
   ],
   "source": [
    "gradient_booster = GradientBoostingClassifier(learning_rate=0.1)\n",
    "gradient_booster.get_params()"
   ]
  },
  {
   "cell_type": "markdown",
   "id": "a28b42ed",
   "metadata": {},
   "source": [
    "Criterion: The loss function used to find the optimal feature and threshold to split the data\n",
    "learning_rate: this parameter scales the contribution of each tree\n",
    "max_depth: the maximum depth of each tree\n",
    "n_estimators: the number of trees to construct\n",
    "init: the initial estimator. By default, it is the log(odds) converted to a probability(like we discussed before)\n"
   ]
  },
  {
   "cell_type": "code",
   "execution_count": 69,
   "id": "52a25608",
   "metadata": {},
   "outputs": [
    {
     "data": {
      "text/plain": [
       "GradientBoostingClassifier()"
      ]
     },
     "execution_count": 69,
     "metadata": {},
     "output_type": "execute_result"
    }
   ],
   "source": [
    "gradient_booster.fit(X_train,y_train)\n"
   ]
  },
  {
   "cell_type": "code",
   "execution_count": 70,
   "id": "daf0d0ac",
   "metadata": {},
   "outputs": [
    {
     "name": "stdout",
     "output_type": "stream",
     "text": [
      "              precision    recall  f1-score   support\n",
      "\n",
      "           0       0.53      0.36      0.43        22\n",
      "           1       0.84      0.91      0.87        78\n",
      "\n",
      "    accuracy                           0.79       100\n",
      "   macro avg       0.68      0.64      0.65       100\n",
      "weighted avg       0.77      0.79      0.77       100\n",
      "\n"
     ]
    }
   ],
   "source": [
    "print(classification_report(y_val,gradient_booster.predict(X_val)))"
   ]
  },
  {
   "cell_type": "code",
   "execution_count": 71,
   "id": "9c539617",
   "metadata": {},
   "outputs": [
    {
     "data": {
      "text/plain": [
       "0.872"
      ]
     },
     "execution_count": 71,
     "metadata": {},
     "output_type": "execute_result"
    }
   ],
   "source": [
    "y_pred = gradient_booster.predict(X_test)\n",
    "accuracy_score(y_test, y_pred)"
   ]
  },
  {
   "cell_type": "code",
   "execution_count": 72,
   "id": "80106475",
   "metadata": {},
   "outputs": [
    {
     "data": {
      "image/png": "[encoded data removed]",
      "text/plain": [
       "<Figure size 864x576 with 1 Axes>"
      ]
     },
     "metadata": {
      "needs_background": "light"
     },
     "output_type": "display_data"
    }
   ],
   "source": [
    "# Feature importance for gradient bossting\n",
    "plot_feature_importances(gradient_booster)"
   ]
  },
  {
   "cell_type": "code",
   "execution_count": 73,
   "id": "82a91ac9",
   "metadata": {},
   "outputs": [
    {
     "name": "stdout",
     "output_type": "stream",
     "text": [
      "[[ 50  25]\n",
      " [  7 168]]\n"
     ]
    }
   ],
   "source": [
    "from sklearn.metrics import confusion_matrix\n",
    "confusion_matrix = confusion_matrix(y_test, y_pred)\n",
    "print(confusion_matrix)"
   ]
  },
  {
   "cell_type": "code",
   "execution_count": 74,
   "id": "8c91ed40",
   "metadata": {},
   "outputs": [
    {
     "data": {
      "image/png": "[encoded data removed]",
      "text/plain": [
       "<Figure size 432x288 with 2 Axes>"
      ]
     },
     "metadata": {
      "needs_background": "light"
     },
     "output_type": "display_data"
    }
   ],
   "source": [
    "labels = ['True Negative', 'False Positive', 'False Negative', 'True Positive']\n",
    "categories = ['Zero', 'One']\n",
    "make_confusion_matrix(confusion_matrix, \n",
    "                      group_names=labels,\n",
    "                      categories=categories, \n",
    "                      cmap='Blues')"
   ]
  },
  {
   "cell_type": "markdown",
   "id": "79f24d09",
   "metadata": {},
   "source": [
    "Wow!!!!!! AND WE ARE DONE and can see can Gradient boosting outperformed every other models. Hence, we will use this last model to classify the new customers."
   ]
  },
  {
   "cell_type": "code",
   "execution_count": 75,
   "id": "b95c1a06",
   "metadata": {},
   "outputs": [],
   "source": [
    "data = 'customers-to-score (1).xlsx'\n",
    "df = pd.read_excel(data)\n",
    "df.head()\n",
    "df.drop(['Concurrent-Credits', 'Occupation'], axis=1, inplace=True)\n",
    "df = df.fillna(df.median())\n",
    "for col in df.columns:\n",
    "    if df[col].dtype == 'object':\n",
    "        df[col] = df[col].astype('category')\n",
    "\n",
    "# converting all the categorical data in our dataframe into numbers. We can't feed in categories to NN, we must convert it first.\n",
    "\n",
    "cat_columns = df.select_dtypes(['category']).columns\n",
    "df[cat_columns] = df[cat_columns].apply(lambda x: x.cat.codes)\n",
    "\n",
    "columns_to_include = ['Account-Balance', 'Duration-of-Credit-Month', 'Payment-Status-of-Previous-Credit', 'Purpose', 'Credit-Amount', 'Value-Savings-Stocks', 'Length-of-current-employment', 'Instalment-per-cent', 'Most-valuable-available-asset', 'Age-years', 'Type-of-apartment', 'No-of-Credits-at-this-Bank']\n",
    "\n",
    "X = df[columns_to_include]"
   ]
  },
  {
   "cell_type": "code",
   "execution_count": 76,
   "id": "72722c1b",
   "metadata": {},
   "outputs": [],
   "source": [
    "X = X.values"
   ]
  },
  {
   "cell_type": "code",
   "execution_count": 77,
   "id": "a763dc48",
   "metadata": {},
   "outputs": [],
   "source": [
    "predicted_customers = gradient_booster.predict(X)"
   ]
  },
  {
   "cell_type": "code",
   "execution_count": 78,
   "id": "3c975a57",
   "metadata": {},
   "outputs": [
    {
     "data": {
      "text/plain": [
       "array([1, 1, 1, 1, 1, 1, 1, 1, 0, 1, 1, 1, 1, 1, 1, 1, 1, 1, 1, 0, 1, 1,\n",
       "       1, 1, 1, 1, 1, 1, 1, 1, 1, 1, 1, 0, 1, 1, 1, 1, 1, 1, 1, 0, 1, 1,\n",
       "       1, 0, 1, 1, 1, 0, 1, 1, 0, 1, 1, 0, 1, 1, 1, 1, 1, 1, 1, 1, 1, 1,\n",
       "       1, 1, 1, 1, 0, 0, 1, 1, 1, 1, 1, 1, 1, 1, 1, 1, 1, 1, 0, 1, 1, 1,\n",
       "       1, 1, 1, 1, 1, 0, 1, 0, 1, 0, 1, 1, 0, 1, 0, 0, 1, 0, 1, 1, 1, 1,\n",
       "       1, 1, 1, 1, 1, 1, 1, 1, 1, 1, 1, 1, 1, 1, 1, 1, 1, 1, 0, 1, 1, 1,\n",
       "       1, 1, 1, 1, 1, 1, 1, 1, 1, 1, 1, 1, 1, 1, 1, 0, 0, 1, 1, 1, 0, 1,\n",
       "       0, 1, 1, 1, 1, 1, 1, 1, 1, 1, 1, 1, 1, 1, 1, 1, 1, 1, 1, 1, 1, 1,\n",
       "       1, 1, 1, 1, 1, 1, 0, 0, 1, 1, 0, 1, 1, 1, 1, 1, 1, 1, 1, 0, 1, 1,\n",
       "       1, 1, 1, 1, 1, 1, 1, 0, 1, 1, 1, 1, 1, 1, 1, 1, 0, 1, 1, 1, 1, 0,\n",
       "       1, 1, 0, 1, 0, 1, 1, 1, 1, 1, 1, 1, 1, 1, 1, 1, 1, 1, 1, 1, 0, 1,\n",
       "       1, 1, 1, 1, 1, 1, 1, 1, 1, 0, 1, 1, 1, 1, 1, 1, 1, 1, 1, 0, 1, 0,\n",
       "       1, 1, 1, 1, 1, 0, 1, 1, 1, 1, 0, 1, 1, 1, 1, 1, 1, 1, 1, 1, 0, 0,\n",
       "       1, 1, 1, 0, 0, 0, 1, 1, 1, 1, 1, 1, 0, 1, 1, 1, 1, 1, 1, 1, 0, 0,\n",
       "       0, 1, 1, 1, 0, 1, 1, 0, 1, 1, 1, 1, 1, 0, 1, 1, 1, 1, 1, 1, 1, 1,\n",
       "       1, 1, 1, 0, 1, 1, 1, 1, 1, 1, 0, 1, 1, 0, 1, 1, 1, 1, 1, 0, 1, 1,\n",
       "       1, 0, 1, 1, 1, 1, 1, 1, 0, 1, 1, 1, 0, 1, 1, 1, 1, 1, 1, 1, 1, 0,\n",
       "       0, 1, 1, 1, 0, 1, 0, 0, 1, 0, 1, 0, 1, 1, 1, 0, 1, 0, 0, 1, 0, 1,\n",
       "       1, 1, 1, 1, 0, 0, 1, 0, 1, 1, 1, 1, 1, 1, 0, 0, 1, 0, 1, 1, 0, 0,\n",
       "       1, 1, 1, 0, 0, 0, 0, 1, 1, 1, 1, 0, 1, 1, 1, 0, 0, 1, 0, 0, 1, 1,\n",
       "       1, 1, 0, 0, 1, 1, 0, 1, 1, 0, 1, 0, 0, 1, 1, 0, 0, 0, 0, 1, 1, 0,\n",
       "       1, 1, 1, 1, 1, 0, 1, 0, 1, 1, 0, 1, 1, 0, 0, 1, 1, 1, 0, 1, 1, 0,\n",
       "       0, 1, 0, 1, 1, 0, 0, 1, 1, 0, 0, 1, 0, 0, 0, 1])"
      ]
     },
     "execution_count": 78,
     "metadata": {},
     "output_type": "execute_result"
    }
   ],
   "source": [
    "predicted_customers"
   ]
  },
  {
   "cell_type": "code",
   "execution_count": 79,
   "id": "2e6f122a",
   "metadata": {},
   "outputs": [
    {
     "name": "stdout",
     "output_type": "stream",
     "text": [
      "Customer 1 ---- Predicted 1 Meaning Loan Granted\n",
      "Customer 2 ---- Predicted 1 Meaning Loan Granted\n",
      "Customer 3 ---- Predicted 1 Meaning Loan Granted\n",
      "Customer 4 ---- Predicted 1 Meaning Loan Granted\n",
      "Customer 5 ---- Predicted 1 Meaning Loan Granted\n",
      "Customer 6 ---- Predicted 1 Meaning Loan Granted\n",
      "Customer 7 ---- Predicted 1 Meaning Loan Granted\n",
      "Customer 8 ---- Predicted 1 Meaning Loan Granted\n",
      "Customer 9 ---- Predicted 0 Meaning Loan not Granted\n",
      "Customer 10 ---- Predicted 1 Meaning Loan Granted\n",
      "Customer 11 ---- Predicted 1 Meaning Loan Granted\n",
      "Customer 12 ---- Predicted 1 Meaning Loan Granted\n",
      "Customer 13 ---- Predicted 1 Meaning Loan Granted\n",
      "Customer 14 ---- Predicted 1 Meaning Loan Granted\n",
      "Customer 15 ---- Predicted 1 Meaning Loan Granted\n",
      "Customer 16 ---- Predicted 1 Meaning Loan Granted\n",
      "Customer 17 ---- Predicted 1 Meaning Loan Granted\n",
      "Customer 18 ---- Predicted 1 Meaning Loan Granted\n",
      "Customer 19 ---- Predicted 1 Meaning Loan Granted\n",
      "Customer 20 ---- Predicted 0 Meaning Loan not Granted\n",
      "Customer 21 ---- Predicted 1 Meaning Loan Granted\n",
      "Customer 22 ---- Predicted 1 Meaning Loan Granted\n",
      "Customer 23 ---- Predicted 1 Meaning Loan Granted\n",
      "Customer 24 ---- Predicted 1 Meaning Loan Granted\n",
      "Customer 25 ---- Predicted 1 Meaning Loan Granted\n",
      "Customer 26 ---- Predicted 1 Meaning Loan Granted\n",
      "Customer 27 ---- Predicted 1 Meaning Loan Granted\n",
      "Customer 28 ---- Predicted 1 Meaning Loan Granted\n",
      "Customer 29 ---- Predicted 1 Meaning Loan Granted\n",
      "Customer 30 ---- Predicted 1 Meaning Loan Granted\n",
      "Customer 31 ---- Predicted 1 Meaning Loan Granted\n",
      "Customer 32 ---- Predicted 1 Meaning Loan Granted\n",
      "Customer 33 ---- Predicted 1 Meaning Loan Granted\n",
      "Customer 34 ---- Predicted 0 Meaning Loan not Granted\n",
      "Customer 35 ---- Predicted 1 Meaning Loan Granted\n",
      "Customer 36 ---- Predicted 1 Meaning Loan Granted\n",
      "Customer 37 ---- Predicted 1 Meaning Loan Granted\n",
      "Customer 38 ---- Predicted 1 Meaning Loan Granted\n",
      "Customer 39 ---- Predicted 1 Meaning Loan Granted\n",
      "Customer 40 ---- Predicted 1 Meaning Loan Granted\n",
      "Customer 41 ---- Predicted 1 Meaning Loan Granted\n",
      "Customer 42 ---- Predicted 0 Meaning Loan not Granted\n",
      "Customer 43 ---- Predicted 1 Meaning Loan Granted\n",
      "Customer 44 ---- Predicted 1 Meaning Loan Granted\n",
      "Customer 45 ---- Predicted 1 Meaning Loan Granted\n",
      "Customer 46 ---- Predicted 0 Meaning Loan not Granted\n",
      "Customer 47 ---- Predicted 1 Meaning Loan Granted\n",
      "Customer 48 ---- Predicted 1 Meaning Loan Granted\n",
      "Customer 49 ---- Predicted 1 Meaning Loan Granted\n",
      "Customer 50 ---- Predicted 0 Meaning Loan not Granted\n",
      "Customer 51 ---- Predicted 1 Meaning Loan Granted\n",
      "Customer 52 ---- Predicted 1 Meaning Loan Granted\n",
      "Customer 53 ---- Predicted 0 Meaning Loan not Granted\n",
      "Customer 54 ---- Predicted 1 Meaning Loan Granted\n",
      "Customer 55 ---- Predicted 1 Meaning Loan Granted\n",
      "Customer 56 ---- Predicted 0 Meaning Loan not Granted\n",
      "Customer 57 ---- Predicted 1 Meaning Loan Granted\n",
      "Customer 58 ---- Predicted 1 Meaning Loan Granted\n",
      "Customer 59 ---- Predicted 1 Meaning Loan Granted\n",
      "Customer 60 ---- Predicted 1 Meaning Loan Granted\n",
      "Customer 61 ---- Predicted 1 Meaning Loan Granted\n",
      "Customer 62 ---- Predicted 1 Meaning Loan Granted\n",
      "Customer 63 ---- Predicted 1 Meaning Loan Granted\n",
      "Customer 64 ---- Predicted 1 Meaning Loan Granted\n",
      "Customer 65 ---- Predicted 1 Meaning Loan Granted\n",
      "Customer 66 ---- Predicted 1 Meaning Loan Granted\n",
      "Customer 67 ---- Predicted 1 Meaning Loan Granted\n",
      "Customer 68 ---- Predicted 1 Meaning Loan Granted\n",
      "Customer 69 ---- Predicted 1 Meaning Loan Granted\n",
      "Customer 70 ---- Predicted 1 Meaning Loan Granted\n",
      "Customer 71 ---- Predicted 0 Meaning Loan not Granted\n",
      "Customer 72 ---- Predicted 0 Meaning Loan not Granted\n",
      "Customer 73 ---- Predicted 1 Meaning Loan Granted\n",
      "Customer 74 ---- Predicted 1 Meaning Loan Granted\n",
      "Customer 75 ---- Predicted 1 Meaning Loan Granted\n",
      "Customer 76 ---- Predicted 1 Meaning Loan Granted\n",
      "Customer 77 ---- Predicted 1 Meaning Loan Granted\n",
      "Customer 78 ---- Predicted 1 Meaning Loan Granted\n",
      "Customer 79 ---- Predicted 1 Meaning Loan Granted\n",
      "Customer 80 ---- Predicted 1 Meaning Loan Granted\n",
      "Customer 81 ---- Predicted 1 Meaning Loan Granted\n",
      "Customer 82 ---- Predicted 1 Meaning Loan Granted\n",
      "Customer 83 ---- Predicted 1 Meaning Loan Granted\n",
      "Customer 84 ---- Predicted 1 Meaning Loan Granted\n",
      "Customer 85 ---- Predicted 0 Meaning Loan not Granted\n",
      "Customer 86 ---- Predicted 1 Meaning Loan Granted\n",
      "Customer 87 ---- Predicted 1 Meaning Loan Granted\n",
      "Customer 88 ---- Predicted 1 Meaning Loan Granted\n",
      "Customer 89 ---- Predicted 1 Meaning Loan Granted\n",
      "Customer 90 ---- Predicted 1 Meaning Loan Granted\n",
      "Customer 91 ---- Predicted 1 Meaning Loan Granted\n",
      "Customer 92 ---- Predicted 1 Meaning Loan Granted\n",
      "Customer 93 ---- Predicted 1 Meaning Loan Granted\n",
      "Customer 94 ---- Predicted 0 Meaning Loan not Granted\n",
      "Customer 95 ---- Predicted 1 Meaning Loan Granted\n",
      "Customer 96 ---- Predicted 0 Meaning Loan not Granted\n",
      "Customer 97 ---- Predicted 1 Meaning Loan Granted\n",
      "Customer 98 ---- Predicted 0 Meaning Loan not Granted\n",
      "Customer 99 ---- Predicted 1 Meaning Loan Granted\n",
      "Customer 100 ---- Predicted 1 Meaning Loan Granted\n",
      "Customer 101 ---- Predicted 0 Meaning Loan not Granted\n",
      "Customer 102 ---- Predicted 1 Meaning Loan Granted\n",
      "Customer 103 ---- Predicted 0 Meaning Loan not Granted\n",
      "Customer 104 ---- Predicted 0 Meaning Loan not Granted\n",
      "Customer 105 ---- Predicted 1 Meaning Loan Granted\n",
      "Customer 106 ---- Predicted 0 Meaning Loan not Granted\n",
      "Customer 107 ---- Predicted 1 Meaning Loan Granted\n",
      "Customer 108 ---- Predicted 1 Meaning Loan Granted\n",
      "Customer 109 ---- Predicted 1 Meaning Loan Granted\n",
      "Customer 110 ---- Predicted 1 Meaning Loan Granted\n",
      "Customer 111 ---- Predicted 1 Meaning Loan Granted\n",
      "Customer 112 ---- Predicted 1 Meaning Loan Granted\n",
      "Customer 113 ---- Predicted 1 Meaning Loan Granted\n",
      "Customer 114 ---- Predicted 1 Meaning Loan Granted\n",
      "Customer 115 ---- Predicted 1 Meaning Loan Granted\n",
      "Customer 116 ---- Predicted 1 Meaning Loan Granted\n",
      "Customer 117 ---- Predicted 1 Meaning Loan Granted\n",
      "Customer 118 ---- Predicted 1 Meaning Loan Granted\n",
      "Customer 119 ---- Predicted 1 Meaning Loan Granted\n",
      "Customer 120 ---- Predicted 1 Meaning Loan Granted\n",
      "Customer 121 ---- Predicted 1 Meaning Loan Granted\n",
      "Customer 122 ---- Predicted 1 Meaning Loan Granted\n",
      "Customer 123 ---- Predicted 1 Meaning Loan Granted\n",
      "Customer 124 ---- Predicted 1 Meaning Loan Granted\n",
      "Customer 125 ---- Predicted 1 Meaning Loan Granted\n",
      "Customer 126 ---- Predicted 1 Meaning Loan Granted\n",
      "Customer 127 ---- Predicted 1 Meaning Loan Granted\n",
      "Customer 128 ---- Predicted 1 Meaning Loan Granted\n",
      "Customer 129 ---- Predicted 0 Meaning Loan not Granted\n",
      "Customer 130 ---- Predicted 1 Meaning Loan Granted\n",
      "Customer 131 ---- Predicted 1 Meaning Loan Granted\n",
      "Customer 132 ---- Predicted 1 Meaning Loan Granted\n",
      "Customer 133 ---- Predicted 1 Meaning Loan Granted\n",
      "Customer 134 ---- Predicted 1 Meaning Loan Granted\n",
      "Customer 135 ---- Predicted 1 Meaning Loan Granted\n",
      "Customer 136 ---- Predicted 1 Meaning Loan Granted\n",
      "Customer 137 ---- Predicted 1 Meaning Loan Granted\n",
      "Customer 138 ---- Predicted 1 Meaning Loan Granted\n",
      "Customer 139 ---- Predicted 1 Meaning Loan Granted\n",
      "Customer 140 ---- Predicted 1 Meaning Loan Granted\n",
      "Customer 141 ---- Predicted 1 Meaning Loan Granted\n",
      "Customer 142 ---- Predicted 1 Meaning Loan Granted\n",
      "Customer 143 ---- Predicted 1 Meaning Loan Granted\n",
      "Customer 144 ---- Predicted 1 Meaning Loan Granted\n",
      "Customer 145 ---- Predicted 1 Meaning Loan Granted\n",
      "Customer 146 ---- Predicted 1 Meaning Loan Granted\n",
      "Customer 147 ---- Predicted 1 Meaning Loan Granted\n",
      "Customer 148 ---- Predicted 0 Meaning Loan not Granted\n",
      "Customer 149 ---- Predicted 0 Meaning Loan not Granted\n",
      "Customer 150 ---- Predicted 1 Meaning Loan Granted\n",
      "Customer 151 ---- Predicted 1 Meaning Loan Granted\n",
      "Customer 152 ---- Predicted 1 Meaning Loan Granted\n",
      "Customer 153 ---- Predicted 0 Meaning Loan not Granted\n",
      "Customer 154 ---- Predicted 1 Meaning Loan Granted\n",
      "Customer 155 ---- Predicted 0 Meaning Loan not Granted\n",
      "Customer 156 ---- Predicted 1 Meaning Loan Granted\n",
      "Customer 157 ---- Predicted 1 Meaning Loan Granted\n",
      "Customer 158 ---- Predicted 1 Meaning Loan Granted\n",
      "Customer 159 ---- Predicted 1 Meaning Loan Granted\n",
      "Customer 160 ---- Predicted 1 Meaning Loan Granted\n",
      "Customer 161 ---- Predicted 1 Meaning Loan Granted\n",
      "Customer 162 ---- Predicted 1 Meaning Loan Granted\n",
      "Customer 163 ---- Predicted 1 Meaning Loan Granted\n",
      "Customer 164 ---- Predicted 1 Meaning Loan Granted\n",
      "Customer 165 ---- Predicted 1 Meaning Loan Granted\n",
      "Customer 166 ---- Predicted 1 Meaning Loan Granted\n",
      "Customer 167 ---- Predicted 1 Meaning Loan Granted\n",
      "Customer 168 ---- Predicted 1 Meaning Loan Granted\n",
      "Customer 169 ---- Predicted 1 Meaning Loan Granted\n",
      "Customer 170 ---- Predicted 1 Meaning Loan Granted\n",
      "Customer 171 ---- Predicted 1 Meaning Loan Granted\n",
      "Customer 172 ---- Predicted 1 Meaning Loan Granted\n",
      "Customer 173 ---- Predicted 1 Meaning Loan Granted\n",
      "Customer 174 ---- Predicted 1 Meaning Loan Granted\n",
      "Customer 175 ---- Predicted 1 Meaning Loan Granted\n",
      "Customer 176 ---- Predicted 1 Meaning Loan Granted\n",
      "Customer 177 ---- Predicted 1 Meaning Loan Granted\n",
      "Customer 178 ---- Predicted 1 Meaning Loan Granted\n",
      "Customer 179 ---- Predicted 1 Meaning Loan Granted\n",
      "Customer 180 ---- Predicted 1 Meaning Loan Granted\n",
      "Customer 181 ---- Predicted 1 Meaning Loan Granted\n",
      "Customer 182 ---- Predicted 1 Meaning Loan Granted\n",
      "Customer 183 ---- Predicted 0 Meaning Loan not Granted\n",
      "Customer 184 ---- Predicted 0 Meaning Loan not Granted\n",
      "Customer 185 ---- Predicted 1 Meaning Loan Granted\n",
      "Customer 186 ---- Predicted 1 Meaning Loan Granted\n",
      "Customer 187 ---- Predicted 0 Meaning Loan not Granted\n",
      "Customer 188 ---- Predicted 1 Meaning Loan Granted\n",
      "Customer 189 ---- Predicted 1 Meaning Loan Granted\n",
      "Customer 190 ---- Predicted 1 Meaning Loan Granted\n",
      "Customer 191 ---- Predicted 1 Meaning Loan Granted\n",
      "Customer 192 ---- Predicted 1 Meaning Loan Granted\n",
      "Customer 193 ---- Predicted 1 Meaning Loan Granted\n",
      "Customer 194 ---- Predicted 1 Meaning Loan Granted\n",
      "Customer 195 ---- Predicted 1 Meaning Loan Granted\n",
      "Customer 196 ---- Predicted 0 Meaning Loan not Granted\n",
      "Customer 197 ---- Predicted 1 Meaning Loan Granted\n",
      "Customer 198 ---- Predicted 1 Meaning Loan Granted\n",
      "Customer 199 ---- Predicted 1 Meaning Loan Granted\n",
      "Customer 200 ---- Predicted 1 Meaning Loan Granted\n",
      "Customer 201 ---- Predicted 1 Meaning Loan Granted\n",
      "Customer 202 ---- Predicted 1 Meaning Loan Granted\n",
      "Customer 203 ---- Predicted 1 Meaning Loan Granted\n",
      "Customer 204 ---- Predicted 1 Meaning Loan Granted\n",
      "Customer 205 ---- Predicted 1 Meaning Loan Granted\n",
      "Customer 206 ---- Predicted 0 Meaning Loan not Granted\n",
      "Customer 207 ---- Predicted 1 Meaning Loan Granted\n",
      "Customer 208 ---- Predicted 1 Meaning Loan Granted\n",
      "Customer 209 ---- Predicted 1 Meaning Loan Granted\n",
      "Customer 210 ---- Predicted 1 Meaning Loan Granted\n",
      "Customer 211 ---- Predicted 1 Meaning Loan Granted\n",
      "Customer 212 ---- Predicted 1 Meaning Loan Granted\n",
      "Customer 213 ---- Predicted 1 Meaning Loan Granted\n",
      "Customer 214 ---- Predicted 1 Meaning Loan Granted\n",
      "Customer 215 ---- Predicted 0 Meaning Loan not Granted\n",
      "Customer 216 ---- Predicted 1 Meaning Loan Granted\n",
      "Customer 217 ---- Predicted 1 Meaning Loan Granted\n",
      "Customer 218 ---- Predicted 1 Meaning Loan Granted\n",
      "Customer 219 ---- Predicted 1 Meaning Loan Granted\n",
      "Customer 220 ---- Predicted 0 Meaning Loan not Granted\n",
      "Customer 221 ---- Predicted 1 Meaning Loan Granted\n",
      "Customer 222 ---- Predicted 1 Meaning Loan Granted\n",
      "Customer 223 ---- Predicted 0 Meaning Loan not Granted\n",
      "Customer 224 ---- Predicted 1 Meaning Loan Granted\n",
      "Customer 225 ---- Predicted 0 Meaning Loan not Granted\n",
      "Customer 226 ---- Predicted 1 Meaning Loan Granted\n",
      "Customer 227 ---- Predicted 1 Meaning Loan Granted\n",
      "Customer 228 ---- Predicted 1 Meaning Loan Granted\n",
      "Customer 229 ---- Predicted 1 Meaning Loan Granted\n",
      "Customer 230 ---- Predicted 1 Meaning Loan Granted\n",
      "Customer 231 ---- Predicted 1 Meaning Loan Granted\n",
      "Customer 232 ---- Predicted 1 Meaning Loan Granted\n",
      "Customer 233 ---- Predicted 1 Meaning Loan Granted\n",
      "Customer 234 ---- Predicted 1 Meaning Loan Granted\n",
      "Customer 235 ---- Predicted 1 Meaning Loan Granted\n",
      "Customer 236 ---- Predicted 1 Meaning Loan Granted\n",
      "Customer 237 ---- Predicted 1 Meaning Loan Granted\n",
      "Customer 238 ---- Predicted 1 Meaning Loan Granted\n",
      "Customer 239 ---- Predicted 1 Meaning Loan Granted\n",
      "Customer 240 ---- Predicted 1 Meaning Loan Granted\n",
      "Customer 241 ---- Predicted 0 Meaning Loan not Granted\n",
      "Customer 242 ---- Predicted 1 Meaning Loan Granted\n",
      "Customer 243 ---- Predicted 1 Meaning Loan Granted\n",
      "Customer 244 ---- Predicted 1 Meaning Loan Granted\n",
      "Customer 245 ---- Predicted 1 Meaning Loan Granted\n",
      "Customer 246 ---- Predicted 1 Meaning Loan Granted\n",
      "Customer 247 ---- Predicted 1 Meaning Loan Granted\n",
      "Customer 248 ---- Predicted 1 Meaning Loan Granted\n",
      "Customer 249 ---- Predicted 1 Meaning Loan Granted\n",
      "Customer 250 ---- Predicted 1 Meaning Loan Granted\n",
      "Customer 251 ---- Predicted 1 Meaning Loan Granted\n",
      "Customer 252 ---- Predicted 0 Meaning Loan not Granted\n",
      "Customer 253 ---- Predicted 1 Meaning Loan Granted\n",
      "Customer 254 ---- Predicted 1 Meaning Loan Granted\n",
      "Customer 255 ---- Predicted 1 Meaning Loan Granted\n",
      "Customer 256 ---- Predicted 1 Meaning Loan Granted\n",
      "Customer 257 ---- Predicted 1 Meaning Loan Granted\n",
      "Customer 258 ---- Predicted 1 Meaning Loan Granted\n",
      "Customer 259 ---- Predicted 1 Meaning Loan Granted\n",
      "Customer 260 ---- Predicted 1 Meaning Loan Granted\n",
      "Customer 261 ---- Predicted 1 Meaning Loan Granted\n",
      "Customer 262 ---- Predicted 0 Meaning Loan not Granted\n",
      "Customer 263 ---- Predicted 1 Meaning Loan Granted\n",
      "Customer 264 ---- Predicted 0 Meaning Loan not Granted\n",
      "Customer 265 ---- Predicted 1 Meaning Loan Granted\n",
      "Customer 266 ---- Predicted 1 Meaning Loan Granted\n",
      "Customer 267 ---- Predicted 1 Meaning Loan Granted\n",
      "Customer 268 ---- Predicted 1 Meaning Loan Granted\n",
      "Customer 269 ---- Predicted 1 Meaning Loan Granted\n",
      "Customer 270 ---- Predicted 0 Meaning Loan not Granted\n",
      "Customer 271 ---- Predicted 1 Meaning Loan Granted\n",
      "Customer 272 ---- Predicted 1 Meaning Loan Granted\n",
      "Customer 273 ---- Predicted 1 Meaning Loan Granted\n",
      "Customer 274 ---- Predicted 1 Meaning Loan Granted\n",
      "Customer 275 ---- Predicted 0 Meaning Loan not Granted\n",
      "Customer 276 ---- Predicted 1 Meaning Loan Granted\n",
      "Customer 277 ---- Predicted 1 Meaning Loan Granted\n",
      "Customer 278 ---- Predicted 1 Meaning Loan Granted\n",
      "Customer 279 ---- Predicted 1 Meaning Loan Granted\n",
      "Customer 280 ---- Predicted 1 Meaning Loan Granted\n",
      "Customer 281 ---- Predicted 1 Meaning Loan Granted\n",
      "Customer 282 ---- Predicted 1 Meaning Loan Granted\n",
      "Customer 283 ---- Predicted 1 Meaning Loan Granted\n",
      "Customer 284 ---- Predicted 1 Meaning Loan Granted\n",
      "Customer 285 ---- Predicted 0 Meaning Loan not Granted\n",
      "Customer 286 ---- Predicted 0 Meaning Loan not Granted\n",
      "Customer 287 ---- Predicted 1 Meaning Loan Granted\n",
      "Customer 288 ---- Predicted 1 Meaning Loan Granted\n",
      "Customer 289 ---- Predicted 1 Meaning Loan Granted\n",
      "Customer 290 ---- Predicted 0 Meaning Loan not Granted\n",
      "Customer 291 ---- Predicted 0 Meaning Loan not Granted\n",
      "Customer 292 ---- Predicted 0 Meaning Loan not Granted\n",
      "Customer 293 ---- Predicted 1 Meaning Loan Granted\n",
      "Customer 294 ---- Predicted 1 Meaning Loan Granted\n",
      "Customer 295 ---- Predicted 1 Meaning Loan Granted\n",
      "Customer 296 ---- Predicted 1 Meaning Loan Granted\n",
      "Customer 297 ---- Predicted 1 Meaning Loan Granted\n",
      "Customer 298 ---- Predicted 1 Meaning Loan Granted\n",
      "Customer 299 ---- Predicted 0 Meaning Loan not Granted\n",
      "Customer 300 ---- Predicted 1 Meaning Loan Granted\n",
      "Customer 301 ---- Predicted 1 Meaning Loan Granted\n",
      "Customer 302 ---- Predicted 1 Meaning Loan Granted\n",
      "Customer 303 ---- Predicted 1 Meaning Loan Granted\n",
      "Customer 304 ---- Predicted 1 Meaning Loan Granted\n",
      "Customer 305 ---- Predicted 1 Meaning Loan Granted\n",
      "Customer 306 ---- Predicted 1 Meaning Loan Granted\n",
      "Customer 307 ---- Predicted 0 Meaning Loan not Granted\n",
      "Customer 308 ---- Predicted 0 Meaning Loan not Granted\n",
      "Customer 309 ---- Predicted 0 Meaning Loan not Granted\n",
      "Customer 310 ---- Predicted 1 Meaning Loan Granted\n",
      "Customer 311 ---- Predicted 1 Meaning Loan Granted\n",
      "Customer 312 ---- Predicted 1 Meaning Loan Granted\n",
      "Customer 313 ---- Predicted 0 Meaning Loan not Granted\n",
      "Customer 314 ---- Predicted 1 Meaning Loan Granted\n",
      "Customer 315 ---- Predicted 1 Meaning Loan Granted\n",
      "Customer 316 ---- Predicted 0 Meaning Loan not Granted\n",
      "Customer 317 ---- Predicted 1 Meaning Loan Granted\n",
      "Customer 318 ---- Predicted 1 Meaning Loan Granted\n",
      "Customer 319 ---- Predicted 1 Meaning Loan Granted\n",
      "Customer 320 ---- Predicted 1 Meaning Loan Granted\n",
      "Customer 321 ---- Predicted 1 Meaning Loan Granted\n",
      "Customer 322 ---- Predicted 0 Meaning Loan not Granted\n",
      "Customer 323 ---- Predicted 1 Meaning Loan Granted\n",
      "Customer 324 ---- Predicted 1 Meaning Loan Granted\n",
      "Customer 325 ---- Predicted 1 Meaning Loan Granted\n",
      "Customer 326 ---- Predicted 1 Meaning Loan Granted\n",
      "Customer 327 ---- Predicted 1 Meaning Loan Granted\n",
      "Customer 328 ---- Predicted 1 Meaning Loan Granted\n",
      "Customer 329 ---- Predicted 1 Meaning Loan Granted\n",
      "Customer 330 ---- Predicted 1 Meaning Loan Granted\n",
      "Customer 331 ---- Predicted 1 Meaning Loan Granted\n",
      "Customer 332 ---- Predicted 1 Meaning Loan Granted\n",
      "Customer 333 ---- Predicted 1 Meaning Loan Granted\n",
      "Customer 334 ---- Predicted 0 Meaning Loan not Granted\n",
      "Customer 335 ---- Predicted 1 Meaning Loan Granted\n",
      "Customer 336 ---- Predicted 1 Meaning Loan Granted\n",
      "Customer 337 ---- Predicted 1 Meaning Loan Granted\n",
      "Customer 338 ---- Predicted 1 Meaning Loan Granted\n",
      "Customer 339 ---- Predicted 1 Meaning Loan Granted\n",
      "Customer 340 ---- Predicted 1 Meaning Loan Granted\n",
      "Customer 341 ---- Predicted 0 Meaning Loan not Granted\n",
      "Customer 342 ---- Predicted 1 Meaning Loan Granted\n",
      "Customer 343 ---- Predicted 1 Meaning Loan Granted\n",
      "Customer 344 ---- Predicted 0 Meaning Loan not Granted\n",
      "Customer 345 ---- Predicted 1 Meaning Loan Granted\n",
      "Customer 346 ---- Predicted 1 Meaning Loan Granted\n",
      "Customer 347 ---- Predicted 1 Meaning Loan Granted\n",
      "Customer 348 ---- Predicted 1 Meaning Loan Granted\n",
      "Customer 349 ---- Predicted 1 Meaning Loan Granted\n",
      "Customer 350 ---- Predicted 0 Meaning Loan not Granted\n",
      "Customer 351 ---- Predicted 1 Meaning Loan Granted\n",
      "Customer 352 ---- Predicted 1 Meaning Loan Granted\n",
      "Customer 353 ---- Predicted 1 Meaning Loan Granted\n",
      "Customer 354 ---- Predicted 0 Meaning Loan not Granted\n",
      "Customer 355 ---- Predicted 1 Meaning Loan Granted\n",
      "Customer 356 ---- Predicted 1 Meaning Loan Granted\n",
      "Customer 357 ---- Predicted 1 Meaning Loan Granted\n",
      "Customer 358 ---- Predicted 1 Meaning Loan Granted\n",
      "Customer 359 ---- Predicted 1 Meaning Loan Granted\n",
      "Customer 360 ---- Predicted 1 Meaning Loan Granted\n",
      "Customer 361 ---- Predicted 0 Meaning Loan not Granted\n",
      "Customer 362 ---- Predicted 1 Meaning Loan Granted\n",
      "Customer 363 ---- Predicted 1 Meaning Loan Granted\n",
      "Customer 364 ---- Predicted 1 Meaning Loan Granted\n",
      "Customer 365 ---- Predicted 0 Meaning Loan not Granted\n",
      "Customer 366 ---- Predicted 1 Meaning Loan Granted\n",
      "Customer 367 ---- Predicted 1 Meaning Loan Granted\n",
      "Customer 368 ---- Predicted 1 Meaning Loan Granted\n",
      "Customer 369 ---- Predicted 1 Meaning Loan Granted\n",
      "Customer 370 ---- Predicted 1 Meaning Loan Granted\n",
      "Customer 371 ---- Predicted 1 Meaning Loan Granted\n",
      "Customer 372 ---- Predicted 1 Meaning Loan Granted\n",
      "Customer 373 ---- Predicted 1 Meaning Loan Granted\n",
      "Customer 374 ---- Predicted 0 Meaning Loan not Granted\n",
      "Customer 375 ---- Predicted 0 Meaning Loan not Granted\n",
      "Customer 376 ---- Predicted 1 Meaning Loan Granted\n",
      "Customer 377 ---- Predicted 1 Meaning Loan Granted\n",
      "Customer 378 ---- Predicted 1 Meaning Loan Granted\n",
      "Customer 379 ---- Predicted 0 Meaning Loan not Granted\n",
      "Customer 380 ---- Predicted 1 Meaning Loan Granted\n",
      "Customer 381 ---- Predicted 0 Meaning Loan not Granted\n",
      "Customer 382 ---- Predicted 0 Meaning Loan not Granted\n",
      "Customer 383 ---- Predicted 1 Meaning Loan Granted\n",
      "Customer 384 ---- Predicted 0 Meaning Loan not Granted\n",
      "Customer 385 ---- Predicted 1 Meaning Loan Granted\n",
      "Customer 386 ---- Predicted 0 Meaning Loan not Granted\n",
      "Customer 387 ---- Predicted 1 Meaning Loan Granted\n",
      "Customer 388 ---- Predicted 1 Meaning Loan Granted\n",
      "Customer 389 ---- Predicted 1 Meaning Loan Granted\n",
      "Customer 390 ---- Predicted 0 Meaning Loan not Granted\n",
      "Customer 391 ---- Predicted 1 Meaning Loan Granted\n",
      "Customer 392 ---- Predicted 0 Meaning Loan not Granted\n",
      "Customer 393 ---- Predicted 0 Meaning Loan not Granted\n",
      "Customer 394 ---- Predicted 1 Meaning Loan Granted\n",
      "Customer 395 ---- Predicted 0 Meaning Loan not Granted\n",
      "Customer 396 ---- Predicted 1 Meaning Loan Granted\n",
      "Customer 397 ---- Predicted 1 Meaning Loan Granted\n",
      "Customer 398 ---- Predicted 1 Meaning Loan Granted\n",
      "Customer 399 ---- Predicted 1 Meaning Loan Granted\n",
      "Customer 400 ---- Predicted 1 Meaning Loan Granted\n",
      "Customer 401 ---- Predicted 0 Meaning Loan not Granted\n",
      "Customer 402 ---- Predicted 0 Meaning Loan not Granted\n",
      "Customer 403 ---- Predicted 1 Meaning Loan Granted\n",
      "Customer 404 ---- Predicted 0 Meaning Loan not Granted\n",
      "Customer 405 ---- Predicted 1 Meaning Loan Granted\n",
      "Customer 406 ---- Predicted 1 Meaning Loan Granted\n",
      "Customer 407 ---- Predicted 1 Meaning Loan Granted\n",
      "Customer 408 ---- Predicted 1 Meaning Loan Granted\n",
      "Customer 409 ---- Predicted 1 Meaning Loan Granted\n",
      "Customer 410 ---- Predicted 1 Meaning Loan Granted\n",
      "Customer 411 ---- Predicted 0 Meaning Loan not Granted\n",
      "Customer 412 ---- Predicted 0 Meaning Loan not Granted\n",
      "Customer 413 ---- Predicted 1 Meaning Loan Granted\n",
      "Customer 414 ---- Predicted 0 Meaning Loan not Granted\n",
      "Customer 415 ---- Predicted 1 Meaning Loan Granted\n",
      "Customer 416 ---- Predicted 1 Meaning Loan Granted\n",
      "Customer 417 ---- Predicted 0 Meaning Loan not Granted\n",
      "Customer 418 ---- Predicted 0 Meaning Loan not Granted\n",
      "Customer 419 ---- Predicted 1 Meaning Loan Granted\n",
      "Customer 420 ---- Predicted 1 Meaning Loan Granted\n",
      "Customer 421 ---- Predicted 1 Meaning Loan Granted\n",
      "Customer 422 ---- Predicted 0 Meaning Loan not Granted\n",
      "Customer 423 ---- Predicted 0 Meaning Loan not Granted\n",
      "Customer 424 ---- Predicted 0 Meaning Loan not Granted\n",
      "Customer 425 ---- Predicted 0 Meaning Loan not Granted\n",
      "Customer 426 ---- Predicted 1 Meaning Loan Granted\n",
      "Customer 427 ---- Predicted 1 Meaning Loan Granted\n",
      "Customer 428 ---- Predicted 1 Meaning Loan Granted\n",
      "Customer 429 ---- Predicted 1 Meaning Loan Granted\n",
      "Customer 430 ---- Predicted 0 Meaning Loan not Granted\n",
      "Customer 431 ---- Predicted 1 Meaning Loan Granted\n",
      "Customer 432 ---- Predicted 1 Meaning Loan Granted\n",
      "Customer 433 ---- Predicted 1 Meaning Loan Granted\n",
      "Customer 434 ---- Predicted 0 Meaning Loan not Granted\n",
      "Customer 435 ---- Predicted 0 Meaning Loan not Granted\n",
      "Customer 436 ---- Predicted 1 Meaning Loan Granted\n",
      "Customer 437 ---- Predicted 0 Meaning Loan not Granted\n",
      "Customer 438 ---- Predicted 0 Meaning Loan not Granted\n",
      "Customer 439 ---- Predicted 1 Meaning Loan Granted\n",
      "Customer 440 ---- Predicted 1 Meaning Loan Granted\n",
      "Customer 441 ---- Predicted 1 Meaning Loan Granted\n",
      "Customer 442 ---- Predicted 1 Meaning Loan Granted\n",
      "Customer 443 ---- Predicted 0 Meaning Loan not Granted\n",
      "Customer 444 ---- Predicted 0 Meaning Loan not Granted\n",
      "Customer 445 ---- Predicted 1 Meaning Loan Granted\n",
      "Customer 446 ---- Predicted 1 Meaning Loan Granted\n",
      "Customer 447 ---- Predicted 0 Meaning Loan not Granted\n",
      "Customer 448 ---- Predicted 1 Meaning Loan Granted\n",
      "Customer 449 ---- Predicted 1 Meaning Loan Granted\n",
      "Customer 450 ---- Predicted 0 Meaning Loan not Granted\n",
      "Customer 451 ---- Predicted 1 Meaning Loan Granted\n",
      "Customer 452 ---- Predicted 0 Meaning Loan not Granted\n",
      "Customer 453 ---- Predicted 0 Meaning Loan not Granted\n",
      "Customer 454 ---- Predicted 1 Meaning Loan Granted\n",
      "Customer 455 ---- Predicted 1 Meaning Loan Granted\n",
      "Customer 456 ---- Predicted 0 Meaning Loan not Granted\n",
      "Customer 457 ---- Predicted 0 Meaning Loan not Granted\n",
      "Customer 458 ---- Predicted 0 Meaning Loan not Granted\n",
      "Customer 459 ---- Predicted 0 Meaning Loan not Granted\n",
      "Customer 460 ---- Predicted 1 Meaning Loan Granted\n",
      "Customer 461 ---- Predicted 1 Meaning Loan Granted\n",
      "Customer 462 ---- Predicted 0 Meaning Loan not Granted\n",
      "Customer 463 ---- Predicted 1 Meaning Loan Granted\n",
      "Customer 464 ---- Predicted 1 Meaning Loan Granted\n",
      "Customer 465 ---- Predicted 1 Meaning Loan Granted\n",
      "Customer 466 ---- Predicted 1 Meaning Loan Granted\n",
      "Customer 467 ---- Predicted 1 Meaning Loan Granted\n",
      "Customer 468 ---- Predicted 0 Meaning Loan not Granted\n",
      "Customer 469 ---- Predicted 1 Meaning Loan Granted\n",
      "Customer 470 ---- Predicted 0 Meaning Loan not Granted\n",
      "Customer 471 ---- Predicted 1 Meaning Loan Granted\n",
      "Customer 472 ---- Predicted 1 Meaning Loan Granted\n",
      "Customer 473 ---- Predicted 0 Meaning Loan not Granted\n",
      "Customer 474 ---- Predicted 1 Meaning Loan Granted\n",
      "Customer 475 ---- Predicted 1 Meaning Loan Granted\n",
      "Customer 476 ---- Predicted 0 Meaning Loan not Granted\n",
      "Customer 477 ---- Predicted 0 Meaning Loan not Granted\n",
      "Customer 478 ---- Predicted 1 Meaning Loan Granted\n",
      "Customer 479 ---- Predicted 1 Meaning Loan Granted\n",
      "Customer 480 ---- Predicted 1 Meaning Loan Granted\n",
      "Customer 481 ---- Predicted 0 Meaning Loan not Granted\n",
      "Customer 482 ---- Predicted 1 Meaning Loan Granted\n",
      "Customer 483 ---- Predicted 1 Meaning Loan Granted\n",
      "Customer 484 ---- Predicted 0 Meaning Loan not Granted\n",
      "Customer 485 ---- Predicted 0 Meaning Loan not Granted\n",
      "Customer 486 ---- Predicted 1 Meaning Loan Granted\n",
      "Customer 487 ---- Predicted 0 Meaning Loan not Granted\n",
      "Customer 488 ---- Predicted 1 Meaning Loan Granted\n",
      "Customer 489 ---- Predicted 1 Meaning Loan Granted\n",
      "Customer 490 ---- Predicted 0 Meaning Loan not Granted\n",
      "Customer 491 ---- Predicted 0 Meaning Loan not Granted\n",
      "Customer 492 ---- Predicted 1 Meaning Loan Granted\n",
      "Customer 493 ---- Predicted 1 Meaning Loan Granted\n",
      "Customer 494 ---- Predicted 0 Meaning Loan not Granted\n",
      "Customer 495 ---- Predicted 0 Meaning Loan not Granted\n",
      "Customer 496 ---- Predicted 1 Meaning Loan Granted\n",
      "Customer 497 ---- Predicted 0 Meaning Loan not Granted\n",
      "Customer 498 ---- Predicted 0 Meaning Loan not Granted\n",
      "Customer 499 ---- Predicted 0 Meaning Loan not Granted\n",
      "Customer 500 ---- Predicted 1 Meaning Loan Granted\n"
     ]
    }
   ],
   "source": [
    "it = np.nditer(predicted_customers, flags=['f_index'])\n",
    "sum_given = sum_not_given = 0\n",
    "for i in it:\n",
    "    if i==1:\n",
    "        print(f'Customer {it.index + 1} ---- Predicted {i} Meaning Loan Granted')\n",
    "        sum_given+=1\n",
    "    else:\n",
    "        print(f'Customer {it.index + 1} ---- Predicted {i} Meaning Loan not Granted')\n",
    "        sum_not_given+=1\n"
   ]
  },
  {
   "cell_type": "code",
   "execution_count": 80,
   "id": "cbd98fc4",
   "metadata": {},
   "outputs": [
    {
     "name": "stdout",
     "output_type": "stream",
     "text": [
      " Therefore, our system approves that 388 customers will be given loan and \n",
      "112 will not be given loan\n"
     ]
    }
   ],
   "source": [
    "print(f' Therefore, our system approves that {sum_given} customers will be given loan and ')\n",
    "print(f'{sum_not_given} will not be given loan')"
   ]
  },
  {
   "cell_type": "markdown",
   "id": "917366bd",
   "metadata": {},
   "source": [
    "PERFECT! PERFECT!! PERFECT!!!"
   ]
  },
  {
   "cell_type": "markdown",
   "id": "ecfe4cc4",
   "metadata": {},
   "source": [
    "DONE!! DONE!! DONE!!!"
   ]
  },
  {
   "cell_type": "code",
   "execution_count": null,
   "id": "6d42eb34",
   "metadata": {},
   "outputs": [],
   "source": [
    "From the above, we predicted that gradient boosting has the highest accuracy"
   ]
  },
  {
   "cell_type": "code",
   "execution_count": 82,
   "id": "5b2d12cc",
   "metadata": {},
   "outputs": [
    {
     "name": "stdout",
     "output_type": "stream",
     "text": [
      "Customer 1 ---- Predicted 1 Meaning Loan Granted\n",
      "Customer 2 ---- Predicted 1 Meaning Loan Granted\n",
      "Customer 3 ---- Predicted 0 Meaning Loan not Granted\n",
      "Customer 4 ---- Predicted 1 Meaning Loan Granted\n",
      "Customer 5 ---- Predicted 1 Meaning Loan Granted\n",
      "Customer 6 ---- Predicted 1 Meaning Loan Granted\n",
      "Customer 7 ---- Predicted 1 Meaning Loan Granted\n",
      "Customer 8 ---- Predicted 1 Meaning Loan Granted\n",
      "Customer 9 ---- Predicted 0 Meaning Loan not Granted\n",
      "Customer 10 ---- Predicted 1 Meaning Loan Granted\n",
      "Customer 11 ---- Predicted 1 Meaning Loan Granted\n",
      "Customer 12 ---- Predicted 1 Meaning Loan Granted\n",
      "Customer 13 ---- Predicted 1 Meaning Loan Granted\n",
      "Customer 14 ---- Predicted 1 Meaning Loan Granted\n",
      "Customer 15 ---- Predicted 1 Meaning Loan Granted\n",
      "Customer 16 ---- Predicted 1 Meaning Loan Granted\n",
      "Customer 17 ---- Predicted 1 Meaning Loan Granted\n",
      "Customer 18 ---- Predicted 1 Meaning Loan Granted\n",
      "Customer 19 ---- Predicted 1 Meaning Loan Granted\n",
      "Customer 20 ---- Predicted 1 Meaning Loan Granted\n",
      "Customer 21 ---- Predicted 1 Meaning Loan Granted\n",
      "Customer 22 ---- Predicted 1 Meaning Loan Granted\n",
      "Customer 23 ---- Predicted 0 Meaning Loan not Granted\n",
      "Customer 24 ---- Predicted 1 Meaning Loan Granted\n",
      "Customer 25 ---- Predicted 1 Meaning Loan Granted\n",
      "Customer 26 ---- Predicted 1 Meaning Loan Granted\n",
      "Customer 27 ---- Predicted 1 Meaning Loan Granted\n",
      "Customer 28 ---- Predicted 1 Meaning Loan Granted\n",
      "Customer 29 ---- Predicted 1 Meaning Loan Granted\n",
      "Customer 30 ---- Predicted 1 Meaning Loan Granted\n",
      "Customer 31 ---- Predicted 1 Meaning Loan Granted\n",
      "Customer 32 ---- Predicted 1 Meaning Loan Granted\n",
      "Customer 33 ---- Predicted 1 Meaning Loan Granted\n",
      "Customer 34 ---- Predicted 0 Meaning Loan not Granted\n",
      "Customer 35 ---- Predicted 1 Meaning Loan Granted\n",
      "Customer 36 ---- Predicted 1 Meaning Loan Granted\n",
      "Customer 37 ---- Predicted 1 Meaning Loan Granted\n",
      "Customer 38 ---- Predicted 1 Meaning Loan Granted\n",
      "Customer 39 ---- Predicted 1 Meaning Loan Granted\n",
      "Customer 40 ---- Predicted 1 Meaning Loan Granted\n",
      "Customer 41 ---- Predicted 1 Meaning Loan Granted\n",
      "Customer 42 ---- Predicted 1 Meaning Loan Granted\n",
      "Customer 43 ---- Predicted 1 Meaning Loan Granted\n",
      "Customer 44 ---- Predicted 1 Meaning Loan Granted\n",
      "Customer 45 ---- Predicted 1 Meaning Loan Granted\n",
      "Customer 46 ---- Predicted 1 Meaning Loan Granted\n",
      "Customer 47 ---- Predicted 0 Meaning Loan not Granted\n",
      "Customer 48 ---- Predicted 1 Meaning Loan Granted\n",
      "Customer 49 ---- Predicted 1 Meaning Loan Granted\n",
      "Customer 50 ---- Predicted 1 Meaning Loan Granted\n",
      "Customer 51 ---- Predicted 1 Meaning Loan Granted\n",
      "Customer 52 ---- Predicted 1 Meaning Loan Granted\n",
      "Customer 53 ---- Predicted 1 Meaning Loan Granted\n",
      "Customer 54 ---- Predicted 1 Meaning Loan Granted\n",
      "Customer 55 ---- Predicted 1 Meaning Loan Granted\n",
      "Customer 56 ---- Predicted 0 Meaning Loan not Granted\n",
      "Customer 57 ---- Predicted 1 Meaning Loan Granted\n",
      "Customer 58 ---- Predicted 1 Meaning Loan Granted\n",
      "Customer 59 ---- Predicted 1 Meaning Loan Granted\n",
      "Customer 60 ---- Predicted 1 Meaning Loan Granted\n",
      "Customer 61 ---- Predicted 1 Meaning Loan Granted\n",
      "Customer 62 ---- Predicted 1 Meaning Loan Granted\n",
      "Customer 63 ---- Predicted 1 Meaning Loan Granted\n",
      "Customer 64 ---- Predicted 0 Meaning Loan not Granted\n",
      "Customer 65 ---- Predicted 1 Meaning Loan Granted\n",
      "Customer 66 ---- Predicted 1 Meaning Loan Granted\n",
      "Customer 67 ---- Predicted 1 Meaning Loan Granted\n",
      "Customer 68 ---- Predicted 1 Meaning Loan Granted\n",
      "Customer 69 ---- Predicted 1 Meaning Loan Granted\n",
      "Customer 70 ---- Predicted 1 Meaning Loan Granted\n",
      "Customer 71 ---- Predicted 0 Meaning Loan not Granted\n",
      "Customer 72 ---- Predicted 0 Meaning Loan not Granted\n",
      "Customer 73 ---- Predicted 1 Meaning Loan Granted\n",
      "Customer 74 ---- Predicted 1 Meaning Loan Granted\n",
      "Customer 75 ---- Predicted 1 Meaning Loan Granted\n",
      "Customer 76 ---- Predicted 1 Meaning Loan Granted\n",
      "Customer 77 ---- Predicted 1 Meaning Loan Granted\n",
      "Customer 78 ---- Predicted 1 Meaning Loan Granted\n",
      "Customer 79 ---- Predicted 1 Meaning Loan Granted\n",
      "Customer 80 ---- Predicted 1 Meaning Loan Granted\n",
      "Customer 81 ---- Predicted 1 Meaning Loan Granted\n",
      "Customer 82 ---- Predicted 1 Meaning Loan Granted\n",
      "Customer 83 ---- Predicted 1 Meaning Loan Granted\n",
      "Customer 84 ---- Predicted 1 Meaning Loan Granted\n",
      "Customer 85 ---- Predicted 0 Meaning Loan not Granted\n",
      "Customer 86 ---- Predicted 1 Meaning Loan Granted\n",
      "Customer 87 ---- Predicted 1 Meaning Loan Granted\n",
      "Customer 88 ---- Predicted 1 Meaning Loan Granted\n",
      "Customer 89 ---- Predicted 1 Meaning Loan Granted\n",
      "Customer 90 ---- Predicted 1 Meaning Loan Granted\n",
      "Customer 91 ---- Predicted 1 Meaning Loan Granted\n",
      "Customer 92 ---- Predicted 1 Meaning Loan Granted\n",
      "Customer 93 ---- Predicted 1 Meaning Loan Granted\n",
      "Customer 94 ---- Predicted 1 Meaning Loan Granted\n",
      "Customer 95 ---- Predicted 1 Meaning Loan Granted\n",
      "Customer 96 ---- Predicted 0 Meaning Loan not Granted\n",
      "Customer 97 ---- Predicted 1 Meaning Loan Granted\n",
      "Customer 98 ---- Predicted 0 Meaning Loan not Granted\n",
      "Customer 99 ---- Predicted 1 Meaning Loan Granted\n",
      "Customer 100 ---- Predicted 1 Meaning Loan Granted\n",
      "Customer 101 ---- Predicted 0 Meaning Loan not Granted\n",
      "Customer 102 ---- Predicted 1 Meaning Loan Granted\n",
      "Customer 103 ---- Predicted 1 Meaning Loan Granted\n",
      "Customer 104 ---- Predicted 1 Meaning Loan Granted\n",
      "Customer 105 ---- Predicted 1 Meaning Loan Granted\n",
      "Customer 106 ---- Predicted 1 Meaning Loan Granted\n",
      "Customer 107 ---- Predicted 1 Meaning Loan Granted\n",
      "Customer 108 ---- Predicted 1 Meaning Loan Granted\n",
      "Customer 109 ---- Predicted 1 Meaning Loan Granted\n",
      "Customer 110 ---- Predicted 1 Meaning Loan Granted\n",
      "Customer 111 ---- Predicted 1 Meaning Loan Granted\n",
      "Customer 112 ---- Predicted 1 Meaning Loan Granted\n",
      "Customer 113 ---- Predicted 1 Meaning Loan Granted\n",
      "Customer 114 ---- Predicted 1 Meaning Loan Granted\n",
      "Customer 115 ---- Predicted 1 Meaning Loan Granted\n",
      "Customer 116 ---- Predicted 1 Meaning Loan Granted\n",
      "Customer 117 ---- Predicted 0 Meaning Loan not Granted\n",
      "Customer 118 ---- Predicted 1 Meaning Loan Granted\n",
      "Customer 119 ---- Predicted 1 Meaning Loan Granted\n",
      "Customer 120 ---- Predicted 1 Meaning Loan Granted\n",
      "Customer 121 ---- Predicted 1 Meaning Loan Granted\n",
      "Customer 122 ---- Predicted 1 Meaning Loan Granted\n",
      "Customer 123 ---- Predicted 1 Meaning Loan Granted\n",
      "Customer 124 ---- Predicted 1 Meaning Loan Granted\n",
      "Customer 125 ---- Predicted 1 Meaning Loan Granted\n",
      "Customer 126 ---- Predicted 1 Meaning Loan Granted\n",
      "Customer 127 ---- Predicted 1 Meaning Loan Granted\n",
      "Customer 128 ---- Predicted 1 Meaning Loan Granted\n",
      "Customer 129 ---- Predicted 1 Meaning Loan Granted\n",
      "Customer 130 ---- Predicted 1 Meaning Loan Granted\n",
      "Customer 131 ---- Predicted 1 Meaning Loan Granted\n",
      "Customer 132 ---- Predicted 1 Meaning Loan Granted\n",
      "Customer 133 ---- Predicted 1 Meaning Loan Granted\n",
      "Customer 134 ---- Predicted 1 Meaning Loan Granted\n",
      "Customer 135 ---- Predicted 1 Meaning Loan Granted\n",
      "Customer 136 ---- Predicted 1 Meaning Loan Granted\n",
      "Customer 137 ---- Predicted 1 Meaning Loan Granted\n",
      "Customer 138 ---- Predicted 1 Meaning Loan Granted\n",
      "Customer 139 ---- Predicted 1 Meaning Loan Granted\n",
      "Customer 140 ---- Predicted 1 Meaning Loan Granted\n",
      "Customer 141 ---- Predicted 1 Meaning Loan Granted\n",
      "Customer 142 ---- Predicted 1 Meaning Loan Granted\n",
      "Customer 143 ---- Predicted 1 Meaning Loan Granted\n",
      "Customer 144 ---- Predicted 1 Meaning Loan Granted\n",
      "Customer 145 ---- Predicted 1 Meaning Loan Granted\n",
      "Customer 146 ---- Predicted 1 Meaning Loan Granted\n",
      "Customer 147 ---- Predicted 1 Meaning Loan Granted\n",
      "Customer 148 ---- Predicted 1 Meaning Loan Granted\n",
      "Customer 149 ---- Predicted 0 Meaning Loan not Granted\n",
      "Customer 150 ---- Predicted 1 Meaning Loan Granted\n",
      "Customer 151 ---- Predicted 1 Meaning Loan Granted\n",
      "Customer 152 ---- Predicted 1 Meaning Loan Granted\n",
      "Customer 153 ---- Predicted 1 Meaning Loan Granted\n",
      "Customer 154 ---- Predicted 1 Meaning Loan Granted\n",
      "Customer 155 ---- Predicted 0 Meaning Loan not Granted\n",
      "Customer 156 ---- Predicted 1 Meaning Loan Granted\n",
      "Customer 157 ---- Predicted 1 Meaning Loan Granted\n",
      "Customer 158 ---- Predicted 1 Meaning Loan Granted\n",
      "Customer 159 ---- Predicted 1 Meaning Loan Granted\n",
      "Customer 160 ---- Predicted 1 Meaning Loan Granted\n",
      "Customer 161 ---- Predicted 1 Meaning Loan Granted\n",
      "Customer 162 ---- Predicted 1 Meaning Loan Granted\n",
      "Customer 163 ---- Predicted 1 Meaning Loan Granted\n",
      "Customer 164 ---- Predicted 1 Meaning Loan Granted\n",
      "Customer 165 ---- Predicted 1 Meaning Loan Granted\n",
      "Customer 166 ---- Predicted 1 Meaning Loan Granted\n",
      "Customer 167 ---- Predicted 1 Meaning Loan Granted\n",
      "Customer 168 ---- Predicted 1 Meaning Loan Granted\n",
      "Customer 169 ---- Predicted 1 Meaning Loan Granted\n",
      "Customer 170 ---- Predicted 1 Meaning Loan Granted\n",
      "Customer 171 ---- Predicted 1 Meaning Loan Granted\n",
      "Customer 172 ---- Predicted 1 Meaning Loan Granted\n",
      "Customer 173 ---- Predicted 1 Meaning Loan Granted\n",
      "Customer 174 ---- Predicted 1 Meaning Loan Granted\n",
      "Customer 175 ---- Predicted 1 Meaning Loan Granted\n",
      "Customer 176 ---- Predicted 1 Meaning Loan Granted\n",
      "Customer 177 ---- Predicted 1 Meaning Loan Granted\n",
      "Customer 178 ---- Predicted 1 Meaning Loan Granted\n",
      "Customer 179 ---- Predicted 1 Meaning Loan Granted\n",
      "Customer 180 ---- Predicted 1 Meaning Loan Granted\n",
      "Customer 181 ---- Predicted 1 Meaning Loan Granted\n",
      "Customer 182 ---- Predicted 1 Meaning Loan Granted\n",
      "Customer 183 ---- Predicted 0 Meaning Loan not Granted\n",
      "Customer 184 ---- Predicted 1 Meaning Loan Granted\n",
      "Customer 185 ---- Predicted 1 Meaning Loan Granted\n",
      "Customer 186 ---- Predicted 1 Meaning Loan Granted\n",
      "Customer 187 ---- Predicted 0 Meaning Loan not Granted\n",
      "Customer 188 ---- Predicted 1 Meaning Loan Granted\n",
      "Customer 189 ---- Predicted 1 Meaning Loan Granted\n",
      "Customer 190 ---- Predicted 1 Meaning Loan Granted\n",
      "Customer 191 ---- Predicted 1 Meaning Loan Granted\n",
      "Customer 192 ---- Predicted 1 Meaning Loan Granted\n",
      "Customer 193 ---- Predicted 1 Meaning Loan Granted\n",
      "Customer 194 ---- Predicted 1 Meaning Loan Granted\n",
      "Customer 195 ---- Predicted 1 Meaning Loan Granted\n",
      "Customer 196 ---- Predicted 0 Meaning Loan not Granted\n",
      "Customer 197 ---- Predicted 1 Meaning Loan Granted\n",
      "Customer 198 ---- Predicted 1 Meaning Loan Granted\n",
      "Customer 199 ---- Predicted 1 Meaning Loan Granted\n",
      "Customer 200 ---- Predicted 1 Meaning Loan Granted\n",
      "Customer 201 ---- Predicted 1 Meaning Loan Granted\n",
      "Customer 202 ---- Predicted 1 Meaning Loan Granted\n",
      "Customer 203 ---- Predicted 1 Meaning Loan Granted\n",
      "Customer 204 ---- Predicted 1 Meaning Loan Granted\n",
      "Customer 205 ---- Predicted 1 Meaning Loan Granted\n",
      "Customer 206 ---- Predicted 1 Meaning Loan Granted\n",
      "Customer 207 ---- Predicted 1 Meaning Loan Granted\n",
      "Customer 208 ---- Predicted 1 Meaning Loan Granted\n",
      "Customer 209 ---- Predicted 1 Meaning Loan Granted\n",
      "Customer 210 ---- Predicted 0 Meaning Loan not Granted\n",
      "Customer 211 ---- Predicted 1 Meaning Loan Granted\n",
      "Customer 212 ---- Predicted 1 Meaning Loan Granted\n",
      "Customer 213 ---- Predicted 1 Meaning Loan Granted\n",
      "Customer 214 ---- Predicted 1 Meaning Loan Granted\n",
      "Customer 215 ---- Predicted 0 Meaning Loan not Granted\n",
      "Customer 216 ---- Predicted 1 Meaning Loan Granted\n",
      "Customer 217 ---- Predicted 1 Meaning Loan Granted\n"
     ]
    },
    {
     "name": "stdout",
     "output_type": "stream",
     "text": [
      "Customer 218 ---- Predicted 1 Meaning Loan Granted\n",
      "Customer 219 ---- Predicted 1 Meaning Loan Granted\n",
      "Customer 220 ---- Predicted 0 Meaning Loan not Granted\n",
      "Customer 221 ---- Predicted 1 Meaning Loan Granted\n",
      "Customer 222 ---- Predicted 1 Meaning Loan Granted\n",
      "Customer 223 ---- Predicted 0 Meaning Loan not Granted\n",
      "Customer 224 ---- Predicted 1 Meaning Loan Granted\n",
      "Customer 225 ---- Predicted 1 Meaning Loan Granted\n",
      "Customer 226 ---- Predicted 1 Meaning Loan Granted\n",
      "Customer 227 ---- Predicted 1 Meaning Loan Granted\n",
      "Customer 228 ---- Predicted 1 Meaning Loan Granted\n",
      "Customer 229 ---- Predicted 1 Meaning Loan Granted\n",
      "Customer 230 ---- Predicted 1 Meaning Loan Granted\n",
      "Customer 231 ---- Predicted 1 Meaning Loan Granted\n",
      "Customer 232 ---- Predicted 1 Meaning Loan Granted\n",
      "Customer 233 ---- Predicted 1 Meaning Loan Granted\n",
      "Customer 234 ---- Predicted 1 Meaning Loan Granted\n",
      "Customer 235 ---- Predicted 1 Meaning Loan Granted\n",
      "Customer 236 ---- Predicted 1 Meaning Loan Granted\n",
      "Customer 237 ---- Predicted 1 Meaning Loan Granted\n",
      "Customer 238 ---- Predicted 1 Meaning Loan Granted\n",
      "Customer 239 ---- Predicted 1 Meaning Loan Granted\n",
      "Customer 240 ---- Predicted 1 Meaning Loan Granted\n",
      "Customer 241 ---- Predicted 0 Meaning Loan not Granted\n",
      "Customer 242 ---- Predicted 1 Meaning Loan Granted\n",
      "Customer 243 ---- Predicted 1 Meaning Loan Granted\n",
      "Customer 244 ---- Predicted 1 Meaning Loan Granted\n",
      "Customer 245 ---- Predicted 1 Meaning Loan Granted\n",
      "Customer 246 ---- Predicted 1 Meaning Loan Granted\n",
      "Customer 247 ---- Predicted 1 Meaning Loan Granted\n",
      "Customer 248 ---- Predicted 1 Meaning Loan Granted\n",
      "Customer 249 ---- Predicted 1 Meaning Loan Granted\n",
      "Customer 250 ---- Predicted 1 Meaning Loan Granted\n",
      "Customer 251 ---- Predicted 1 Meaning Loan Granted\n",
      "Customer 252 ---- Predicted 1 Meaning Loan Granted\n",
      "Customer 253 ---- Predicted 1 Meaning Loan Granted\n",
      "Customer 254 ---- Predicted 1 Meaning Loan Granted\n",
      "Customer 255 ---- Predicted 1 Meaning Loan Granted\n",
      "Customer 256 ---- Predicted 1 Meaning Loan Granted\n",
      "Customer 257 ---- Predicted 1 Meaning Loan Granted\n",
      "Customer 258 ---- Predicted 1 Meaning Loan Granted\n",
      "Customer 259 ---- Predicted 1 Meaning Loan Granted\n",
      "Customer 260 ---- Predicted 1 Meaning Loan Granted\n",
      "Customer 261 ---- Predicted 1 Meaning Loan Granted\n",
      "Customer 262 ---- Predicted 0 Meaning Loan not Granted\n",
      "Customer 263 ---- Predicted 1 Meaning Loan Granted\n",
      "Customer 264 ---- Predicted 0 Meaning Loan not Granted\n",
      "Customer 265 ---- Predicted 1 Meaning Loan Granted\n",
      "Customer 266 ---- Predicted 1 Meaning Loan Granted\n",
      "Customer 267 ---- Predicted 1 Meaning Loan Granted\n",
      "Customer 268 ---- Predicted 0 Meaning Loan not Granted\n",
      "Customer 269 ---- Predicted 1 Meaning Loan Granted\n",
      "Customer 270 ---- Predicted 1 Meaning Loan Granted\n",
      "Customer 271 ---- Predicted 1 Meaning Loan Granted\n",
      "Customer 272 ---- Predicted 1 Meaning Loan Granted\n",
      "Customer 273 ---- Predicted 1 Meaning Loan Granted\n",
      "Customer 274 ---- Predicted 1 Meaning Loan Granted\n",
      "Customer 275 ---- Predicted 0 Meaning Loan not Granted\n",
      "Customer 276 ---- Predicted 1 Meaning Loan Granted\n",
      "Customer 277 ---- Predicted 1 Meaning Loan Granted\n",
      "Customer 278 ---- Predicted 1 Meaning Loan Granted\n",
      "Customer 279 ---- Predicted 1 Meaning Loan Granted\n",
      "Customer 280 ---- Predicted 0 Meaning Loan not Granted\n",
      "Customer 281 ---- Predicted 1 Meaning Loan Granted\n",
      "Customer 282 ---- Predicted 0 Meaning Loan not Granted\n",
      "Customer 283 ---- Predicted 1 Meaning Loan Granted\n",
      "Customer 284 ---- Predicted 1 Meaning Loan Granted\n",
      "Customer 285 ---- Predicted 1 Meaning Loan Granted\n",
      "Customer 286 ---- Predicted 0 Meaning Loan not Granted\n",
      "Customer 287 ---- Predicted 1 Meaning Loan Granted\n",
      "Customer 288 ---- Predicted 1 Meaning Loan Granted\n",
      "Customer 289 ---- Predicted 1 Meaning Loan Granted\n",
      "Customer 290 ---- Predicted 0 Meaning Loan not Granted\n",
      "Customer 291 ---- Predicted 0 Meaning Loan not Granted\n",
      "Customer 292 ---- Predicted 0 Meaning Loan not Granted\n",
      "Customer 293 ---- Predicted 1 Meaning Loan Granted\n",
      "Customer 294 ---- Predicted 1 Meaning Loan Granted\n",
      "Customer 295 ---- Predicted 1 Meaning Loan Granted\n",
      "Customer 296 ---- Predicted 1 Meaning Loan Granted\n",
      "Customer 297 ---- Predicted 1 Meaning Loan Granted\n",
      "Customer 298 ---- Predicted 1 Meaning Loan Granted\n",
      "Customer 299 ---- Predicted 1 Meaning Loan Granted\n",
      "Customer 300 ---- Predicted 1 Meaning Loan Granted\n",
      "Customer 301 ---- Predicted 1 Meaning Loan Granted\n",
      "Customer 302 ---- Predicted 1 Meaning Loan Granted\n",
      "Customer 303 ---- Predicted 1 Meaning Loan Granted\n",
      "Customer 304 ---- Predicted 1 Meaning Loan Granted\n",
      "Customer 305 ---- Predicted 1 Meaning Loan Granted\n",
      "Customer 306 ---- Predicted 1 Meaning Loan Granted\n",
      "Customer 307 ---- Predicted 1 Meaning Loan Granted\n",
      "Customer 308 ---- Predicted 0 Meaning Loan not Granted\n",
      "Customer 309 ---- Predicted 0 Meaning Loan not Granted\n",
      "Customer 310 ---- Predicted 1 Meaning Loan Granted\n",
      "Customer 311 ---- Predicted 1 Meaning Loan Granted\n",
      "Customer 312 ---- Predicted 1 Meaning Loan Granted\n",
      "Customer 313 ---- Predicted 1 Meaning Loan Granted\n",
      "Customer 314 ---- Predicted 1 Meaning Loan Granted\n",
      "Customer 315 ---- Predicted 1 Meaning Loan Granted\n",
      "Customer 316 ---- Predicted 0 Meaning Loan not Granted\n",
      "Customer 317 ---- Predicted 1 Meaning Loan Granted\n",
      "Customer 318 ---- Predicted 1 Meaning Loan Granted\n",
      "Customer 319 ---- Predicted 1 Meaning Loan Granted\n",
      "Customer 320 ---- Predicted 1 Meaning Loan Granted\n",
      "Customer 321 ---- Predicted 1 Meaning Loan Granted\n",
      "Customer 322 ---- Predicted 1 Meaning Loan Granted\n",
      "Customer 323 ---- Predicted 1 Meaning Loan Granted\n",
      "Customer 324 ---- Predicted 1 Meaning Loan Granted\n",
      "Customer 325 ---- Predicted 1 Meaning Loan Granted\n",
      "Customer 326 ---- Predicted 1 Meaning Loan Granted\n",
      "Customer 327 ---- Predicted 1 Meaning Loan Granted\n",
      "Customer 328 ---- Predicted 1 Meaning Loan Granted\n",
      "Customer 329 ---- Predicted 1 Meaning Loan Granted\n",
      "Customer 330 ---- Predicted 0 Meaning Loan not Granted\n",
      "Customer 331 ---- Predicted 0 Meaning Loan not Granted\n",
      "Customer 332 ---- Predicted 1 Meaning Loan Granted\n",
      "Customer 333 ---- Predicted 1 Meaning Loan Granted\n",
      "Customer 334 ---- Predicted 1 Meaning Loan Granted\n",
      "Customer 335 ---- Predicted 1 Meaning Loan Granted\n",
      "Customer 336 ---- Predicted 1 Meaning Loan Granted\n",
      "Customer 337 ---- Predicted 1 Meaning Loan Granted\n",
      "Customer 338 ---- Predicted 1 Meaning Loan Granted\n",
      "Customer 339 ---- Predicted 1 Meaning Loan Granted\n",
      "Customer 340 ---- Predicted 1 Meaning Loan Granted\n",
      "Customer 341 ---- Predicted 0 Meaning Loan not Granted\n",
      "Customer 342 ---- Predicted 1 Meaning Loan Granted\n",
      "Customer 343 ---- Predicted 1 Meaning Loan Granted\n",
      "Customer 344 ---- Predicted 1 Meaning Loan Granted\n",
      "Customer 345 ---- Predicted 1 Meaning Loan Granted\n",
      "Customer 346 ---- Predicted 1 Meaning Loan Granted\n",
      "Customer 347 ---- Predicted 1 Meaning Loan Granted\n",
      "Customer 348 ---- Predicted 1 Meaning Loan Granted\n",
      "Customer 349 ---- Predicted 1 Meaning Loan Granted\n",
      "Customer 350 ---- Predicted 0 Meaning Loan not Granted\n",
      "Customer 351 ---- Predicted 1 Meaning Loan Granted\n",
      "Customer 352 ---- Predicted 1 Meaning Loan Granted\n",
      "Customer 353 ---- Predicted 1 Meaning Loan Granted\n",
      "Customer 354 ---- Predicted 0 Meaning Loan not Granted\n",
      "Customer 355 ---- Predicted 1 Meaning Loan Granted\n",
      "Customer 356 ---- Predicted 1 Meaning Loan Granted\n",
      "Customer 357 ---- Predicted 0 Meaning Loan not Granted\n",
      "Customer 358 ---- Predicted 1 Meaning Loan Granted\n",
      "Customer 359 ---- Predicted 1 Meaning Loan Granted\n",
      "Customer 360 ---- Predicted 1 Meaning Loan Granted\n",
      "Customer 361 ---- Predicted 1 Meaning Loan Granted\n",
      "Customer 362 ---- Predicted 1 Meaning Loan Granted\n",
      "Customer 363 ---- Predicted 1 Meaning Loan Granted\n",
      "Customer 364 ---- Predicted 1 Meaning Loan Granted\n",
      "Customer 365 ---- Predicted 1 Meaning Loan Granted\n",
      "Customer 366 ---- Predicted 1 Meaning Loan Granted\n",
      "Customer 367 ---- Predicted 1 Meaning Loan Granted\n",
      "Customer 368 ---- Predicted 1 Meaning Loan Granted\n",
      "Customer 369 ---- Predicted 1 Meaning Loan Granted\n",
      "Customer 370 ---- Predicted 1 Meaning Loan Granted\n",
      "Customer 371 ---- Predicted 1 Meaning Loan Granted\n",
      "Customer 372 ---- Predicted 1 Meaning Loan Granted\n",
      "Customer 373 ---- Predicted 1 Meaning Loan Granted\n",
      "Customer 374 ---- Predicted 1 Meaning Loan Granted\n",
      "Customer 375 ---- Predicted 1 Meaning Loan Granted\n",
      "Customer 376 ---- Predicted 1 Meaning Loan Granted\n",
      "Customer 377 ---- Predicted 1 Meaning Loan Granted\n",
      "Customer 378 ---- Predicted 1 Meaning Loan Granted\n",
      "Customer 379 ---- Predicted 1 Meaning Loan Granted\n",
      "Customer 380 ---- Predicted 1 Meaning Loan Granted\n",
      "Customer 381 ---- Predicted 0 Meaning Loan not Granted\n",
      "Customer 382 ---- Predicted 1 Meaning Loan Granted\n",
      "Customer 383 ---- Predicted 1 Meaning Loan Granted\n",
      "Customer 384 ---- Predicted 1 Meaning Loan Granted\n",
      "Customer 385 ---- Predicted 1 Meaning Loan Granted\n",
      "Customer 386 ---- Predicted 0 Meaning Loan not Granted\n",
      "Customer 387 ---- Predicted 1 Meaning Loan Granted\n",
      "Customer 388 ---- Predicted 1 Meaning Loan Granted\n",
      "Customer 389 ---- Predicted 1 Meaning Loan Granted\n",
      "Customer 390 ---- Predicted 0 Meaning Loan not Granted\n",
      "Customer 391 ---- Predicted 1 Meaning Loan Granted\n",
      "Customer 392 ---- Predicted 0 Meaning Loan not Granted\n",
      "Customer 393 ---- Predicted 1 Meaning Loan Granted\n",
      "Customer 394 ---- Predicted 1 Meaning Loan Granted\n",
      "Customer 395 ---- Predicted 0 Meaning Loan not Granted\n",
      "Customer 396 ---- Predicted 1 Meaning Loan Granted\n",
      "Customer 397 ---- Predicted 1 Meaning Loan Granted\n",
      "Customer 398 ---- Predicted 0 Meaning Loan not Granted\n",
      "Customer 399 ---- Predicted 1 Meaning Loan Granted\n",
      "Customer 400 ---- Predicted 1 Meaning Loan Granted\n",
      "Customer 401 ---- Predicted 0 Meaning Loan not Granted\n",
      "Customer 402 ---- Predicted 0 Meaning Loan not Granted\n",
      "Customer 403 ---- Predicted 1 Meaning Loan Granted\n",
      "Customer 404 ---- Predicted 0 Meaning Loan not Granted\n",
      "Customer 405 ---- Predicted 0 Meaning Loan not Granted\n",
      "Customer 406 ---- Predicted 0 Meaning Loan not Granted\n",
      "Customer 407 ---- Predicted 1 Meaning Loan Granted\n",
      "Customer 408 ---- Predicted 1 Meaning Loan Granted\n",
      "Customer 409 ---- Predicted 1 Meaning Loan Granted\n",
      "Customer 410 ---- Predicted 0 Meaning Loan not Granted\n",
      "Customer 411 ---- Predicted 0 Meaning Loan not Granted\n",
      "Customer 412 ---- Predicted 0 Meaning Loan not Granted\n",
      "Customer 413 ---- Predicted 1 Meaning Loan Granted\n",
      "Customer 414 ---- Predicted 1 Meaning Loan Granted\n",
      "Customer 415 ---- Predicted 1 Meaning Loan Granted\n",
      "Customer 416 ---- Predicted 1 Meaning Loan Granted\n",
      "Customer 417 ---- Predicted 1 Meaning Loan Granted\n",
      "Customer 418 ---- Predicted 1 Meaning Loan Granted\n",
      "Customer 419 ---- Predicted 1 Meaning Loan Granted\n",
      "Customer 420 ---- Predicted 1 Meaning Loan Granted\n",
      "Customer 421 ---- Predicted 1 Meaning Loan Granted\n",
      "Customer 422 ---- Predicted 1 Meaning Loan Granted\n",
      "Customer 423 ---- Predicted 0 Meaning Loan not Granted\n",
      "Customer 424 ---- Predicted 1 Meaning Loan Granted\n",
      "Customer 425 ---- Predicted 0 Meaning Loan not Granted\n",
      "Customer 426 ---- Predicted 0 Meaning Loan not Granted\n",
      "Customer 427 ---- Predicted 1 Meaning Loan Granted\n",
      "Customer 428 ---- Predicted 1 Meaning Loan Granted\n",
      "Customer 429 ---- Predicted 1 Meaning Loan Granted\n",
      "Customer 430 ---- Predicted 0 Meaning Loan not Granted\n",
      "Customer 431 ---- Predicted 1 Meaning Loan Granted\n",
      "Customer 432 ---- Predicted 0 Meaning Loan not Granted\n",
      "Customer 433 ---- Predicted 1 Meaning Loan Granted\n",
      "Customer 434 ---- Predicted 0 Meaning Loan not Granted\n",
      "Customer 435 ---- Predicted 1 Meaning Loan Granted\n",
      "Customer 436 ---- Predicted 1 Meaning Loan Granted\n",
      "Customer 437 ---- Predicted 0 Meaning Loan not Granted\n",
      "Customer 438 ---- Predicted 0 Meaning Loan not Granted\n",
      "Customer 439 ---- Predicted 1 Meaning Loan Granted\n",
      "Customer 440 ---- Predicted 0 Meaning Loan not Granted\n",
      "Customer 441 ---- Predicted 1 Meaning Loan Granted\n",
      "Customer 442 ---- Predicted 1 Meaning Loan Granted\n",
      "Customer 443 ---- Predicted 1 Meaning Loan Granted\n",
      "Customer 444 ---- Predicted 0 Meaning Loan not Granted\n",
      "Customer 445 ---- Predicted 1 Meaning Loan Granted\n",
      "Customer 446 ---- Predicted 1 Meaning Loan Granted\n",
      "Customer 447 ---- Predicted 1 Meaning Loan Granted\n",
      "Customer 448 ---- Predicted 1 Meaning Loan Granted\n",
      "Customer 449 ---- Predicted 1 Meaning Loan Granted\n",
      "Customer 450 ---- Predicted 1 Meaning Loan Granted\n",
      "Customer 451 ---- Predicted 1 Meaning Loan Granted\n",
      "Customer 452 ---- Predicted 1 Meaning Loan Granted\n",
      "Customer 453 ---- Predicted 0 Meaning Loan not Granted\n",
      "Customer 454 ---- Predicted 1 Meaning Loan Granted\n",
      "Customer 455 ---- Predicted 1 Meaning Loan Granted\n",
      "Customer 456 ---- Predicted 1 Meaning Loan Granted\n",
      "Customer 457 ---- Predicted 0 Meaning Loan not Granted\n",
      "Customer 458 ---- Predicted 0 Meaning Loan not Granted\n",
      "Customer 459 ---- Predicted 0 Meaning Loan not Granted\n",
      "Customer 460 ---- Predicted 0 Meaning Loan not Granted\n",
      "Customer 461 ---- Predicted 1 Meaning Loan Granted\n",
      "Customer 462 ---- Predicted 0 Meaning Loan not Granted\n",
      "Customer 463 ---- Predicted 1 Meaning Loan Granted\n",
      "Customer 464 ---- Predicted 1 Meaning Loan Granted\n",
      "Customer 465 ---- Predicted 1 Meaning Loan Granted\n",
      "Customer 466 ---- Predicted 1 Meaning Loan Granted\n",
      "Customer 467 ---- Predicted 1 Meaning Loan Granted\n",
      "Customer 468 ---- Predicted 1 Meaning Loan Granted\n",
      "Customer 469 ---- Predicted 1 Meaning Loan Granted\n",
      "Customer 470 ---- Predicted 0 Meaning Loan not Granted\n",
      "Customer 471 ---- Predicted 1 Meaning Loan Granted\n",
      "Customer 472 ---- Predicted 1 Meaning Loan Granted\n",
      "Customer 473 ---- Predicted 0 Meaning Loan not Granted\n",
      "Customer 474 ---- Predicted 1 Meaning Loan Granted\n",
      "Customer 475 ---- Predicted 1 Meaning Loan Granted\n",
      "Customer 476 ---- Predicted 1 Meaning Loan Granted\n",
      "Customer 477 ---- Predicted 1 Meaning Loan Granted\n",
      "Customer 478 ---- Predicted 1 Meaning Loan Granted\n",
      "Customer 479 ---- Predicted 1 Meaning Loan Granted\n",
      "Customer 480 ---- Predicted 1 Meaning Loan Granted\n",
      "Customer 481 ---- Predicted 0 Meaning Loan not Granted\n",
      "Customer 482 ---- Predicted 1 Meaning Loan Granted\n",
      "Customer 483 ---- Predicted 0 Meaning Loan not Granted\n",
      "Customer 484 ---- Predicted 0 Meaning Loan not Granted\n",
      "Customer 485 ---- Predicted 0 Meaning Loan not Granted\n",
      "Customer 486 ---- Predicted 1 Meaning Loan Granted\n",
      "Customer 487 ---- Predicted 1 Meaning Loan Granted\n",
      "Customer 488 ---- Predicted 1 Meaning Loan Granted\n",
      "Customer 489 ---- Predicted 1 Meaning Loan Granted\n",
      "Customer 490 ---- Predicted 0 Meaning Loan not Granted\n",
      "Customer 491 ---- Predicted 0 Meaning Loan not Granted\n",
      "Customer 492 ---- Predicted 1 Meaning Loan Granted\n",
      "Customer 493 ---- Predicted 1 Meaning Loan Granted\n",
      "Customer 494 ---- Predicted 0 Meaning Loan not Granted\n",
      "Customer 495 ---- Predicted 1 Meaning Loan Granted\n",
      "Customer 496 ---- Predicted 1 Meaning Loan Granted\n",
      "Customer 497 ---- Predicted 0 Meaning Loan not Granted\n",
      "Customer 498 ---- Predicted 0 Meaning Loan not Granted\n",
      "Customer 499 ---- Predicted 1 Meaning Loan Granted\n",
      "Customer 500 ---- Predicted 1 Meaning Loan Granted\n",
      " Therefore, our system approves that 416 customers will be given loan and \n",
      "84 will not be given loan\n"
     ]
    }
   ],
   "source": [
    "predicted_customers = model.predict(X)\n",
    "it = np.nditer(predicted_customers, flags=['f_index'])\n",
    "sum_given = sum_not_given = 0\n",
    "for i in it:\n",
    "    if i==1:\n",
    "        print(f'Customer {it.index + 1} ---- Predicted {i} Meaning Loan Granted')\n",
    "        sum_given+=1\n",
    "    else:\n",
    "        print(f'Customer {it.index + 1} ---- Predicted {i} Meaning Loan not Granted')\n",
    "        sum_not_given+=1\n",
    "print(f' Therefore, our system approves that {sum_given} customers will be given loan and ')\n",
    "print(f'{sum_not_given} will not be given loan')"
   ]
  }
 ],
 "metadata": {
  "kernelspec": {
   "display_name": "Python 3",
   "language": "python",
   "name": "python3"
  },
  "language_info": {
   "codemirror_mode": {
    "name": "ipython",
    "version": 3
   },
   "file_extension": ".py",
   "mimetype": "text/x-python",
   "name": "python",
   "nbconvert_exporter": "python",
   "pygments_lexer": "ipython3",
   "version": "3.8.8"
  }
 },
 "nbformat": 4,
 "nbformat_minor": 5
}
