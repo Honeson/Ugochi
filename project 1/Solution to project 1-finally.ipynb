{
 "cells": [
  {
   "cell_type": "code",
   "execution_count": 1,
   "id": "319fbbd5",
   "metadata": {},
   "outputs": [],
   "source": [
    "import pandas as pd\n",
    "import seaborn as sns\n",
    "import matplotlib.pyplot as plt\n",
    "import numpy as np\n",
    "from sklearn.linear_model import LinearRegression\n",
    "from sklearn.metrics import r2_score\n",
    "%matplotlib inline"
   ]
  },
  {
   "cell_type": "code",
   "execution_count": 2,
   "id": "0ed5e5a7",
   "metadata": {},
   "outputs": [],
   "source": [
    "customer_try = pd.read_excel('p1-customers.xlsx', index_col=0)"
   ]
  },
  {
   "cell_type": "code",
   "execution_count": 3,
   "id": "2df0b603",
   "metadata": {},
   "outputs": [],
   "source": [
    "customer = pd.read_excel('p1-customers.xlsx', index_col=0)"
   ]
  },
  {
   "cell_type": "code",
   "execution_count": 4,
   "id": "5efbedf1",
   "metadata": {},
   "outputs": [],
   "source": [
    "df = pd.read_excel('p1-customers.xlsx', index_col=0)\n",
    "df = df[['Customer_Segment', 'Avg_Num_Products_Purchased']]"
   ]
  },
  {
   "cell_type": "code",
   "execution_count": 5,
   "id": "bc0c4888",
   "metadata": {},
   "outputs": [
    {
     "name": "stdout",
     "output_type": "stream",
     "text": [
      "                    Customer_Segment  Customer_ID            Address  \\\n",
      "Name                                                                   \n",
      "Pamela Wright     Store Mailing List            2   376 S Jasmine St   \n",
      "Danell Valdez     Store Mailing List            7   12066 E Lake Cir   \n",
      "Jessica Rinehart  Store Mailing List            8  7225 S Gaylord St   \n",
      "Nancy Clark       Store Mailing List            9   4497 Cornish Way   \n",
      "Andrea Brun       Store Mailing List           10     2316 E 5th Ave   \n",
      "\n",
      "                               City State    ZIP  Avg_Sale_Amount  \\\n",
      "Name                                                                \n",
      "Pamela Wright                Denver    CO  80224           227.90   \n",
      "Danell Valdez     Greenwood Village    CO  80111            55.00   \n",
      "Jessica Rinehart         Centennial    CO  80122           212.57   \n",
      "Nancy Clark                  Denver    CO  80239           195.31   \n",
      "Andrea Brun                  Denver    CO  80206           110.55   \n",
      "\n",
      "                  Store_Number Responded_to_Last_Catalog  \\\n",
      "Name                                                       \n",
      "Pamela Wright              100                        No   \n",
      "Danell Valdez              105                       Yes   \n",
      "Jessica Rinehart           101                        No   \n",
      "Nancy Clark                105                       Yes   \n",
      "Andrea Brun                100                       Yes   \n",
      "\n",
      "                  Avg_Num_Products_Purchased  #_Years_as_Customer  \n",
      "Name                                                               \n",
      "Pamela Wright                              1                    6  \n",
      "Danell Valdez                              1                    6  \n",
      "Jessica Rinehart                           1                    3  \n",
      "Nancy Clark                                1                    6  \n",
      "Andrea Brun                                1                    2  \n",
      "Store Mailing List              1108\n",
      "Loyalty Club Only                579\n",
      "Credit Card Only                 494\n",
      "Loyalty Club and Credit Card     194\n",
      "Name: Customer_Segment, dtype: int64\n",
      "(2375, 11)\n",
      "       Customer_ID           ZIP  Avg_Sale_Amount  Store_Number  \\\n",
      "count  2375.000000   2375.000000      2375.000000   2375.000000   \n",
      "mean   1647.845474  80123.333474       399.774093    104.297684   \n",
      "std     962.728105    107.255770       340.115808      2.837240   \n",
      "min       2.000000  80002.000000         1.220000    100.000000   \n",
      "25%     820.500000  80014.000000       168.925000    101.000000   \n",
      "50%    1629.000000  80123.000000       281.320000    105.000000   \n",
      "75%    2492.500000  80221.000000       572.400000    107.000000   \n",
      "max    3335.000000  80640.000000      2963.490000    109.000000   \n",
      "\n",
      "       Avg_Num_Products_Purchased  #_Years_as_Customer  \n",
      "count                 2375.000000          2375.000000  \n",
      "mean                     3.347368             4.500632  \n",
      "std                      2.738568             2.309986  \n",
      "min                      1.000000             1.000000  \n",
      "25%                      1.000000             2.000000  \n",
      "50%                      3.000000             5.000000  \n",
      "75%                      5.000000             6.000000  \n",
      "max                     26.000000             8.000000  \n",
      "<class 'pandas.core.frame.DataFrame'>\n",
      "Index: 2375 entries, Pamela Wright to Elissa Engledow\n",
      "Data columns (total 11 columns):\n",
      " #   Column                      Non-Null Count  Dtype  \n",
      "---  ------                      --------------  -----  \n",
      " 0   Customer_Segment            2375 non-null   object \n",
      " 1   Customer_ID                 2375 non-null   int64  \n",
      " 2   Address                     2375 non-null   object \n",
      " 3   City                        2375 non-null   object \n",
      " 4   State                       2375 non-null   object \n",
      " 5   ZIP                         2375 non-null   int64  \n",
      " 6   Avg_Sale_Amount             2375 non-null   float64\n",
      " 7   Store_Number                2375 non-null   int64  \n",
      " 8   Responded_to_Last_Catalog   2375 non-null   object \n",
      " 9   Avg_Num_Products_Purchased  2375 non-null   int64  \n",
      " 10  #_Years_as_Customer         2375 non-null   int64  \n",
      "dtypes: float64(1), int64(5), object(5)\n",
      "memory usage: 222.7+ KB\n",
      "None\n"
     ]
    }
   ],
   "source": [
    "print(customer.head())\n",
    "print(customer['Customer_Segment'].value_counts())\n",
    "print(customer.shape)\n",
    "print(customer.describe())\n",
    "print(customer.info())"
   ]
  },
  {
   "cell_type": "code",
   "execution_count": 6,
   "id": "86e902dd",
   "metadata": {},
   "outputs": [
    {
     "data": {
      "image/png": "[encoded data removed]",
      "text/plain": [
       "<Figure size 432x288 with 1 Axes>"
      ]
     },
     "metadata": {
      "needs_background": "light"
     },
     "output_type": "display_data"
    }
   ],
   "source": [
    "\n",
    "customer.plot.scatter(x='Customer_Segment', y='Avg_Sale_Amount', title= \"Scatter plot between two columns of a multi-column DataFrame\");\n",
    "\n",
    "plt.show(block=True);"
   ]
  },
  {
   "cell_type": "code",
   "execution_count": 7,
   "id": "c8e9ebfb",
   "metadata": {},
   "outputs": [
    {
     "data": {
      "image/png": "[encoded data removed]",
      "text/plain": [
       "<Figure size 432x288 with 1 Axes>"
      ]
     },
     "metadata": {
      "needs_background": "light"
     },
     "output_type": "display_data"
    }
   ],
   "source": [
    "customer.plot.scatter(x='Avg_Num_Products_Purchased', y='Avg_Sale_Amount', title= \"Scatter plot between two columns of a multi-column DataFrame\");\n",
    "\n",
    "plt.show(block=True);"
   ]
  },
  {
   "cell_type": "code",
   "execution_count": 8,
   "id": "e73eda02",
   "metadata": {},
   "outputs": [
    {
     "data": {
      "image/png": "[encoded data removed]",
      "text/plain": [
       "<Figure size 432x288 with 1 Axes>"
      ]
     },
     "metadata": {
      "needs_background": "light"
     },
     "output_type": "display_data"
    }
   ],
   "source": [
    "customer.plot.scatter(x='#_Years_as_Customer', y='Avg_Sale_Amount', title= \"Scatter plot between two columns of a multi-column DataFrame\");\n",
    "\n",
    "plt.show(block=True);\n"
   ]
  },
  {
   "cell_type": "code",
   "execution_count": 9,
   "id": "2615216e",
   "metadata": {},
   "outputs": [
    {
     "data": {
      "text/plain": [
       "Text(0.5, 1.0, 'Correlation Heatmap')"
      ]
     },
     "execution_count": 9,
     "metadata": {},
     "output_type": "execute_result"
    },
    {
     "data": {
      "image/png": "[encoded data removed]",
      "text/plain": [
       "<Figure size 864x504 with 2 Axes>"
      ]
     },
     "metadata": {
      "needs_background": "light"
     },
     "output_type": "display_data"
    }
   ],
   "source": [
    "# Correlation matrix to statistically figure out multiple colinearity and variable that doesn't correlate with the target.\n",
    "plt.figure(figsize=(12, 7))\n",
    "heatmap = sns.heatmap(customer.corr(), vmin=-1, vmax=1, annot=True)\n",
    "heatmap.set_title('Correlation Heatmap', fontdict={'fontsize':12}, pad=12)\n",
    "#plt.savefig('correlation_marix.png')"
   ]
  },
  {
   "cell_type": "markdown",
   "id": "8dd510ca",
   "metadata": {},
   "source": [
    "From the above, only one feature(Avg_Num_Products_Purchased) correlates with the target (Avg_sale_amount). Hence, our problem reduces into a simple linear regression with one independent variable and one dependent variable."
   ]
  },
  {
   "cell_type": "code",
   "execution_count": 10,
   "id": "4d416c46",
   "metadata": {},
   "outputs": [
    {
     "data": {
      "text/plain": [
       "CO    2375\n",
       "Name: State, dtype: int64"
      ]
     },
     "execution_count": 10,
     "metadata": {},
     "output_type": "execute_result"
    },
    {
     "data": {
      "image/png": "[encoded data removed]",
      "text/plain": [
       "<Figure size 432x288 with 1 Axes>"
      ]
     },
     "metadata": {
      "needs_background": "light"
     },
     "output_type": "display_data"
    }
   ],
   "source": [
    "sns.countplot(x='State', data=customer, palette='hls')\n",
    "customer['State'].value_counts()"
   ]
  },
  {
   "cell_type": "code",
   "execution_count": 11,
   "id": "67af6016",
   "metadata": {},
   "outputs": [],
   "source": [
    "# Let us remove the State column(feature) because of low variability (same values across all examples)\n",
    "customer_try.drop(['State'], axis=1, inplace=True)"
   ]
  },
  {
   "cell_type": "code",
   "execution_count": 12,
   "id": "5e83708c",
   "metadata": {},
   "outputs": [
    {
     "data": {
      "text/html": [
       "<div>\n",
       "<style scoped>\n",
       "    .dataframe tbody tr th:only-of-type {\n",
       "        vertical-align: middle;\n",
       "    }\n",
       "\n",
       "    .dataframe tbody tr th {\n",
       "        vertical-align: top;\n",
       "    }\n",
       "\n",
       "    .dataframe thead th {\n",
       "        text-align: right;\n",
       "    }\n",
       "</style>\n",
       "<table border=\"1\" class=\"dataframe\">\n",
       "  <thead>\n",
       "    <tr style=\"text-align: right;\">\n",
       "      <th></th>\n",
       "      <th>Customer_Segment</th>\n",
       "      <th>Customer_ID</th>\n",
       "      <th>Address</th>\n",
       "      <th>City</th>\n",
       "      <th>State</th>\n",
       "      <th>ZIP</th>\n",
       "      <th>Avg_Sale_Amount</th>\n",
       "      <th>Store_Number</th>\n",
       "      <th>Responded_to_Last_Catalog</th>\n",
       "      <th>Avg_Num_Products_Purchased</th>\n",
       "      <th>#_Years_as_Customer</th>\n",
       "    </tr>\n",
       "    <tr>\n",
       "      <th>Name</th>\n",
       "      <th></th>\n",
       "      <th></th>\n",
       "      <th></th>\n",
       "      <th></th>\n",
       "      <th></th>\n",
       "      <th></th>\n",
       "      <th></th>\n",
       "      <th></th>\n",
       "      <th></th>\n",
       "      <th></th>\n",
       "      <th></th>\n",
       "    </tr>\n",
       "  </thead>\n",
       "  <tbody>\n",
       "    <tr>\n",
       "      <th>Pamela Wright</th>\n",
       "      <td>Store Mailing List</td>\n",
       "      <td>2</td>\n",
       "      <td>376 S Jasmine St</td>\n",
       "      <td>Denver</td>\n",
       "      <td>CO</td>\n",
       "      <td>80224</td>\n",
       "      <td>227.90</td>\n",
       "      <td>100</td>\n",
       "      <td>No</td>\n",
       "      <td>1</td>\n",
       "      <td>6</td>\n",
       "    </tr>\n",
       "    <tr>\n",
       "      <th>Danell Valdez</th>\n",
       "      <td>Store Mailing List</td>\n",
       "      <td>7</td>\n",
       "      <td>12066 E Lake Cir</td>\n",
       "      <td>Greenwood Village</td>\n",
       "      <td>CO</td>\n",
       "      <td>80111</td>\n",
       "      <td>55.00</td>\n",
       "      <td>105</td>\n",
       "      <td>Yes</td>\n",
       "      <td>1</td>\n",
       "      <td>6</td>\n",
       "    </tr>\n",
       "    <tr>\n",
       "      <th>Jessica Rinehart</th>\n",
       "      <td>Store Mailing List</td>\n",
       "      <td>8</td>\n",
       "      <td>7225 S Gaylord St</td>\n",
       "      <td>Centennial</td>\n",
       "      <td>CO</td>\n",
       "      <td>80122</td>\n",
       "      <td>212.57</td>\n",
       "      <td>101</td>\n",
       "      <td>No</td>\n",
       "      <td>1</td>\n",
       "      <td>3</td>\n",
       "    </tr>\n",
       "    <tr>\n",
       "      <th>Nancy Clark</th>\n",
       "      <td>Store Mailing List</td>\n",
       "      <td>9</td>\n",
       "      <td>4497 Cornish Way</td>\n",
       "      <td>Denver</td>\n",
       "      <td>CO</td>\n",
       "      <td>80239</td>\n",
       "      <td>195.31</td>\n",
       "      <td>105</td>\n",
       "      <td>Yes</td>\n",
       "      <td>1</td>\n",
       "      <td>6</td>\n",
       "    </tr>\n",
       "    <tr>\n",
       "      <th>Andrea Brun</th>\n",
       "      <td>Store Mailing List</td>\n",
       "      <td>10</td>\n",
       "      <td>2316 E 5th Ave</td>\n",
       "      <td>Denver</td>\n",
       "      <td>CO</td>\n",
       "      <td>80206</td>\n",
       "      <td>110.55</td>\n",
       "      <td>100</td>\n",
       "      <td>Yes</td>\n",
       "      <td>1</td>\n",
       "      <td>2</td>\n",
       "    </tr>\n",
       "    <tr>\n",
       "      <th>...</th>\n",
       "      <td>...</td>\n",
       "      <td>...</td>\n",
       "      <td>...</td>\n",
       "      <td>...</td>\n",
       "      <td>...</td>\n",
       "      <td>...</td>\n",
       "      <td>...</td>\n",
       "      <td>...</td>\n",
       "      <td>...</td>\n",
       "      <td>...</td>\n",
       "      <td>...</td>\n",
       "    </tr>\n",
       "    <tr>\n",
       "      <th>Joan Delisa</th>\n",
       "      <td>Credit Card Only</td>\n",
       "      <td>3287</td>\n",
       "      <td>1657 S King St</td>\n",
       "      <td>Denver</td>\n",
       "      <td>CO</td>\n",
       "      <td>80219</td>\n",
       "      <td>818.72</td>\n",
       "      <td>101</td>\n",
       "      <td>No</td>\n",
       "      <td>5</td>\n",
       "      <td>1</td>\n",
       "    </tr>\n",
       "    <tr>\n",
       "      <th>Helen Cordiner</th>\n",
       "      <td>Credit Card Only</td>\n",
       "      <td>3299</td>\n",
       "      <td>2102 S Lansing Ct</td>\n",
       "      <td>Aurora</td>\n",
       "      <td>CO</td>\n",
       "      <td>80014</td>\n",
       "      <td>564.93</td>\n",
       "      <td>105</td>\n",
       "      <td>No</td>\n",
       "      <td>6</td>\n",
       "      <td>4</td>\n",
       "    </tr>\n",
       "    <tr>\n",
       "      <th>Angela Finley</th>\n",
       "      <td>Credit Card Only</td>\n",
       "      <td>3303</td>\n",
       "      <td>1068 S Jasper St</td>\n",
       "      <td>Aurora</td>\n",
       "      <td>CO</td>\n",
       "      <td>80017</td>\n",
       "      <td>605.07</td>\n",
       "      <td>105</td>\n",
       "      <td>No</td>\n",
       "      <td>6</td>\n",
       "      <td>4</td>\n",
       "    </tr>\n",
       "    <tr>\n",
       "      <th>Christine Sullivan</th>\n",
       "      <td>Credit Card Only</td>\n",
       "      <td>3304</td>\n",
       "      <td>7901 W 52nd Ave</td>\n",
       "      <td>Arvada</td>\n",
       "      <td>CO</td>\n",
       "      <td>80002</td>\n",
       "      <td>656.79</td>\n",
       "      <td>107</td>\n",
       "      <td>No</td>\n",
       "      <td>7</td>\n",
       "      <td>7</td>\n",
       "    </tr>\n",
       "    <tr>\n",
       "      <th>Elissa Engledow</th>\n",
       "      <td>Credit Card Only</td>\n",
       "      <td>3315</td>\n",
       "      <td>9360 E Center Ave</td>\n",
       "      <td>Denver</td>\n",
       "      <td>CO</td>\n",
       "      <td>80247</td>\n",
       "      <td>167.59</td>\n",
       "      <td>104</td>\n",
       "      <td>No</td>\n",
       "      <td>1</td>\n",
       "      <td>3</td>\n",
       "    </tr>\n",
       "  </tbody>\n",
       "</table>\n",
       "<p>2375 rows × 11 columns</p>\n",
       "</div>"
      ],
      "text/plain": [
       "                      Customer_Segment  Customer_ID            Address  \\\n",
       "Name                                                                     \n",
       "Pamela Wright       Store Mailing List            2   376 S Jasmine St   \n",
       "Danell Valdez       Store Mailing List            7   12066 E Lake Cir   \n",
       "Jessica Rinehart    Store Mailing List            8  7225 S Gaylord St   \n",
       "Nancy Clark         Store Mailing List            9   4497 Cornish Way   \n",
       "Andrea Brun         Store Mailing List           10     2316 E 5th Ave   \n",
       "...                                ...          ...                ...   \n",
       "Joan Delisa           Credit Card Only         3287     1657 S King St   \n",
       "Helen Cordiner        Credit Card Only         3299  2102 S Lansing Ct   \n",
       "Angela Finley         Credit Card Only         3303   1068 S Jasper St   \n",
       "Christine Sullivan    Credit Card Only         3304    7901 W 52nd Ave   \n",
       "Elissa Engledow       Credit Card Only         3315  9360 E Center Ave   \n",
       "\n",
       "                                 City State    ZIP  Avg_Sale_Amount  \\\n",
       "Name                                                                  \n",
       "Pamela Wright                  Denver    CO  80224           227.90   \n",
       "Danell Valdez       Greenwood Village    CO  80111            55.00   \n",
       "Jessica Rinehart           Centennial    CO  80122           212.57   \n",
       "Nancy Clark                    Denver    CO  80239           195.31   \n",
       "Andrea Brun                    Denver    CO  80206           110.55   \n",
       "...                               ...   ...    ...              ...   \n",
       "Joan Delisa                    Denver    CO  80219           818.72   \n",
       "Helen Cordiner                 Aurora    CO  80014           564.93   \n",
       "Angela Finley                  Aurora    CO  80017           605.07   \n",
       "Christine Sullivan             Arvada    CO  80002           656.79   \n",
       "Elissa Engledow                Denver    CO  80247           167.59   \n",
       "\n",
       "                    Store_Number Responded_to_Last_Catalog  \\\n",
       "Name                                                         \n",
       "Pamela Wright                100                        No   \n",
       "Danell Valdez                105                       Yes   \n",
       "Jessica Rinehart             101                        No   \n",
       "Nancy Clark                  105                       Yes   \n",
       "Andrea Brun                  100                       Yes   \n",
       "...                          ...                       ...   \n",
       "Joan Delisa                  101                        No   \n",
       "Helen Cordiner               105                        No   \n",
       "Angela Finley                105                        No   \n",
       "Christine Sullivan           107                        No   \n",
       "Elissa Engledow              104                        No   \n",
       "\n",
       "                    Avg_Num_Products_Purchased  #_Years_as_Customer  \n",
       "Name                                                                 \n",
       "Pamela Wright                                1                    6  \n",
       "Danell Valdez                                1                    6  \n",
       "Jessica Rinehart                             1                    3  \n",
       "Nancy Clark                                  1                    6  \n",
       "Andrea Brun                                  1                    2  \n",
       "...                                        ...                  ...  \n",
       "Joan Delisa                                  5                    1  \n",
       "Helen Cordiner                               6                    4  \n",
       "Angela Finley                                6                    4  \n",
       "Christine Sullivan                           7                    7  \n",
       "Elissa Engledow                              1                    3  \n",
       "\n",
       "[2375 rows x 11 columns]"
      ]
     },
     "execution_count": 12,
     "metadata": {},
     "output_type": "execute_result"
    }
   ],
   "source": [
    "customer"
   ]
  },
  {
   "cell_type": "code",
   "execution_count": 13,
   "id": "1c7a8454",
   "metadata": {},
   "outputs": [],
   "source": [
    "for col in customer_try.columns:\n",
    "    if customer_try[col].dtype == 'object':\n",
    "        customer_try[col] = customer_try[col].astype('category')\n",
    "\n",
    "        \n",
    "# converting all the categorical data in our dataframe into numbers. We can't feed in categories to NN, we must convert it first.\n",
    "\n",
    "cat_columns = customer_try.select_dtypes(['category']).columns\n",
    "customer_try[cat_columns] = customer_try[cat_columns].apply(lambda x: x.cat.codes)"
   ]
  },
  {
   "cell_type": "code",
   "execution_count": 14,
   "id": "3b49fc15",
   "metadata": {},
   "outputs": [
    {
     "data": {
      "text/html": [
       "<div>\n",
       "<style scoped>\n",
       "    .dataframe tbody tr th:only-of-type {\n",
       "        vertical-align: middle;\n",
       "    }\n",
       "\n",
       "    .dataframe tbody tr th {\n",
       "        vertical-align: top;\n",
       "    }\n",
       "\n",
       "    .dataframe thead th {\n",
       "        text-align: right;\n",
       "    }\n",
       "</style>\n",
       "<table border=\"1\" class=\"dataframe\">\n",
       "  <thead>\n",
       "    <tr style=\"text-align: right;\">\n",
       "      <th></th>\n",
       "      <th>Customer_Segment</th>\n",
       "      <th>Customer_ID</th>\n",
       "      <th>Address</th>\n",
       "      <th>City</th>\n",
       "      <th>State</th>\n",
       "      <th>ZIP</th>\n",
       "      <th>Avg_Sale_Amount</th>\n",
       "      <th>Store_Number</th>\n",
       "      <th>Responded_to_Last_Catalog</th>\n",
       "      <th>Avg_Num_Products_Purchased</th>\n",
       "      <th>#_Years_as_Customer</th>\n",
       "    </tr>\n",
       "    <tr>\n",
       "      <th>Name</th>\n",
       "      <th></th>\n",
       "      <th></th>\n",
       "      <th></th>\n",
       "      <th></th>\n",
       "      <th></th>\n",
       "      <th></th>\n",
       "      <th></th>\n",
       "      <th></th>\n",
       "      <th></th>\n",
       "      <th></th>\n",
       "      <th></th>\n",
       "    </tr>\n",
       "  </thead>\n",
       "  <tbody>\n",
       "    <tr>\n",
       "      <th>Pamela Wright</th>\n",
       "      <td>Store Mailing List</td>\n",
       "      <td>2</td>\n",
       "      <td>376 S Jasmine St</td>\n",
       "      <td>Denver</td>\n",
       "      <td>CO</td>\n",
       "      <td>80224</td>\n",
       "      <td>227.90</td>\n",
       "      <td>100</td>\n",
       "      <td>No</td>\n",
       "      <td>1</td>\n",
       "      <td>6</td>\n",
       "    </tr>\n",
       "    <tr>\n",
       "      <th>Danell Valdez</th>\n",
       "      <td>Store Mailing List</td>\n",
       "      <td>7</td>\n",
       "      <td>12066 E Lake Cir</td>\n",
       "      <td>Greenwood Village</td>\n",
       "      <td>CO</td>\n",
       "      <td>80111</td>\n",
       "      <td>55.00</td>\n",
       "      <td>105</td>\n",
       "      <td>Yes</td>\n",
       "      <td>1</td>\n",
       "      <td>6</td>\n",
       "    </tr>\n",
       "    <tr>\n",
       "      <th>Jessica Rinehart</th>\n",
       "      <td>Store Mailing List</td>\n",
       "      <td>8</td>\n",
       "      <td>7225 S Gaylord St</td>\n",
       "      <td>Centennial</td>\n",
       "      <td>CO</td>\n",
       "      <td>80122</td>\n",
       "      <td>212.57</td>\n",
       "      <td>101</td>\n",
       "      <td>No</td>\n",
       "      <td>1</td>\n",
       "      <td>3</td>\n",
       "    </tr>\n",
       "    <tr>\n",
       "      <th>Nancy Clark</th>\n",
       "      <td>Store Mailing List</td>\n",
       "      <td>9</td>\n",
       "      <td>4497 Cornish Way</td>\n",
       "      <td>Denver</td>\n",
       "      <td>CO</td>\n",
       "      <td>80239</td>\n",
       "      <td>195.31</td>\n",
       "      <td>105</td>\n",
       "      <td>Yes</td>\n",
       "      <td>1</td>\n",
       "      <td>6</td>\n",
       "    </tr>\n",
       "    <tr>\n",
       "      <th>Andrea Brun</th>\n",
       "      <td>Store Mailing List</td>\n",
       "      <td>10</td>\n",
       "      <td>2316 E 5th Ave</td>\n",
       "      <td>Denver</td>\n",
       "      <td>CO</td>\n",
       "      <td>80206</td>\n",
       "      <td>110.55</td>\n",
       "      <td>100</td>\n",
       "      <td>Yes</td>\n",
       "      <td>1</td>\n",
       "      <td>2</td>\n",
       "    </tr>\n",
       "    <tr>\n",
       "      <th>...</th>\n",
       "      <td>...</td>\n",
       "      <td>...</td>\n",
       "      <td>...</td>\n",
       "      <td>...</td>\n",
       "      <td>...</td>\n",
       "      <td>...</td>\n",
       "      <td>...</td>\n",
       "      <td>...</td>\n",
       "      <td>...</td>\n",
       "      <td>...</td>\n",
       "      <td>...</td>\n",
       "    </tr>\n",
       "    <tr>\n",
       "      <th>Joan Delisa</th>\n",
       "      <td>Credit Card Only</td>\n",
       "      <td>3287</td>\n",
       "      <td>1657 S King St</td>\n",
       "      <td>Denver</td>\n",
       "      <td>CO</td>\n",
       "      <td>80219</td>\n",
       "      <td>818.72</td>\n",
       "      <td>101</td>\n",
       "      <td>No</td>\n",
       "      <td>5</td>\n",
       "      <td>1</td>\n",
       "    </tr>\n",
       "    <tr>\n",
       "      <th>Helen Cordiner</th>\n",
       "      <td>Credit Card Only</td>\n",
       "      <td>3299</td>\n",
       "      <td>2102 S Lansing Ct</td>\n",
       "      <td>Aurora</td>\n",
       "      <td>CO</td>\n",
       "      <td>80014</td>\n",
       "      <td>564.93</td>\n",
       "      <td>105</td>\n",
       "      <td>No</td>\n",
       "      <td>6</td>\n",
       "      <td>4</td>\n",
       "    </tr>\n",
       "    <tr>\n",
       "      <th>Angela Finley</th>\n",
       "      <td>Credit Card Only</td>\n",
       "      <td>3303</td>\n",
       "      <td>1068 S Jasper St</td>\n",
       "      <td>Aurora</td>\n",
       "      <td>CO</td>\n",
       "      <td>80017</td>\n",
       "      <td>605.07</td>\n",
       "      <td>105</td>\n",
       "      <td>No</td>\n",
       "      <td>6</td>\n",
       "      <td>4</td>\n",
       "    </tr>\n",
       "    <tr>\n",
       "      <th>Christine Sullivan</th>\n",
       "      <td>Credit Card Only</td>\n",
       "      <td>3304</td>\n",
       "      <td>7901 W 52nd Ave</td>\n",
       "      <td>Arvada</td>\n",
       "      <td>CO</td>\n",
       "      <td>80002</td>\n",
       "      <td>656.79</td>\n",
       "      <td>107</td>\n",
       "      <td>No</td>\n",
       "      <td>7</td>\n",
       "      <td>7</td>\n",
       "    </tr>\n",
       "    <tr>\n",
       "      <th>Elissa Engledow</th>\n",
       "      <td>Credit Card Only</td>\n",
       "      <td>3315</td>\n",
       "      <td>9360 E Center Ave</td>\n",
       "      <td>Denver</td>\n",
       "      <td>CO</td>\n",
       "      <td>80247</td>\n",
       "      <td>167.59</td>\n",
       "      <td>104</td>\n",
       "      <td>No</td>\n",
       "      <td>1</td>\n",
       "      <td>3</td>\n",
       "    </tr>\n",
       "  </tbody>\n",
       "</table>\n",
       "<p>2375 rows × 11 columns</p>\n",
       "</div>"
      ],
      "text/plain": [
       "                      Customer_Segment  Customer_ID            Address  \\\n",
       "Name                                                                     \n",
       "Pamela Wright       Store Mailing List            2   376 S Jasmine St   \n",
       "Danell Valdez       Store Mailing List            7   12066 E Lake Cir   \n",
       "Jessica Rinehart    Store Mailing List            8  7225 S Gaylord St   \n",
       "Nancy Clark         Store Mailing List            9   4497 Cornish Way   \n",
       "Andrea Brun         Store Mailing List           10     2316 E 5th Ave   \n",
       "...                                ...          ...                ...   \n",
       "Joan Delisa           Credit Card Only         3287     1657 S King St   \n",
       "Helen Cordiner        Credit Card Only         3299  2102 S Lansing Ct   \n",
       "Angela Finley         Credit Card Only         3303   1068 S Jasper St   \n",
       "Christine Sullivan    Credit Card Only         3304    7901 W 52nd Ave   \n",
       "Elissa Engledow       Credit Card Only         3315  9360 E Center Ave   \n",
       "\n",
       "                                 City State    ZIP  Avg_Sale_Amount  \\\n",
       "Name                                                                  \n",
       "Pamela Wright                  Denver    CO  80224           227.90   \n",
       "Danell Valdez       Greenwood Village    CO  80111            55.00   \n",
       "Jessica Rinehart           Centennial    CO  80122           212.57   \n",
       "Nancy Clark                    Denver    CO  80239           195.31   \n",
       "Andrea Brun                    Denver    CO  80206           110.55   \n",
       "...                               ...   ...    ...              ...   \n",
       "Joan Delisa                    Denver    CO  80219           818.72   \n",
       "Helen Cordiner                 Aurora    CO  80014           564.93   \n",
       "Angela Finley                  Aurora    CO  80017           605.07   \n",
       "Christine Sullivan             Arvada    CO  80002           656.79   \n",
       "Elissa Engledow                Denver    CO  80247           167.59   \n",
       "\n",
       "                    Store_Number Responded_to_Last_Catalog  \\\n",
       "Name                                                         \n",
       "Pamela Wright                100                        No   \n",
       "Danell Valdez                105                       Yes   \n",
       "Jessica Rinehart             101                        No   \n",
       "Nancy Clark                  105                       Yes   \n",
       "Andrea Brun                  100                       Yes   \n",
       "...                          ...                       ...   \n",
       "Joan Delisa                  101                        No   \n",
       "Helen Cordiner               105                        No   \n",
       "Angela Finley                105                        No   \n",
       "Christine Sullivan           107                        No   \n",
       "Elissa Engledow              104                        No   \n",
       "\n",
       "                    Avg_Num_Products_Purchased  #_Years_as_Customer  \n",
       "Name                                                                 \n",
       "Pamela Wright                                1                    6  \n",
       "Danell Valdez                                1                    6  \n",
       "Jessica Rinehart                             1                    3  \n",
       "Nancy Clark                                  1                    6  \n",
       "Andrea Brun                                  1                    2  \n",
       "...                                        ...                  ...  \n",
       "Joan Delisa                                  5                    1  \n",
       "Helen Cordiner                               6                    4  \n",
       "Angela Finley                                6                    4  \n",
       "Christine Sullivan                           7                    7  \n",
       "Elissa Engledow                              1                    3  \n",
       "\n",
       "[2375 rows x 11 columns]"
      ]
     },
     "execution_count": 14,
     "metadata": {},
     "output_type": "execute_result"
    }
   ],
   "source": [
    "customer"
   ]
  },
  {
   "cell_type": "code",
   "execution_count": 15,
   "id": "c375cf56",
   "metadata": {},
   "outputs": [],
   "source": [
    "X = customer_try.iloc[:, customer_try.columns != 'Avg_Sale_Amount']\n",
    "y = customer_try.iloc[:, customer_try.columns == 'Avg_Sale_Amount']\n",
    "X = pd.DataFrame(X)\n",
    "y = pd.DataFrame(y)"
   ]
  },
  {
   "cell_type": "code",
   "execution_count": 16,
   "id": "4f79a197",
   "metadata": {},
   "outputs": [
    {
     "name": "stdout",
     "output_type": "stream",
     "text": [
      "                        Results: Ordinary least squares\n",
      "================================================================================\n",
      "Model:                  OLS              Adj. R-squared (uncentered): 0.891     \n",
      "Dependent Variable:     Avg_Sale_Amount  AIC:                         31243.2030\n",
      "Date:                   2021-09-04 01:32 BIC:                         31295.1577\n",
      "No. Observations:       2375             Log-Likelihood:              -15613.   \n",
      "Df Model:               9                F-statistic:                 2149.     \n",
      "Df Residuals:           2366             Prob (F-statistic):          0.00      \n",
      "R-squared (uncentered): 0.891            Scale:                       30133.    \n",
      "--------------------------------------------------------------------------------\n",
      "                               Coef.   Std.Err.    t    P>|t|   [0.025   0.975] \n",
      "--------------------------------------------------------------------------------\n",
      "Customer_Segment              -26.1413   3.5594 -7.3443 0.0000 -33.1212 -19.1614\n",
      "Customer_ID                    -0.0059   0.0037 -1.5932 0.1113  -0.0132   0.0014\n",
      "Address                         0.0040   0.0053  0.7461 0.4557  -0.0065   0.0144\n",
      "City                            0.1461   0.4877  0.2996 0.7645  -0.8103   1.1026\n",
      "ZIP                             0.0017   0.0016  1.0279 0.3041  -0.0015   0.0049\n",
      "Store_Number                   -0.0786   1.2476 -0.0630 0.9497  -2.5251   2.3678\n",
      "Responded_to_Last_Catalog     -42.8892  14.1792 -3.0248 0.0025 -70.6942 -15.0842\n",
      "Avg_Num_Products_Purchased     99.0669   1.5843 62.5308 0.0000  95.9602 102.1737\n",
      "#_Years_as_Customer            -1.0217   1.5441 -0.6617 0.5082  -4.0497   2.0062\n",
      "--------------------------------------------------------------------------------\n",
      "Omnibus:                  727.914           Durbin-Watson:              1.454   \n",
      "Prob(Omnibus):            0.000             Jarque-Bera (JB):           5027.395\n",
      "Skew:                     1.266             Prob(JB):                   0.000   \n",
      "Kurtosis:                 9.663             Condition No.:              319269  \n",
      "================================================================================\n",
      "* The condition number is large (3e+05). This might indicate             strong\n",
      "multicollinearity or other numerical problems.\n"
     ]
    }
   ],
   "source": [
    "import statsmodels.api as sm\n",
    "regression_model=sm.OLS(y,X)\n",
    "result=regression_model.fit()\n",
    "print(result.summary2())"
   ]
  },
  {
   "cell_type": "code",
   "execution_count": 17,
   "id": "d3e4687c",
   "metadata": {},
   "outputs": [],
   "source": [
    "# We'll use only the following two features. This is because their p-values are less than 0.05\n",
    "columns_to_include = ['Customer_Segment', 'Avg_Num_Products_Purchased']"
   ]
  },
  {
   "cell_type": "code",
   "execution_count": 18,
   "id": "1014bc21",
   "metadata": {},
   "outputs": [],
   "source": [
    "X = customer[columns_to_include]"
   ]
  },
  {
   "cell_type": "code",
   "execution_count": 19,
   "id": "6caadd13",
   "metadata": {},
   "outputs": [
    {
     "data": {
      "text/html": [
       "<div>\n",
       "<style scoped>\n",
       "    .dataframe tbody tr th:only-of-type {\n",
       "        vertical-align: middle;\n",
       "    }\n",
       "\n",
       "    .dataframe tbody tr th {\n",
       "        vertical-align: top;\n",
       "    }\n",
       "\n",
       "    .dataframe thead th {\n",
       "        text-align: right;\n",
       "    }\n",
       "</style>\n",
       "<table border=\"1\" class=\"dataframe\">\n",
       "  <thead>\n",
       "    <tr style=\"text-align: right;\">\n",
       "      <th></th>\n",
       "      <th>Customer_Segment</th>\n",
       "      <th>Avg_Num_Products_Purchased</th>\n",
       "    </tr>\n",
       "    <tr>\n",
       "      <th>Name</th>\n",
       "      <th></th>\n",
       "      <th></th>\n",
       "    </tr>\n",
       "  </thead>\n",
       "  <tbody>\n",
       "    <tr>\n",
       "      <th>Pamela Wright</th>\n",
       "      <td>Store Mailing List</td>\n",
       "      <td>1</td>\n",
       "    </tr>\n",
       "    <tr>\n",
       "      <th>Danell Valdez</th>\n",
       "      <td>Store Mailing List</td>\n",
       "      <td>1</td>\n",
       "    </tr>\n",
       "    <tr>\n",
       "      <th>Jessica Rinehart</th>\n",
       "      <td>Store Mailing List</td>\n",
       "      <td>1</td>\n",
       "    </tr>\n",
       "    <tr>\n",
       "      <th>Nancy Clark</th>\n",
       "      <td>Store Mailing List</td>\n",
       "      <td>1</td>\n",
       "    </tr>\n",
       "    <tr>\n",
       "      <th>Andrea Brun</th>\n",
       "      <td>Store Mailing List</td>\n",
       "      <td>1</td>\n",
       "    </tr>\n",
       "  </tbody>\n",
       "</table>\n",
       "</div>"
      ],
      "text/plain": [
       "                    Customer_Segment  Avg_Num_Products_Purchased\n",
       "Name                                                            \n",
       "Pamela Wright     Store Mailing List                           1\n",
       "Danell Valdez     Store Mailing List                           1\n",
       "Jessica Rinehart  Store Mailing List                           1\n",
       "Nancy Clark       Store Mailing List                           1\n",
       "Andrea Brun       Store Mailing List                           1"
      ]
     },
     "execution_count": 19,
     "metadata": {},
     "output_type": "execute_result"
    }
   ],
   "source": [
    "X.head()"
   ]
  },
  {
   "cell_type": "code",
   "execution_count": 20,
   "id": "3b395f92",
   "metadata": {},
   "outputs": [],
   "source": [
    "X = pd.get_dummies(X, drop_first = True)"
   ]
  },
  {
   "cell_type": "code",
   "execution_count": 21,
   "id": "818a6124",
   "metadata": {},
   "outputs": [
    {
     "data": {
      "text/html": [
       "<div>\n",
       "<style scoped>\n",
       "    .dataframe tbody tr th:only-of-type {\n",
       "        vertical-align: middle;\n",
       "    }\n",
       "\n",
       "    .dataframe tbody tr th {\n",
       "        vertical-align: top;\n",
       "    }\n",
       "\n",
       "    .dataframe thead th {\n",
       "        text-align: right;\n",
       "    }\n",
       "</style>\n",
       "<table border=\"1\" class=\"dataframe\">\n",
       "  <thead>\n",
       "    <tr style=\"text-align: right;\">\n",
       "      <th></th>\n",
       "      <th>Avg_Num_Products_Purchased</th>\n",
       "      <th>Customer_Segment_Loyalty Club Only</th>\n",
       "      <th>Customer_Segment_Loyalty Club and Credit Card</th>\n",
       "      <th>Customer_Segment_Store Mailing List</th>\n",
       "    </tr>\n",
       "    <tr>\n",
       "      <th>Name</th>\n",
       "      <th></th>\n",
       "      <th></th>\n",
       "      <th></th>\n",
       "      <th></th>\n",
       "    </tr>\n",
       "  </thead>\n",
       "  <tbody>\n",
       "    <tr>\n",
       "      <th>Pamela Wright</th>\n",
       "      <td>1</td>\n",
       "      <td>0</td>\n",
       "      <td>0</td>\n",
       "      <td>1</td>\n",
       "    </tr>\n",
       "    <tr>\n",
       "      <th>Danell Valdez</th>\n",
       "      <td>1</td>\n",
       "      <td>0</td>\n",
       "      <td>0</td>\n",
       "      <td>1</td>\n",
       "    </tr>\n",
       "    <tr>\n",
       "      <th>Jessica Rinehart</th>\n",
       "      <td>1</td>\n",
       "      <td>0</td>\n",
       "      <td>0</td>\n",
       "      <td>1</td>\n",
       "    </tr>\n",
       "    <tr>\n",
       "      <th>Nancy Clark</th>\n",
       "      <td>1</td>\n",
       "      <td>0</td>\n",
       "      <td>0</td>\n",
       "      <td>1</td>\n",
       "    </tr>\n",
       "    <tr>\n",
       "      <th>Andrea Brun</th>\n",
       "      <td>1</td>\n",
       "      <td>0</td>\n",
       "      <td>0</td>\n",
       "      <td>1</td>\n",
       "    </tr>\n",
       "  </tbody>\n",
       "</table>\n",
       "</div>"
      ],
      "text/plain": [
       "                  Avg_Num_Products_Purchased  \\\n",
       "Name                                           \n",
       "Pamela Wright                              1   \n",
       "Danell Valdez                              1   \n",
       "Jessica Rinehart                           1   \n",
       "Nancy Clark                                1   \n",
       "Andrea Brun                                1   \n",
       "\n",
       "                  Customer_Segment_Loyalty Club Only  \\\n",
       "Name                                                   \n",
       "Pamela Wright                                      0   \n",
       "Danell Valdez                                      0   \n",
       "Jessica Rinehart                                   0   \n",
       "Nancy Clark                                        0   \n",
       "Andrea Brun                                        0   \n",
       "\n",
       "                  Customer_Segment_Loyalty Club and Credit Card  \\\n",
       "Name                                                              \n",
       "Pamela Wright                                                 0   \n",
       "Danell Valdez                                                 0   \n",
       "Jessica Rinehart                                              0   \n",
       "Nancy Clark                                                   0   \n",
       "Andrea Brun                                                   0   \n",
       "\n",
       "                  Customer_Segment_Store Mailing List  \n",
       "Name                                                   \n",
       "Pamela Wright                                       1  \n",
       "Danell Valdez                                       1  \n",
       "Jessica Rinehart                                    1  \n",
       "Nancy Clark                                         1  \n",
       "Andrea Brun                                         1  "
      ]
     },
     "execution_count": 21,
     "metadata": {},
     "output_type": "execute_result"
    }
   ],
   "source": [
    "pd.DataFrame(X).head()"
   ]
  },
  {
   "cell_type": "code",
   "execution_count": 22,
   "id": "a625e14a",
   "metadata": {},
   "outputs": [],
   "source": [
    "X = X.values"
   ]
  },
  {
   "cell_type": "code",
   "execution_count": 23,
   "id": "9aef6b62",
   "metadata": {},
   "outputs": [],
   "source": [
    "y = customer['Avg_Sale_Amount'].values"
   ]
  },
  {
   "cell_type": "code",
   "execution_count": 24,
   "id": "fa501838",
   "metadata": {},
   "outputs": [],
   "source": [
    "from sklearn.model_selection import train_test_split\n",
    "from sklearn.linear_model import LinearRegression\n",
    "from sklearn import metrics\n",
    "# X_train, X_test, y_train, y_test = train_test_split(X, y, test_size=0.3, random_state=0)\n",
    "regressor = LinearRegression(normalize=False)"
   ]
  },
  {
   "cell_type": "code",
   "execution_count": 25,
   "id": "df818938",
   "metadata": {},
   "outputs": [
    {
     "data": {
      "text/plain": [
       "LinearRegression()"
      ]
     },
     "execution_count": 25,
     "metadata": {},
     "output_type": "execute_result"
    }
   ],
   "source": [
    "regressor.fit(X, y)"
   ]
  },
  {
   "cell_type": "code",
   "execution_count": 26,
   "id": "9e607d8b",
   "metadata": {},
   "outputs": [
    {
     "data": {
      "text/plain": [
       "array([  66.97620492, -149.35572194,  281.83876492, -245.4177445 ])"
      ]
     },
     "execution_count": 26,
     "metadata": {},
     "output_type": "execute_result"
    }
   ],
   "source": [
    "regressor.coef_"
   ]
  },
  {
   "cell_type": "code",
   "execution_count": 27,
   "id": "a50aeada",
   "metadata": {},
   "outputs": [
    {
     "data": {
      "text/plain": [
       "303.46347"
      ]
     },
     "execution_count": 27,
     "metadata": {},
     "output_type": "execute_result"
    }
   ],
   "source": [
    "regressor.intercept_.round(5)"
   ]
  },
  {
   "cell_type": "code",
   "execution_count": 28,
   "id": "e315e278",
   "metadata": {},
   "outputs": [
    {
     "data": {
      "text/plain": [
       "0.8368777093556734"
      ]
     },
     "execution_count": 28,
     "metadata": {},
     "output_type": "execute_result"
    }
   ],
   "source": [
    "regressor.score(X,y)"
   ]
  },
  {
   "cell_type": "code",
   "execution_count": 29,
   "id": "b6291470",
   "metadata": {},
   "outputs": [
    {
     "data": {
      "text/html": [
       "<div>\n",
       "<style scoped>\n",
       "    .dataframe tbody tr th:only-of-type {\n",
       "        vertical-align: middle;\n",
       "    }\n",
       "\n",
       "    .dataframe tbody tr th {\n",
       "        vertical-align: top;\n",
       "    }\n",
       "\n",
       "    .dataframe thead th {\n",
       "        text-align: right;\n",
       "    }\n",
       "</style>\n",
       "<table border=\"1\" class=\"dataframe\">\n",
       "  <thead>\n",
       "    <tr style=\"text-align: right;\">\n",
       "      <th></th>\n",
       "      <th>Avg_Num_Products_Purchased</th>\n",
       "      <th>Customer_Segment_Credit Card Only</th>\n",
       "      <th>Customer_Segment_Loyalty Club Only</th>\n",
       "      <th>Customer_Segment_Loyalty Club and Credit Card</th>\n",
       "      <th>Customer_Segment_Store Mailing List</th>\n",
       "    </tr>\n",
       "    <tr>\n",
       "      <th>Name</th>\n",
       "      <th></th>\n",
       "      <th></th>\n",
       "      <th></th>\n",
       "      <th></th>\n",
       "      <th></th>\n",
       "    </tr>\n",
       "  </thead>\n",
       "  <tbody>\n",
       "    <tr>\n",
       "      <th>Pamela Wright</th>\n",
       "      <td>1</td>\n",
       "      <td>0</td>\n",
       "      <td>0</td>\n",
       "      <td>0</td>\n",
       "      <td>1</td>\n",
       "    </tr>\n",
       "    <tr>\n",
       "      <th>Danell Valdez</th>\n",
       "      <td>1</td>\n",
       "      <td>0</td>\n",
       "      <td>0</td>\n",
       "      <td>0</td>\n",
       "      <td>1</td>\n",
       "    </tr>\n",
       "    <tr>\n",
       "      <th>Jessica Rinehart</th>\n",
       "      <td>1</td>\n",
       "      <td>0</td>\n",
       "      <td>0</td>\n",
       "      <td>0</td>\n",
       "      <td>1</td>\n",
       "    </tr>\n",
       "    <tr>\n",
       "      <th>Nancy Clark</th>\n",
       "      <td>1</td>\n",
       "      <td>0</td>\n",
       "      <td>0</td>\n",
       "      <td>0</td>\n",
       "      <td>1</td>\n",
       "    </tr>\n",
       "    <tr>\n",
       "      <th>Andrea Brun</th>\n",
       "      <td>1</td>\n",
       "      <td>0</td>\n",
       "      <td>0</td>\n",
       "      <td>0</td>\n",
       "      <td>1</td>\n",
       "    </tr>\n",
       "    <tr>\n",
       "      <th>...</th>\n",
       "      <td>...</td>\n",
       "      <td>...</td>\n",
       "      <td>...</td>\n",
       "      <td>...</td>\n",
       "      <td>...</td>\n",
       "    </tr>\n",
       "    <tr>\n",
       "      <th>Joan Delisa</th>\n",
       "      <td>5</td>\n",
       "      <td>1</td>\n",
       "      <td>0</td>\n",
       "      <td>0</td>\n",
       "      <td>0</td>\n",
       "    </tr>\n",
       "    <tr>\n",
       "      <th>Helen Cordiner</th>\n",
       "      <td>6</td>\n",
       "      <td>1</td>\n",
       "      <td>0</td>\n",
       "      <td>0</td>\n",
       "      <td>0</td>\n",
       "    </tr>\n",
       "    <tr>\n",
       "      <th>Angela Finley</th>\n",
       "      <td>6</td>\n",
       "      <td>1</td>\n",
       "      <td>0</td>\n",
       "      <td>0</td>\n",
       "      <td>0</td>\n",
       "    </tr>\n",
       "    <tr>\n",
       "      <th>Christine Sullivan</th>\n",
       "      <td>7</td>\n",
       "      <td>1</td>\n",
       "      <td>0</td>\n",
       "      <td>0</td>\n",
       "      <td>0</td>\n",
       "    </tr>\n",
       "    <tr>\n",
       "      <th>Elissa Engledow</th>\n",
       "      <td>1</td>\n",
       "      <td>1</td>\n",
       "      <td>0</td>\n",
       "      <td>0</td>\n",
       "      <td>0</td>\n",
       "    </tr>\n",
       "  </tbody>\n",
       "</table>\n",
       "<p>2375 rows × 5 columns</p>\n",
       "</div>"
      ],
      "text/plain": [
       "                    Avg_Num_Products_Purchased  \\\n",
       "Name                                             \n",
       "Pamela Wright                                1   \n",
       "Danell Valdez                                1   \n",
       "Jessica Rinehart                             1   \n",
       "Nancy Clark                                  1   \n",
       "Andrea Brun                                  1   \n",
       "...                                        ...   \n",
       "Joan Delisa                                  5   \n",
       "Helen Cordiner                               6   \n",
       "Angela Finley                                6   \n",
       "Christine Sullivan                           7   \n",
       "Elissa Engledow                              1   \n",
       "\n",
       "                    Customer_Segment_Credit Card Only  \\\n",
       "Name                                                    \n",
       "Pamela Wright                                       0   \n",
       "Danell Valdez                                       0   \n",
       "Jessica Rinehart                                    0   \n",
       "Nancy Clark                                         0   \n",
       "Andrea Brun                                         0   \n",
       "...                                               ...   \n",
       "Joan Delisa                                         1   \n",
       "Helen Cordiner                                      1   \n",
       "Angela Finley                                       1   \n",
       "Christine Sullivan                                  1   \n",
       "Elissa Engledow                                     1   \n",
       "\n",
       "                    Customer_Segment_Loyalty Club Only  \\\n",
       "Name                                                     \n",
       "Pamela Wright                                        0   \n",
       "Danell Valdez                                        0   \n",
       "Jessica Rinehart                                     0   \n",
       "Nancy Clark                                          0   \n",
       "Andrea Brun                                          0   \n",
       "...                                                ...   \n",
       "Joan Delisa                                          0   \n",
       "Helen Cordiner                                       0   \n",
       "Angela Finley                                        0   \n",
       "Christine Sullivan                                   0   \n",
       "Elissa Engledow                                      0   \n",
       "\n",
       "                    Customer_Segment_Loyalty Club and Credit Card  \\\n",
       "Name                                                                \n",
       "Pamela Wright                                                   0   \n",
       "Danell Valdez                                                   0   \n",
       "Jessica Rinehart                                                0   \n",
       "Nancy Clark                                                     0   \n",
       "Andrea Brun                                                     0   \n",
       "...                                                           ...   \n",
       "Joan Delisa                                                     0   \n",
       "Helen Cordiner                                                  0   \n",
       "Angela Finley                                                   0   \n",
       "Christine Sullivan                                              0   \n",
       "Elissa Engledow                                                 0   \n",
       "\n",
       "                    Customer_Segment_Store Mailing List  \n",
       "Name                                                     \n",
       "Pamela Wright                                         1  \n",
       "Danell Valdez                                         1  \n",
       "Jessica Rinehart                                      1  \n",
       "Nancy Clark                                           1  \n",
       "Andrea Brun                                           1  \n",
       "...                                                 ...  \n",
       "Joan Delisa                                           0  \n",
       "Helen Cordiner                                        0  \n",
       "Angela Finley                                         0  \n",
       "Christine Sullivan                                    0  \n",
       "Elissa Engledow                                       0  \n",
       "\n",
       "[2375 rows x 5 columns]"
      ]
     },
     "execution_count": 29,
     "metadata": {},
     "output_type": "execute_result"
    }
   ],
   "source": [
    "#Construct your regression equation with the coeffients and intercept above with the following table and make sure\n",
    "# to exclude Customer_Segment_Credit Card Only since we used it as a base case.\n",
    "pd.get_dummies(df)"
   ]
  },
  {
   "cell_type": "code",
   "execution_count": 30,
   "id": "97731afa",
   "metadata": {},
   "outputs": [],
   "source": [
    "mailing = pd.read_excel('p1-mailinglist.xlsx', index_col=0)"
   ]
  },
  {
   "cell_type": "code",
   "execution_count": 31,
   "id": "4d9bd3c0",
   "metadata": {},
   "outputs": [
    {
     "data": {
      "text/plain": [
       "(250, 17)"
      ]
     },
     "execution_count": 31,
     "metadata": {},
     "output_type": "execute_result"
    }
   ],
   "source": [
    "mailing.shape"
   ]
  },
  {
   "cell_type": "code",
   "execution_count": 32,
   "id": "c96298d2",
   "metadata": {},
   "outputs": [],
   "source": [
    "1\n",
    "mailing['Avg_Num_Products_Purchased'] = mailing['Avg_Num_Products_Purchased'].fillna(mailing['Avg_Num_Products_Purchased'].mode()[0])"
   ]
  },
  {
   "cell_type": "code",
   "execution_count": 33,
   "id": "fa704481",
   "metadata": {},
   "outputs": [],
   "source": [
    "1\n",
    "mailing['Average Sale Amount'] = mailing['Average Sale Amount'].fillna(mailing['Average Sale Amount'].mode()[0])"
   ]
  },
  {
   "cell_type": "code",
   "execution_count": 34,
   "id": "11cdb920",
   "metadata": {},
   "outputs": [],
   "source": [
    "1\n",
    "mailing['Customer_Segment'] = mailing['Customer_Segment'].fillna(mailing['Customer_Segment'].mode()[0])"
   ]
  },
  {
   "cell_type": "code",
   "execution_count": 35,
   "id": "f5f313e6",
   "metadata": {},
   "outputs": [
    {
     "data": {
      "text/plain": [
       "Customer_Segment                         False\n",
       "Coefficient_Estimate_Customer_Segment     True\n",
       "Customer_ID                              False\n",
       "Address                                  False\n",
       "City                                     False\n",
       "State                                    False\n",
       "ZIP                                      False\n",
       "Store_Number                             False\n",
       "Avg_Num_Products_Purchased               False\n",
       "Avg_num_Coefficient                      False\n",
       "#_Years_as_Customer                      False\n",
       "Score_No                                 False\n",
       "Score_Yes                                False\n",
       "Unnamed: 14                               True\n",
       "Average Sale Amount                      False\n",
       "Expected Revenue                         False\n",
       "Profit                                   False\n",
       "dtype: bool"
      ]
     },
     "execution_count": 35,
     "metadata": {},
     "output_type": "execute_result"
    }
   ],
   "source": [
    "mailing.isnull().any()"
   ]
  },
  {
   "cell_type": "code",
   "execution_count": 36,
   "id": "52675299",
   "metadata": {},
   "outputs": [
    {
     "name": "stdout",
     "output_type": "stream",
     "text": [
      "(250, 2)\n",
      "(250,)\n"
     ]
    }
   ],
   "source": [
    "X_mailing = mailing[columns_to_include]\n",
    "y_mailing = mailing['Average Sale Amount']\n",
    "print(X_mailing.shape)\n",
    "print(y_mailing.shape)"
   ]
  },
  {
   "cell_type": "code",
   "execution_count": 37,
   "id": "ca7c35b4",
   "metadata": {},
   "outputs": [],
   "source": [
    "X_mailing = pd.get_dummies(X_mailing, drop_first = True)"
   ]
  },
  {
   "cell_type": "code",
   "execution_count": 38,
   "id": "cc7d9824",
   "metadata": {},
   "outputs": [],
   "source": [
    "X_mailing = X_mailing.values\n",
    "y_mailing = y_mailing.values"
   ]
  },
  {
   "cell_type": "code",
   "execution_count": 39,
   "id": "c4339c3a",
   "metadata": {},
   "outputs": [],
   "source": [
    "y_pred = regressor.predict(X_mailing)"
   ]
  },
  {
   "cell_type": "code",
   "execution_count": 40,
   "id": "d6b7a094",
   "metadata": {},
   "outputs": [
    {
     "name": "stdout",
     "output_type": "stream",
     "text": [
      "Done.\n",
      "R-squared: 99.53\n"
     ]
    }
   ],
   "source": [
    "R_squared = r2_score(y_mailing, y_pred)\n",
    "print(f'Done.\\nR-squared: {R_squared.round(4)*100}')"
   ]
  },
  {
   "cell_type": "markdown",
   "id": "6ef291bd",
   "metadata": {},
   "source": [
    "We have a perfect adjusted R-Squared as seen above."
   ]
  }
 ],
 "metadata": {
  "kernelspec": {
   "display_name": "Python 3",
   "language": "python",
   "name": "python3"
  },
  "language_info": {
   "codemirror_mode": {
    "name": "ipython",
    "version": 3
   },
   "file_extension": ".py",
   "mimetype": "text/x-python",
   "name": "python",
   "nbconvert_exporter": "python",
   "pygments_lexer": "ipython3",
   "version": "3.8.8"
  }
 },
 "nbformat": 4,
 "nbformat_minor": 5
}
